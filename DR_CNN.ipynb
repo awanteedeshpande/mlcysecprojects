{
  "nbformat": 4,
  "nbformat_minor": 0,
  "metadata": {
    "kernelspec": {
      "display_name": "Python 3",
      "language": "python",
      "name": "python3"
    },
    "language_info": {
      "codemirror_mode": {
        "name": "ipython",
        "version": 3
      },
      "file_extension": ".py",
      "mimetype": "text/x-python",
      "name": "python",
      "nbconvert_exporter": "python",
      "pygments_lexer": "ipython3",
      "version": "3.6.9"
    },
    "colab": {
      "name": "DR_CNN.ipynb",
      "provenance": []
    }
  },
  "cells": [
    {
      "cell_type": "markdown",
      "metadata": {
        "id": "tMw-5_vVF8fY",
        "colab_type": "text"
      },
      "source": [
        "# Multi-class Classification (Type 0-4) on Diabetic Retinopathy Dataset using CNN"
      ]
    },
    {
      "cell_type": "code",
      "metadata": {
        "id": "3TgvFiKpF8fZ",
        "colab_type": "code",
        "outputId": "665ae275-3740-44ab-cbe4-9264317f0d0b",
        "colab": {}
      },
      "source": [
        "import os\n",
        "import random\n",
        "import matplotlib\n",
        "import numpy as np\n",
        "import pandas as pd\n",
        "from PIL import Image\n",
        "from tqdm import tqdm\n",
        "from sklearn import metrics\n",
        "import matplotlib.pyplot as plt\n",
        "from keras.utils import np_utils\n",
        "from sklearn.utils import shuffle\n",
        "from keras.models import Sequential\n",
        "from keras.models import load_model\n",
        "from keras.models import load_model\n",
        "from keras.preprocessing import image\n",
        "from keras.optimizers import SGD,RMSprop,adam\n",
        "from sklearn.model_selection import train_test_split\n",
        "from keras.preprocessing.image import ImageDataGenerator\n",
        "from keras.layers.core import Dense, Dropout, Activation, Flatten\n",
        "from keras.layers.convolutional import Convolution2D, MaxPooling2D"
      ],
      "execution_count": 0,
      "outputs": [
        {
          "output_type": "stream",
          "text": [
            "Using TensorFlow backend.\n"
          ],
          "name": "stderr"
        }
      ]
    },
    {
      "cell_type": "code",
      "metadata": {
        "id": "W05TNpE1F8fa",
        "colab_type": "code",
        "colab": {}
      },
      "source": [
        "os.environ[\"CUDA_VISIBLE_DEVICES\"]=\"0\""
      ],
      "execution_count": 0,
      "outputs": []
    },
    {
      "cell_type": "code",
      "metadata": {
        "id": "aPE7tY9AF8fc",
        "colab_type": "code",
        "colab": {}
      },
      "source": [
        "from PIL import ImageFile\n",
        "ImageFile.LOAD_TRUNCATED_IMAGES = True"
      ],
      "execution_count": 0,
      "outputs": []
    },
    {
      "cell_type": "code",
      "metadata": {
        "id": "BHRVvcu2F8fe",
        "colab_type": "code",
        "outputId": "54ecf0b5-853a-44dd-bfd6-fe6201909f25",
        "colab": {}
      },
      "source": [
        "trainLabels = pd.read_csv(\"trainLabels.csv\")\n",
        "trainLabels.head()"
      ],
      "execution_count": 0,
      "outputs": [
        {
          "output_type": "execute_result",
          "data": {
            "text/html": [
              "<div>\n",
              "<style scoped>\n",
              "    .dataframe tbody tr th:only-of-type {\n",
              "        vertical-align: middle;\n",
              "    }\n",
              "\n",
              "    .dataframe tbody tr th {\n",
              "        vertical-align: top;\n",
              "    }\n",
              "\n",
              "    .dataframe thead th {\n",
              "        text-align: right;\n",
              "    }\n",
              "</style>\n",
              "<table border=\"1\" class=\"dataframe\">\n",
              "  <thead>\n",
              "    <tr style=\"text-align: right;\">\n",
              "      <th></th>\n",
              "      <th>image</th>\n",
              "      <th>level</th>\n",
              "    </tr>\n",
              "  </thead>\n",
              "  <tbody>\n",
              "    <tr>\n",
              "      <th>0</th>\n",
              "      <td>10_left</td>\n",
              "      <td>0</td>\n",
              "    </tr>\n",
              "    <tr>\n",
              "      <th>1</th>\n",
              "      <td>10_right</td>\n",
              "      <td>0</td>\n",
              "    </tr>\n",
              "    <tr>\n",
              "      <th>2</th>\n",
              "      <td>13_left</td>\n",
              "      <td>0</td>\n",
              "    </tr>\n",
              "    <tr>\n",
              "      <th>3</th>\n",
              "      <td>13_right</td>\n",
              "      <td>0</td>\n",
              "    </tr>\n",
              "    <tr>\n",
              "      <th>4</th>\n",
              "      <td>15_left</td>\n",
              "      <td>1</td>\n",
              "    </tr>\n",
              "  </tbody>\n",
              "</table>\n",
              "</div>"
            ],
            "text/plain": [
              "      image  level\n",
              "0   10_left      0\n",
              "1  10_right      0\n",
              "2   13_left      0\n",
              "3  13_right      0\n",
              "4   15_left      1"
            ]
          },
          "metadata": {
            "tags": []
          },
          "execution_count": 4
        }
      ]
    },
    {
      "cell_type": "markdown",
      "metadata": {
        "id": "lq2LOEQ7F8fh",
        "colab_type": "text"
      },
      "source": [
        "## Data Loader"
      ]
    },
    {
      "cell_type": "code",
      "metadata": {
        "id": "j0v1TC6dF8fh",
        "colab_type": "code",
        "colab": {}
      },
      "source": [
        "listing = os.listdir(\"dataset/train_data/train/\")\n",
        "np.size(listing)"
      ],
      "execution_count": 0,
      "outputs": []
    },
    {
      "cell_type": "code",
      "metadata": {
        "id": "w1iopjUAF8fj",
        "colab_type": "code",
        "colab": {}
      },
      "source": [
        "img_rows, img_cols = 200, 200"
      ],
      "execution_count": 0,
      "outputs": []
    },
    {
      "cell_type": "code",
      "metadata": {
        "id": "l-Lad4W2F8fk",
        "colab_type": "code",
        "colab": {}
      },
      "source": [
        "immatrix = []\n",
        "imlabel = []\n",
        "\n",
        "with tqdm(listing) as pbar:\n",
        "    for file in listing:\n",
        "        base = os.path.basename(\"dataset/train_data/train/\" + file)\n",
        "        fileName = os.path.splitext(base)[0]\n",
        "        imlabel.append(trainLabels.loc[trainLabels.image==fileName, 'level'].values[0])\n",
        "        im = Image.open(\"dataset/train_data/train/\" + file)   \n",
        "        img = im.resize((img_rows,img_cols))\n",
        "        gray = img.convert('L')\n",
        "        immatrix.append(np.array(gray).flatten())\n",
        "        pbar.update(1)\n",
        "\n",
        "immatrix = np.asarray(immatrix)\n",
        "imlabel = np.asarray(imlabel)"
      ],
      "execution_count": 0,
      "outputs": []
    },
    {
      "cell_type": "code",
      "metadata": {
        "id": "uFO0oWhxF8fl",
        "colab_type": "code",
        "colab": {}
      },
      "source": [
        "np.save('immatrix_1', immatrix)\n",
        "np.save('imlabel_1', imlabel)"
      ],
      "execution_count": 0,
      "outputs": []
    },
    {
      "cell_type": "code",
      "metadata": {
        "id": "kNHc_0WZF8fm",
        "colab_type": "code",
        "colab": {}
      },
      "source": [
        "immatrix = np.load('immatrix_1.npy')\n",
        "imlabel = np.load('imlabel_1.npy')"
      ],
      "execution_count": 0,
      "outputs": []
    },
    {
      "cell_type": "markdown",
      "metadata": {
        "id": "ettFLgDaF8fo",
        "colab_type": "text"
      },
      "source": [
        "## Data Preprocessing"
      ]
    },
    {
      "cell_type": "code",
      "metadata": {
        "id": "41I_0FPEF8fo",
        "colab_type": "code",
        "colab": {}
      },
      "source": [
        "data,Label = shuffle(immatrix,imlabel, random_state=2)\n",
        "train_data = [data,Label]"
      ],
      "execution_count": 0,
      "outputs": []
    },
    {
      "cell_type": "code",
      "metadata": {
        "id": "NVNq8KbkF8fp",
        "colab_type": "code",
        "outputId": "85134ae8-0ac5-43b1-a8f3-a22d50fa23d0",
        "colab": {}
      },
      "source": [
        "img=immatrix[200].reshape(img_rows,img_cols)\n",
        "plt.imshow(img)\n",
        "plt.imshow(img,cmap='gray')"
      ],
      "execution_count": 0,
      "outputs": [
        {
          "output_type": "execute_result",
          "data": {
            "text/plain": [
              "<matplotlib.image.AxesImage at 0x7f2f6d447c50>"
            ]
          },
          "metadata": {
            "tags": []
          },
          "execution_count": 9
        },
        {
          "output_type": "display_data",
          "data": {
            "image/png": "[encoded data removed]",
            "text/plain": [
              "<Figure size 432x288 with 1 Axes>"
            ]
          },
          "metadata": {
            "tags": [],
            "needs_background": "light"
          }
        }
      ]
    },
    {
      "cell_type": "code",
      "metadata": {
        "id": "aX0kvU0JF8fr",
        "colab_type": "code",
        "colab": {}
      },
      "source": [
        "batch_size = 48\n",
        "nb_classes = 5\n",
        "nb_epoch = 150\n",
        "nb_filters = 32\n",
        "nb_pool = 2\n",
        "nb_conv = 3\n",
        "\n",
        "(X, y) = (train_data[0],train_data[1])"
      ],
      "execution_count": 0,
      "outputs": []
    },
    {
      "cell_type": "code",
      "metadata": {
        "id": "VppJBzyhF8ft",
        "colab_type": "code",
        "outputId": "b6e6c933-d3e1-48dd-e1d7-b80b2bd00d71",
        "colab": {}
      },
      "source": [
        "X_train, X_test, y_train, y_test = train_test_split(X, y, test_size=0.2, random_state=4)\n",
        "\n",
        "print(X_train.shape)\n",
        "print(X_test.shape)\n",
        "\n",
        "X_train = X_train.reshape(X_train.shape[0], img_cols, img_rows, 1)\n",
        "X_test = X_test.reshape(X_test.shape[0], img_cols, img_rows, 1)\n",
        "\n",
        "X_train = X_train.astype('float32')\n",
        "X_test = X_test.astype('float32')\n",
        "\n",
        "X_train /= 255\n",
        "X_test /= 255\n",
        "\n",
        "print('X_train shape:', X_train.shape)\n",
        "print(X_train.shape[0], 'train samples')\n",
        "print(X_test.shape[0], 'test samples')"
      ],
      "execution_count": 0,
      "outputs": [
        {
          "output_type": "stream",
          "text": [
            "(2800, 40000)\n",
            "(700, 40000)\n",
            "X_train shape: (2800, 200, 200, 1)\n",
            "2800 train samples\n",
            "700 test samples\n"
          ],
          "name": "stdout"
        }
      ]
    },
    {
      "cell_type": "code",
      "metadata": {
        "id": "rn7yMMwyF8fu",
        "colab_type": "code",
        "colab": {}
      },
      "source": [
        "Y_train = np_utils.to_categorical(y_train, nb_classes)\n",
        "Y_test = np_utils.to_categorical(y_test, nb_classes)"
      ],
      "execution_count": 0,
      "outputs": []
    },
    {
      "cell_type": "markdown",
      "metadata": {
        "id": "sdpzujJZF8fw",
        "colab_type": "text"
      },
      "source": [
        "## CNN Model Distribution"
      ]
    },
    {
      "cell_type": "code",
      "metadata": {
        "id": "-MW4QcQ8F8fw",
        "colab_type": "code",
        "outputId": "048f3792-b543-4fdf-af3a-56683858bf7d",
        "colab": {}
      },
      "source": [
        "model = Sequential()\n",
        "\n",
        "model.add(Convolution2D(nb_filters, nb_conv, nb_conv,\n",
        "                        border_mode='valid',\n",
        "                        input_shape=(img_cols, img_rows, 1)))\n",
        "convout1 = Activation('relu')\n",
        "model.add(convout1)\n",
        "model.add(Convolution2D(nb_filters, nb_conv, nb_conv))\n",
        "convout2 = Activation('relu')\n",
        "model.add(convout2)\n",
        "model.add(MaxPooling2D(pool_size=(nb_pool, nb_pool)))\n",
        "model.add(Dropout(0.5))\n",
        "\n",
        "model.add(Flatten())\n",
        "model.add(Dense(128))\n",
        "model.add(Activation('relu'))\n",
        "model.add(Dropout(0.5))\n",
        "model.add(Dense(nb_classes))\n",
        "model.add(Activation('softmax'))\n",
        "model.compile(loss='categorical_crossentropy', optimizer='adadelta', metrics=['accuracy'])"
      ],
      "execution_count": 0,
      "outputs": [
        {
          "output_type": "stream",
          "text": [
            "/raid/mlcysec19/software/anaconda3/envs/pytorch/lib/python3.6/site-packages/ipykernel_launcher.py:5: UserWarning: Update your `Conv2D` call to the Keras 2 API: `Conv2D(32, (3, 3), input_shape=(200, 200,..., padding=\"valid\")`\n",
            "  \"\"\"\n",
            "/raid/mlcysec19/software/anaconda3/envs/pytorch/lib/python3.6/site-packages/ipykernel_launcher.py:8: UserWarning: Update your `Conv2D` call to the Keras 2 API: `Conv2D(32, (3, 3))`\n",
            "  \n"
          ],
          "name": "stderr"
        }
      ]
    },
    {
      "cell_type": "code",
      "metadata": {
        "id": "wq4P61onF8f4",
        "colab_type": "code",
        "outputId": "e9f14258-9d83-434c-eca3-cc6d79ab4915",
        "colab": {}
      },
      "source": [
        "print(model.summary())"
      ],
      "execution_count": 0,
      "outputs": [
        {
          "output_type": "stream",
          "text": [
            "Model: \"sequential_1\"\n",
            "_________________________________________________________________\n",
            "Layer (type)                 Output Shape              Param #   \n",
            "=================================================================\n",
            "conv2d_1 (Conv2D)            (None, 198, 198, 32)      320       \n",
            "_________________________________________________________________\n",
            "activation_1 (Activation)    (None, 198, 198, 32)      0         \n",
            "_________________________________________________________________\n",
            "conv2d_2 (Conv2D)            (None, 196, 196, 32)      9248      \n",
            "_________________________________________________________________\n",
            "activation_2 (Activation)    (None, 196, 196, 32)      0         \n",
            "_________________________________________________________________\n",
            "max_pooling2d_1 (MaxPooling2 (None, 98, 98, 32)        0         \n",
            "_________________________________________________________________\n",
            "dropout_1 (Dropout)          (None, 98, 98, 32)        0         \n",
            "_________________________________________________________________\n",
            "flatten_1 (Flatten)          (None, 307328)            0         \n",
            "_________________________________________________________________\n",
            "dense_1 (Dense)              (None, 128)               39338112  \n",
            "_________________________________________________________________\n",
            "activation_3 (Activation)    (None, 128)               0         \n",
            "_________________________________________________________________\n",
            "dropout_2 (Dropout)          (None, 128)               0         \n",
            "_________________________________________________________________\n",
            "dense_2 (Dense)              (None, 5)                 645       \n",
            "_________________________________________________________________\n",
            "activation_4 (Activation)    (None, 5)                 0         \n",
            "=================================================================\n",
            "Total params: 39,348,325\n",
            "Trainable params: 39,348,325\n",
            "Non-trainable params: 0\n",
            "_________________________________________________________________\n",
            "None\n"
          ],
          "name": "stdout"
        }
      ]
    },
    {
      "cell_type": "markdown",
      "metadata": {
        "id": "lH_8rQI2F8f6",
        "colab_type": "text"
      },
      "source": [
        "### Data Augmentation"
      ]
    },
    {
      "cell_type": "code",
      "metadata": {
        "id": "Oj6JIkzgF8f6",
        "colab_type": "code",
        "colab": {}
      },
      "source": [
        "validationdatagenerator = ImageDataGenerator()\n",
        "traindatagenerator = ImageDataGenerator(width_shift_range=0.1,height_shift_range=0.1,rotation_range=15,zoom_range=0.1 )\n",
        "\n",
        "train_generator=traindatagenerator.flow(X_train, Y_train, batch_size=batch_size) \n",
        "validation_generator=validationdatagenerator.flow(X_test, Y_test,batch_size=batch_size)"
      ],
      "execution_count": 0,
      "outputs": []
    },
    {
      "cell_type": "markdown",
      "metadata": {
        "id": "pPZFwPMZF8f7",
        "colab_type": "text"
      },
      "source": [
        "## Training"
      ]
    },
    {
      "cell_type": "code",
      "metadata": {
        "scrolled": true,
        "id": "ebcsePvsF8f9",
        "colab_type": "code",
        "outputId": "8f87b117-b16f-4010-c817-94c207983e6e",
        "colab": {}
      },
      "source": [
        "history_1 = model.fit_generator(train_generator, verbose=1, steps_per_epoch=int(len(X_train)/batch_size), epochs=nb_epoch, validation_data=validation_generator, validation_steps=int(len(X_test)/batch_size))"
      ],
      "execution_count": 0,
      "outputs": [
        {
          "output_type": "stream",
          "text": [
            "WARNING:tensorflow:From C:\\ProgramData\\Anaconda3\\lib\\site-packages\\tensorflow\\python\\ops\\math_ops.py:3066: to_int32 (from tensorflow.python.ops.math_ops) is deprecated and will be removed in a future version.\n",
            "Instructions for updating:\n",
            "Use tf.cast instead.\n",
            "Epoch 1/150\n",
            "58/58 [==============================] - 17s 300ms/step - loss: 1.6919 - accuracy: 0.2384 - val_loss: 1.6305 - val_accuracy: 0.3095\n",
            "Epoch 2/150\n",
            "58/58 [==============================] - 15s 263ms/step - loss: 1.5875 - accuracy: 0.2609 - val_loss: 1.5759 - val_accuracy: 0.3221\n",
            "Epoch 3/150\n",
            "58/58 [==============================] - 16s 273ms/step - loss: 1.5767 - accuracy: 0.2823 - val_loss: 1.5639 - val_accuracy: 0.3221\n",
            "Epoch 4/150\n",
            "58/58 [==============================] - 17s 286ms/step - loss: 1.5444 - accuracy: 0.2976 - val_loss: 1.6681 - val_accuracy: 0.2607\n",
            "Epoch 5/150\n",
            "58/58 [==============================] - 19s 328ms/step - loss: 1.5367 - accuracy: 0.3114 - val_loss: 1.5424 - val_accuracy: 0.3620\n",
            "Epoch 6/150\n",
            "58/58 [==============================] - 20s 344ms/step - loss: 1.5111 - accuracy: 0.3147 - val_loss: 1.4843 - val_accuracy: 0.3635\n",
            "Epoch 7/150\n",
            "58/58 [==============================] - 22s 385ms/step - loss: 1.5187 - accuracy: 0.3240 - val_loss: 1.5464 - val_accuracy: 0.3528\n",
            "Epoch 8/150\n",
            "58/58 [==============================] - 26s 448ms/step - loss: 1.5165 - accuracy: 0.3176 - val_loss: 1.5763 - val_accuracy: 0.3773\n",
            "Epoch 9/150\n",
            "58/58 [==============================] - 19s 322ms/step - loss: 1.4895 - accuracy: 0.3358 - val_loss: 1.3697 - val_accuracy: 0.3727\n",
            "Epoch 10/150\n",
            "58/58 [==============================] - 19s 330ms/step - loss: 1.4902 - accuracy: 0.3290 - val_loss: 1.4936 - val_accuracy: 0.3880\n",
            "Epoch 11/150\n",
            "58/58 [==============================] - 20s 339ms/step - loss: 1.4934 - accuracy: 0.3343 - val_loss: 1.3880 - val_accuracy: 0.3788\n",
            "Epoch 12/150\n",
            "58/58 [==============================] - 27s 462ms/step - loss: 1.4925 - accuracy: 0.3379 - val_loss: 1.4706 - val_accuracy: 0.3574\n",
            "Epoch 13/150\n",
            "58/58 [==============================] - 25s 433ms/step - loss: 1.4815 - accuracy: 0.3332 - val_loss: 1.4795 - val_accuracy: 0.4049\n",
            "Epoch 14/150\n",
            "58/58 [==============================] - 24s 406ms/step - loss: 1.4826 - accuracy: 0.3387 - val_loss: 1.4836 - val_accuracy: 0.3957\n",
            "Epoch 15/150\n",
            "58/58 [==============================] - 33s 572ms/step - loss: 1.4649 - accuracy: 0.3467 - val_loss: 1.4820 - val_accuracy: 0.3865\n",
            "Epoch 16/150\n",
            "58/58 [==============================] - 34s 589ms/step - loss: 1.4851 - accuracy: 0.3470 - val_loss: 1.3212 - val_accuracy: 0.3690\n",
            "Epoch 17/150\n",
            "58/58 [==============================] - 32s 552ms/step - loss: 1.4925 - accuracy: 0.3347 - val_loss: 1.3787 - val_accuracy: 0.3911\n",
            "Epoch 18/150\n",
            "58/58 [==============================] - 31s 537ms/step - loss: 1.4825 - accuracy: 0.3467 - val_loss: 1.3669 - val_accuracy: 0.4080\n",
            "Epoch 19/150\n",
            "58/58 [==============================] - 32s 560ms/step - loss: 1.4765 - accuracy: 0.3510 - val_loss: 1.4227 - val_accuracy: 0.3742\n",
            "Epoch 20/150\n",
            "58/58 [==============================] - 38s 655ms/step - loss: 1.4703 - accuracy: 0.3474 - val_loss: 1.5851 - val_accuracy: 0.3512\n",
            "Epoch 21/150\n",
            "58/58 [==============================] - 35s 596ms/step - loss: 1.4719 - accuracy: 0.3597 - val_loss: 1.5195 - val_accuracy: 0.3880\n",
            "Epoch 22/150\n",
            "58/58 [==============================] - 32s 556ms/step - loss: 1.4711 - accuracy: 0.3492 - val_loss: 1.3153 - val_accuracy: 0.3589\n",
            "Epoch 23/150\n",
            "58/58 [==============================] - 36s 614ms/step - loss: 1.4803 - accuracy: 0.3455 - val_loss: 1.4146 - val_accuracy: 0.3957\n",
            "Epoch 24/150\n",
            "58/58 [==============================] - 31s 538ms/step - loss: 1.4735 - accuracy: 0.3681 - val_loss: 1.3772 - val_accuracy: 0.3635\n",
            "Epoch 25/150\n",
            "58/58 [==============================] - 33s 572ms/step - loss: 1.4601 - accuracy: 0.3680 - val_loss: 1.3425 - val_accuracy: 0.3727\n",
            "Epoch 26/150\n",
            "58/58 [==============================] - 33s 572ms/step - loss: 1.4632 - accuracy: 0.3699 - val_loss: 1.3977 - val_accuracy: 0.3988\n",
            "Epoch 27/150\n",
            "58/58 [==============================] - 33s 561ms/step - loss: 1.4569 - accuracy: 0.3596 - val_loss: 1.2901 - val_accuracy: 0.3957\n",
            "Epoch 28/150\n",
            "58/58 [==============================] - 31s 528ms/step - loss: 1.4506 - accuracy: 0.3673 - val_loss: 1.3485 - val_accuracy: 0.3896\n",
            "Epoch 29/150\n",
            "58/58 [==============================] - 32s 557ms/step - loss: 1.4691 - accuracy: 0.3549 - val_loss: 1.4593 - val_accuracy: 0.3865\n",
            "Epoch 30/150\n",
            "58/58 [==============================] - 34s 586ms/step - loss: 1.4591 - accuracy: 0.3674 - val_loss: 1.5248 - val_accuracy: 0.4233\n",
            "Epoch 31/150\n",
            "58/58 [==============================] - 32s 550ms/step - loss: 1.4608 - accuracy: 0.3574 - val_loss: 1.3866 - val_accuracy: 0.3943\n",
            "Epoch 32/150\n",
            "58/58 [==============================] - 33s 563ms/step - loss: 1.4634 - accuracy: 0.3583 - val_loss: 1.3118 - val_accuracy: 0.4049\n",
            "Epoch 33/150\n",
            "58/58 [==============================] - 31s 542ms/step - loss: 1.4497 - accuracy: 0.3621 - val_loss: 1.4222 - val_accuracy: 0.4325\n",
            "Epoch 34/150\n",
            "58/58 [==============================] - 32s 547ms/step - loss: 1.4559 - accuracy: 0.3641 - val_loss: 1.3198 - val_accuracy: 0.3957\n",
            "Epoch 35/150\n",
            "58/58 [==============================] - 31s 530ms/step - loss: 1.4599 - accuracy: 0.3663 - val_loss: 1.4945 - val_accuracy: 0.3926\n",
            "Epoch 36/150\n",
            "58/58 [==============================] - 31s 529ms/step - loss: 1.4515 - accuracy: 0.3637 - val_loss: 1.4583 - val_accuracy: 0.3819\n",
            "Epoch 37/150\n",
            "58/58 [==============================] - 31s 528ms/step - loss: 1.4455 - accuracy: 0.3658 - val_loss: 1.4957 - val_accuracy: 0.3635\n",
            "Epoch 38/150\n",
            "58/58 [==============================] - 32s 548ms/step - loss: 1.4547 - accuracy: 0.3624 - val_loss: 1.4513 - val_accuracy: 0.4018\n",
            "Epoch 39/150\n",
            "58/58 [==============================] - 31s 531ms/step - loss: 1.4558 - accuracy: 0.3656 - val_loss: 1.3557 - val_accuracy: 0.4141\n",
            "Epoch 40/150\n",
            "58/58 [==============================] - 31s 535ms/step - loss: 1.4536 - accuracy: 0.3614 - val_loss: 1.4785 - val_accuracy: 0.4279\n",
            "Epoch 41/150\n",
            "58/58 [==============================] - 31s 541ms/step - loss: 1.4525 - accuracy: 0.3656 - val_loss: 1.4861 - val_accuracy: 0.4218\n",
            "Epoch 42/150\n",
            "58/58 [==============================] - 32s 552ms/step - loss: 1.4485 - accuracy: 0.3851 - val_loss: 1.3118 - val_accuracy: 0.4264\n",
            "Epoch 43/150\n",
            "58/58 [==============================] - 33s 569ms/step - loss: 1.4213 - accuracy: 0.3964 - val_loss: 1.3996 - val_accuracy: 0.3865\n",
            "Epoch 44/150\n",
            "58/58 [==============================] - 31s 528ms/step - loss: 1.4431 - accuracy: 0.3820 - val_loss: 1.2837 - val_accuracy: 0.4433\n",
            "Epoch 45/150\n",
            "58/58 [==============================] - 31s 527ms/step - loss: 1.4371 - accuracy: 0.3854 - val_loss: 1.4462 - val_accuracy: 0.4264\n",
            "Epoch 46/150\n",
            "58/58 [==============================] - 30s 522ms/step - loss: 1.4360 - accuracy: 0.3681 - val_loss: 1.2468 - val_accuracy: 0.4226\n",
            "Epoch 47/150\n",
            "58/58 [==============================] - 30s 526ms/step - loss: 1.4452 - accuracy: 0.3754 - val_loss: 1.5251 - val_accuracy: 0.4049\n",
            "Epoch 48/150\n",
            "58/58 [==============================] - 30s 509ms/step - loss: 1.4399 - accuracy: 0.3794 - val_loss: 1.4138 - val_accuracy: 0.4340\n",
            "Epoch 49/150\n",
            "58/58 [==============================] - 32s 553ms/step - loss: 1.4351 - accuracy: 0.3884 - val_loss: 1.3613 - val_accuracy: 0.4356\n",
            "Epoch 50/150\n",
            "58/58 [==============================] - 31s 531ms/step - loss: 1.4371 - accuracy: 0.3860 - val_loss: 1.3422 - val_accuracy: 0.4172\n",
            "Epoch 51/150\n",
            "58/58 [==============================] - 29s 498ms/step - loss: 1.4202 - accuracy: 0.3908 - val_loss: 1.3078 - val_accuracy: 0.4156\n",
            "Epoch 52/150\n",
            "58/58 [==============================] - 29s 494ms/step - loss: 1.4304 - accuracy: 0.3877 - val_loss: 1.2503 - val_accuracy: 0.4187\n",
            "Epoch 53/150\n",
            "58/58 [==============================] - 30s 514ms/step - loss: 1.4416 - accuracy: 0.3681 - val_loss: 1.3869 - val_accuracy: 0.4371\n",
            "Epoch 54/150\n",
            "58/58 [==============================] - 29s 493ms/step - loss: 1.4304 - accuracy: 0.3972 - val_loss: 1.3479 - val_accuracy: 0.4126\n",
            "Epoch 55/150\n",
            "58/58 [==============================] - 28s 489ms/step - loss: 1.4158 - accuracy: 0.3945 - val_loss: 1.5399 - val_accuracy: 0.4417\n"
          ],
          "name": "stdout"
        },
        {
          "output_type": "stream",
          "text": [
            "Epoch 56/150\n",
            "58/58 [==============================] - 29s 499ms/step - loss: 1.4420 - accuracy: 0.3876 - val_loss: 1.4118 - val_accuracy: 0.3911\n",
            "Epoch 57/150\n",
            "58/58 [==============================] - 29s 503ms/step - loss: 1.4230 - accuracy: 0.3844 - val_loss: 1.3895 - val_accuracy: 0.4632\n",
            "Epoch 58/150\n",
            "58/58 [==============================] - 29s 506ms/step - loss: 1.4244 - accuracy: 0.3823 - val_loss: 1.2270 - val_accuracy: 0.4248\n",
            "Epoch 59/150\n",
            "58/58 [==============================] - 31s 539ms/step - loss: 1.4144 - accuracy: 0.3852 - val_loss: 1.3692 - val_accuracy: 0.4294\n",
            "Epoch 60/150\n",
            "58/58 [==============================] - 34s 586ms/step - loss: 1.4116 - accuracy: 0.3797 - val_loss: 1.1901 - val_accuracy: 0.4479\n",
            "Epoch 61/150\n",
            "58/58 [==============================] - 38s 653ms/step - loss: 1.4239 - accuracy: 0.4008 - val_loss: 1.4093 - val_accuracy: 0.4375\n",
            "Epoch 62/150\n",
            "58/58 [==============================] - 40s 689ms/step - loss: 1.4360 - accuracy: 0.3765 - val_loss: 1.4511 - val_accuracy: 0.4540\n",
            "Epoch 63/150\n",
            "58/58 [==============================] - 29s 499ms/step - loss: 1.4244 - accuracy: 0.3801 - val_loss: 1.2300 - val_accuracy: 0.4294\n",
            "Epoch 64/150\n",
            "58/58 [==============================] - 30s 522ms/step - loss: 1.4131 - accuracy: 0.3904 - val_loss: 1.3587 - val_accuracy: 0.4509\n",
            "Epoch 65/150\n",
            "58/58 [==============================] - 30s 518ms/step - loss: 1.4231 - accuracy: 0.3798 - val_loss: 1.4008 - val_accuracy: 0.4479\n",
            "Epoch 66/150\n",
            "58/58 [==============================] - 28s 489ms/step - loss: 1.4043 - accuracy: 0.4041 - val_loss: 1.3745 - val_accuracy: 0.4080\n",
            "Epoch 67/150\n",
            "58/58 [==============================] - 29s 493ms/step - loss: 1.4163 - accuracy: 0.3797 - val_loss: 1.3767 - val_accuracy: 0.4433\n",
            "Epoch 68/150\n",
            "58/58 [==============================] - 29s 494ms/step - loss: 1.4102 - accuracy: 0.4015 - val_loss: 1.4441 - val_accuracy: 0.4310\n",
            "Epoch 69/150\n",
            "58/58 [==============================] - 33s 564ms/step - loss: 1.4164 - accuracy: 0.3987 - val_loss: 1.4800 - val_accuracy: 0.4617\n",
            "Epoch 70/150\n",
            "58/58 [==============================] - 31s 526ms/step - loss: 1.3953 - accuracy: 0.4055 - val_loss: 1.4360 - val_accuracy: 0.4202\n",
            "Epoch 71/150\n",
            "58/58 [==============================] - 29s 501ms/step - loss: 1.4061 - accuracy: 0.4018 - val_loss: 1.3937 - val_accuracy: 0.4417\n",
            "Epoch 72/150\n",
            "58/58 [==============================] - 28s 488ms/step - loss: 1.4193 - accuracy: 0.3877 - val_loss: 1.3940 - val_accuracy: 0.4448\n",
            "Epoch 73/150\n",
            "58/58 [==============================] - 30s 519ms/step - loss: 1.4098 - accuracy: 0.4008 - val_loss: 1.2355 - val_accuracy: 0.4509\n",
            "Epoch 74/150\n",
            "58/58 [==============================] - 31s 527ms/step - loss: 1.3986 - accuracy: 0.4059 - val_loss: 1.2516 - val_accuracy: 0.4463\n",
            "Epoch 75/150\n",
            "58/58 [==============================] - 29s 507ms/step - loss: 1.4153 - accuracy: 0.3914 - val_loss: 1.2082 - val_accuracy: 0.4340\n",
            "Epoch 76/150\n",
            "58/58 [==============================] - 35s 598ms/step - loss: 1.4031 - accuracy: 0.3946 - val_loss: 1.4330 - val_accuracy: 0.4345\n",
            "Epoch 77/150\n",
            "58/58 [==============================] - 30s 519ms/step - loss: 1.4094 - accuracy: 0.4012 - val_loss: 1.2154 - val_accuracy: 0.4448\n",
            "Epoch 78/150\n",
            "58/58 [==============================] - 29s 500ms/step - loss: 1.3916 - accuracy: 0.4156 - val_loss: 1.2537 - val_accuracy: 0.4479\n",
            "Epoch 79/150\n",
            "58/58 [==============================] - 29s 504ms/step - loss: 1.4035 - accuracy: 0.4040 - val_loss: 1.2378 - val_accuracy: 0.4279\n",
            "Epoch 80/150\n",
            "58/58 [==============================] - 30s 514ms/step - loss: 1.3793 - accuracy: 0.4099 - val_loss: 1.3421 - val_accuracy: 0.4248\n",
            "Epoch 81/150\n",
            "58/58 [==============================] - 31s 543ms/step - loss: 1.4055 - accuracy: 0.3775 - val_loss: 1.3665 - val_accuracy: 0.4509\n",
            "Epoch 82/150\n",
            "58/58 [==============================] - 31s 533ms/step - loss: 1.3955 - accuracy: 0.3993 - val_loss: 1.3271 - val_accuracy: 0.4540\n",
            "Epoch 83/150\n",
            "58/58 [==============================] - 30s 515ms/step - loss: 1.3999 - accuracy: 0.4040 - val_loss: 1.3575 - val_accuracy: 0.4402\n",
            "Epoch 84/150\n",
            "58/58 [==============================] - 30s 521ms/step - loss: 1.4062 - accuracy: 0.3964 - val_loss: 1.4238 - val_accuracy: 0.4448\n",
            "Epoch 85/150\n",
            "58/58 [==============================] - 29s 502ms/step - loss: 1.3880 - accuracy: 0.4174 - val_loss: 1.1866 - val_accuracy: 0.4433\n",
            "Epoch 86/150\n",
            "58/58 [==============================] - 24s 418ms/step - loss: 1.3875 - accuracy: 0.4121 - val_loss: 1.4183 - val_accuracy: 0.4156\n",
            "Epoch 87/150\n",
            "58/58 [==============================] - 18s 310ms/step - loss: 1.4028 - accuracy: 0.4118 - val_loss: 1.4518 - val_accuracy: 0.4525\n",
            "Epoch 88/150\n",
            "58/58 [==============================] - 19s 332ms/step - loss: 1.3679 - accuracy: 0.4185 - val_loss: 1.3479 - val_accuracy: 0.4310\n",
            "Epoch 89/150\n",
            "58/58 [==============================] - 18s 309ms/step - loss: 1.4064 - accuracy: 0.4026 - val_loss: 1.5241 - val_accuracy: 0.4294\n",
            "Epoch 90/150\n",
            "58/58 [==============================] - 18s 314ms/step - loss: 1.4019 - accuracy: 0.3865 - val_loss: 1.2059 - val_accuracy: 0.4218\n",
            "Epoch 91/150\n",
            "58/58 [==============================] - 18s 314ms/step - loss: 1.3744 - accuracy: 0.4161 - val_loss: 1.3401 - val_accuracy: 0.4271\n",
            "Epoch 92/150\n",
            "58/58 [==============================] - 18s 311ms/step - loss: 1.3863 - accuracy: 0.4162 - val_loss: 1.3801 - val_accuracy: 0.4340\n",
            "Epoch 93/150\n",
            "58/58 [==============================] - 18s 316ms/step - loss: 1.3835 - accuracy: 0.4102 - val_loss: 1.2778 - val_accuracy: 0.4448\n",
            "Epoch 94/150\n",
            "58/58 [==============================] - 18s 313ms/step - loss: 1.3927 - accuracy: 0.4062 - val_loss: 1.2827 - val_accuracy: 0.4479\n",
            "Epoch 95/150\n",
            "58/58 [==============================] - 18s 313ms/step - loss: 1.3789 - accuracy: 0.4228 - val_loss: 1.3437 - val_accuracy: 0.4601\n",
            "Epoch 96/150\n",
            "58/58 [==============================] - 18s 313ms/step - loss: 1.3804 - accuracy: 0.4168 - val_loss: 1.3638 - val_accuracy: 0.4571\n",
            "Epoch 97/150\n",
            "58/58 [==============================] - 18s 315ms/step - loss: 1.3756 - accuracy: 0.4163 - val_loss: 1.4096 - val_accuracy: 0.4018\n",
            "Epoch 98/150\n",
            "58/58 [==============================] - 18s 316ms/step - loss: 1.3988 - accuracy: 0.4150 - val_loss: 1.3305 - val_accuracy: 0.4279\n",
            "Epoch 99/150\n",
            "58/58 [==============================] - 18s 311ms/step - loss: 1.3746 - accuracy: 0.4143 - val_loss: 1.5488 - val_accuracy: 0.4018\n",
            "Epoch 100/150\n",
            "58/58 [==============================] - 19s 323ms/step - loss: 1.3742 - accuracy: 0.4203 - val_loss: 1.3306 - val_accuracy: 0.4433\n",
            "Epoch 101/150\n",
            "58/58 [==============================] - 18s 315ms/step - loss: 1.3825 - accuracy: 0.4211 - val_loss: 1.3278 - val_accuracy: 0.4663\n",
            "Epoch 102/150\n",
            "58/58 [==============================] - 18s 317ms/step - loss: 1.3726 - accuracy: 0.4179 - val_loss: 1.1921 - val_accuracy: 0.4433\n",
            "Epoch 103/150\n",
            "58/58 [==============================] - 18s 312ms/step - loss: 1.3634 - accuracy: 0.4342 - val_loss: 1.3374 - val_accuracy: 0.4555\n",
            "Epoch 104/150\n",
            "58/58 [==============================] - 18s 317ms/step - loss: 1.3700 - accuracy: 0.4221 - val_loss: 1.6012 - val_accuracy: 0.4233\n",
            "Epoch 105/150\n",
            "58/58 [==============================] - 18s 315ms/step - loss: 1.3744 - accuracy: 0.4110 - val_loss: 1.3444 - val_accuracy: 0.4417\n",
            "Epoch 106/150\n",
            "58/58 [==============================] - 18s 317ms/step - loss: 1.3735 - accuracy: 0.4066 - val_loss: 1.2175 - val_accuracy: 0.4330\n",
            "Epoch 107/150\n",
            "58/58 [==============================] - 18s 311ms/step - loss: 1.3738 - accuracy: 0.4180 - val_loss: 1.2643 - val_accuracy: 0.4340\n",
            "Epoch 108/150\n",
            "58/58 [==============================] - 18s 316ms/step - loss: 1.3632 - accuracy: 0.4244 - val_loss: 1.3295 - val_accuracy: 0.4448\n",
            "Epoch 109/150\n",
            "58/58 [==============================] - 18s 316ms/step - loss: 1.3745 - accuracy: 0.4138 - val_loss: 1.4190 - val_accuracy: 0.4356\n",
            "Epoch 110/150\n",
            "58/58 [==============================] - 19s 323ms/step - loss: 1.3789 - accuracy: 0.4161 - val_loss: 1.4274 - val_accuracy: 0.4448\n",
            "Epoch 111/150\n",
            "58/58 [==============================] - 18s 314ms/step - loss: 1.3610 - accuracy: 0.4230 - val_loss: 1.2901 - val_accuracy: 0.4509\n",
            "Epoch 112/150\n",
            "58/58 [==============================] - 18s 316ms/step - loss: 1.3509 - accuracy: 0.4251 - val_loss: 1.2750 - val_accuracy: 0.4325\n",
            "Epoch 113/150\n",
            "58/58 [==============================] - 19s 319ms/step - loss: 1.3693 - accuracy: 0.4273 - val_loss: 1.1641 - val_accuracy: 0.4279\n",
            "Epoch 114/150\n",
            "58/58 [==============================] - 18s 314ms/step - loss: 1.3574 - accuracy: 0.4320 - val_loss: 1.2027 - val_accuracy: 0.4463\n",
            "Epoch 115/150\n",
            "58/58 [==============================] - 18s 316ms/step - loss: 1.3808 - accuracy: 0.4233 - val_loss: 1.4059 - val_accuracy: 0.4356\n",
            "Epoch 116/150\n",
            "58/58 [==============================] - 19s 321ms/step - loss: 1.3581 - accuracy: 0.4204 - val_loss: 1.1774 - val_accuracy: 0.4540\n",
            "Epoch 117/150\n",
            "58/58 [==============================] - 18s 317ms/step - loss: 1.3611 - accuracy: 0.4233 - val_loss: 1.2338 - val_accuracy: 0.4340\n",
            "Epoch 118/150\n",
            "58/58 [==============================] - 19s 320ms/step - loss: 1.3751 - accuracy: 0.4190 - val_loss: 1.3394 - val_accuracy: 0.4479\n",
            "Epoch 119/150\n",
            "58/58 [==============================] - 19s 321ms/step - loss: 1.3603 - accuracy: 0.4248 - val_loss: 1.3002 - val_accuracy: 0.4264\n",
            "Epoch 120/150\n",
            "58/58 [==============================] - 19s 322ms/step - loss: 1.3717 - accuracy: 0.4179 - val_loss: 1.3829 - val_accuracy: 0.4433\n",
            "Epoch 121/150\n",
            "58/58 [==============================] - 19s 320ms/step - loss: 1.3647 - accuracy: 0.4208 - val_loss: 1.3982 - val_accuracy: 0.4122\n",
            "Epoch 122/150\n",
            "58/58 [==============================] - 18s 315ms/step - loss: 1.3488 - accuracy: 0.4273 - val_loss: 1.4033 - val_accuracy: 0.4494\n",
            "Epoch 123/150\n",
            "58/58 [==============================] - 18s 317ms/step - loss: 1.3506 - accuracy: 0.4371 - val_loss: 1.3441 - val_accuracy: 0.4218\n",
            "Epoch 124/150\n",
            "58/58 [==============================] - 18s 318ms/step - loss: 1.3631 - accuracy: 0.4192 - val_loss: 1.2762 - val_accuracy: 0.4356\n",
            "Epoch 125/150\n",
            "58/58 [==============================] - 18s 313ms/step - loss: 1.3545 - accuracy: 0.4357 - val_loss: 1.3312 - val_accuracy: 0.4586\n",
            "Epoch 126/150\n",
            "58/58 [==============================] - 18s 314ms/step - loss: 1.3412 - accuracy: 0.4313 - val_loss: 1.2012 - val_accuracy: 0.4417\n",
            "Epoch 127/150\n",
            "58/58 [==============================] - 18s 318ms/step - loss: 1.3586 - accuracy: 0.4317 - val_loss: 1.3850 - val_accuracy: 0.4724\n",
            "Epoch 128/150\n",
            "58/58 [==============================] - 18s 314ms/step - loss: 1.3556 - accuracy: 0.4291 - val_loss: 1.2705 - val_accuracy: 0.4540\n",
            "Epoch 129/150\n",
            "58/58 [==============================] - 18s 316ms/step - loss: 1.3451 - accuracy: 0.4324 - val_loss: 1.3611 - val_accuracy: 0.4156\n",
            "Epoch 130/150\n",
            "58/58 [==============================] - 18s 316ms/step - loss: 1.3434 - accuracy: 0.4411 - val_loss: 1.3226 - val_accuracy: 0.4770\n",
            "Epoch 131/150\n",
            "58/58 [==============================] - 18s 313ms/step - loss: 1.3334 - accuracy: 0.4495 - val_loss: 1.3675 - val_accuracy: 0.4463\n",
            "Epoch 132/150\n",
            "58/58 [==============================] - 18s 317ms/step - loss: 1.3286 - accuracy: 0.4433 - val_loss: 1.1593 - val_accuracy: 0.4525\n",
            "Epoch 133/150\n",
            "58/58 [==============================] - 18s 313ms/step - loss: 1.3282 - accuracy: 0.4404 - val_loss: 1.3768 - val_accuracy: 0.4571\n",
            "Epoch 134/150\n",
            "58/58 [==============================] - 18s 317ms/step - loss: 1.3226 - accuracy: 0.4361 - val_loss: 1.2193 - val_accuracy: 0.4617\n",
            "Epoch 135/150\n",
            "58/58 [==============================] - 18s 311ms/step - loss: 1.3069 - accuracy: 0.4522 - val_loss: 1.1959 - val_accuracy: 0.4632\n",
            "Epoch 136/150\n",
            "58/58 [==============================] - 18s 314ms/step - loss: 1.3150 - accuracy: 0.4379 - val_loss: 1.2690 - val_accuracy: 0.4732\n",
            "Epoch 137/150\n",
            "58/58 [==============================] - 18s 314ms/step - loss: 1.3127 - accuracy: 0.4357 - val_loss: 1.2091 - val_accuracy: 0.4724\n",
            "Epoch 138/150\n",
            "58/58 [==============================] - 18s 316ms/step - loss: 1.3199 - accuracy: 0.4455 - val_loss: 1.4170 - val_accuracy: 0.4801\n",
            "Epoch 139/150\n",
            "58/58 [==============================] - 19s 319ms/step - loss: 1.2902 - accuracy: 0.4608 - val_loss: 1.2234 - val_accuracy: 0.4831\n",
            "Epoch 140/150\n",
            "58/58 [==============================] - 18s 316ms/step - loss: 1.2833 - accuracy: 0.4600 - val_loss: 1.1698 - val_accuracy: 0.4770\n",
            "Epoch 141/150\n",
            "58/58 [==============================] - 18s 318ms/step - loss: 1.2952 - accuracy: 0.4629 - val_loss: 1.2149 - val_accuracy: 0.4801\n",
            "Epoch 142/150\n",
            "58/58 [==============================] - 18s 316ms/step - loss: 1.3077 - accuracy: 0.4499 - val_loss: 1.2690 - val_accuracy: 0.4693\n",
            "Epoch 143/150\n",
            "58/58 [==============================] - 19s 321ms/step - loss: 1.2829 - accuracy: 0.4491 - val_loss: 1.2899 - val_accuracy: 0.4862\n",
            "Epoch 144/150\n",
            "58/58 [==============================] - 19s 319ms/step - loss: 1.2798 - accuracy: 0.4608 - val_loss: 1.2476 - val_accuracy: 0.4831\n",
            "Epoch 145/150\n",
            "58/58 [==============================] - 19s 323ms/step - loss: 1.3001 - accuracy: 0.4547 - val_loss: 1.2276 - val_accuracy: 0.4770\n",
            "Epoch 146/150\n",
            "58/58 [==============================] - 18s 313ms/step - loss: 1.2824 - accuracy: 0.4548 - val_loss: 1.4178 - val_accuracy: 0.4908\n",
            "Epoch 147/150\n",
            "58/58 [==============================] - 18s 317ms/step - loss: 1.2569 - accuracy: 0.4826 - val_loss: 1.2774 - val_accuracy: 0.4785\n",
            "Epoch 148/150\n",
            "58/58 [==============================] - 18s 316ms/step - loss: 1.2901 - accuracy: 0.4618 - val_loss: 1.3901 - val_accuracy: 0.4433\n",
            "Epoch 149/150\n",
            "58/58 [==============================] - 19s 321ms/step - loss: 1.2941 - accuracy: 0.4591 - val_loss: 1.0879 - val_accuracy: 0.4954\n",
            "Epoch 150/150\n",
            "58/58 [==============================] - 18s 314ms/step - loss: 1.2536 - accuracy: 0.4835 - val_loss: 1.1794 - val_accuracy: 0.4847\n"
          ],
          "name": "stdout"
        }
      ]
    },
    {
      "cell_type": "code",
      "metadata": {
        "id": "nuP_0lnjF8f-",
        "colab_type": "code",
        "outputId": "a970160b-6cd0-4d95-ba92-f3a1a6b6f151",
        "colab": {}
      },
      "source": [
        "model.save(\"model_48_150.h5\")\n",
        "print(\"Saved model to disk\")"
      ],
      "execution_count": 0,
      "outputs": [
        {
          "output_type": "stream",
          "text": [
            "Saved model to disk\n"
          ],
          "name": "stdout"
        }
      ]
    },
    {
      "cell_type": "markdown",
      "metadata": {
        "id": "gzwzNxM8F8gA",
        "colab_type": "text"
      },
      "source": [
        "### Training Loss Plot"
      ]
    },
    {
      "cell_type": "code",
      "metadata": {
        "id": "WVokpo10F8gA",
        "colab_type": "code",
        "outputId": "e9c28c82-78dc-4c4b-8746-613f2d71cea6",
        "colab": {}
      },
      "source": [
        "plt.plot(history_1.history['loss'])\n",
        "plt.plot(history_1.history['val_loss'])\n",
        "plt.title('model loss')\n",
        "plt.ylabel('loss')\n",
        "plt.xlabel('epoch')\n",
        "plt.legend(['train', 'val'], loc='upper left')\n",
        "plt.show()"
      ],
      "execution_count": 0,
      "outputs": [
        {
          "output_type": "display_data",
          "data": {
            "image/png": "[encoded data removed]",
            "text/plain": [
              "<Figure size 432x288 with 1 Axes>"
            ]
          },
          "metadata": {
            "tags": [],
            "needs_background": "light"
          }
        }
      ]
    },
    {
      "cell_type": "markdown",
      "metadata": {
        "id": "-pJ5F-mOF8gC",
        "colab_type": "text"
      },
      "source": [
        "### Training Accuracy Plot"
      ]
    },
    {
      "cell_type": "code",
      "metadata": {
        "id": "VrjmsbCtF8gD",
        "colab_type": "code",
        "outputId": "77f4fe8a-9ba6-426b-94f4-e49db64159ce",
        "colab": {}
      },
      "source": [
        "plt.plot(history_1.history['accuracy'])\n",
        "plt.plot(history_1.history['val_accuracy'])\n",
        "plt.title('model accuracy')\n",
        "plt.ylabel('accuracy')\n",
        "plt.xlabel('epoch')\n",
        "plt.legend(['train', 'val'], loc='upper left')\n",
        "plt.show()"
      ],
      "execution_count": 0,
      "outputs": [
        {
          "output_type": "display_data",
          "data": {
            "image/png": "[encoded data removed]",
            "text/plain": [
              "<Figure size 432x288 with 1 Axes>"
            ]
          },
          "metadata": {
            "tags": [],
            "needs_background": "light"
          }
        }
      ]
    },
    {
      "cell_type": "markdown",
      "metadata": {
        "id": "PolqrXWzF8gF",
        "colab_type": "text"
      },
      "source": [
        "## Evalutation - Model Loss & Accuracy"
      ]
    },
    {
      "cell_type": "code",
      "metadata": {
        "id": "WoQ6PqS7F8gG",
        "colab_type": "code",
        "outputId": "49f4d841-baf9-46de-df73-882392777ea8",
        "colab": {}
      },
      "source": [
        "scores = model.evaluate(X_test, Y_test)\n",
        "print(scores)"
      ],
      "execution_count": 0,
      "outputs": [
        {
          "output_type": "stream",
          "text": [
            "700/700 [==============================] - 1s 2ms/step\n",
            "[1.2610167183194843, 0.49000000953674316]\n"
          ],
          "name": "stdout"
        }
      ]
    },
    {
      "cell_type": "markdown",
      "metadata": {
        "id": "TFGwvtHeF8gH",
        "colab_type": "text"
      },
      "source": [
        "### Confusion Matrix"
      ]
    },
    {
      "cell_type": "code",
      "metadata": {
        "id": "1DWghcBuF8gH",
        "colab_type": "code",
        "outputId": "6104ee59-07c6-4218-efe7-f4f114441069",
        "colab": {}
      },
      "source": [
        "y_pred = model.predict(X_test, verbose=1)"
      ],
      "execution_count": 0,
      "outputs": [
        {
          "output_type": "stream",
          "text": [
            "700/700 [==============================] - 1s 2ms/step\n"
          ],
          "name": "stdout"
        }
      ]
    },
    {
      "cell_type": "code",
      "metadata": {
        "id": "ITbTKmMFF8gK",
        "colab_type": "code",
        "outputId": "800638e6-56ac-4816-fdf4-79721b7f3dd9",
        "colab": {}
      },
      "source": [
        "metrics.confusion_matrix(Y_test.argmax(axis=-1), y_pred.argmax(axis=-1))"
      ],
      "execution_count": 0,
      "outputs": [
        {
          "output_type": "execute_result",
          "data": {
            "text/plain": [
              "array([[115,   5,  12,   5,   3],\n",
              "       [ 21,  73,  37,   9,   6],\n",
              "       [ 35,  39,  46,   8,   5],\n",
              "       [ 10,  33,  24,  52,  18],\n",
              "       [ 11,  21,  23,  32,  57]], dtype=int64)"
            ]
          },
          "metadata": {
            "tags": []
          },
          "execution_count": 22
        }
      ]
    },
    {
      "cell_type": "markdown",
      "metadata": {
        "id": "T-qkbeLqF8gL",
        "colab_type": "text"
      },
      "source": [
        "### Accuracy"
      ]
    },
    {
      "cell_type": "code",
      "metadata": {
        "id": "hTKKeFYwF8gL",
        "colab_type": "code",
        "outputId": "b9ecda2e-de46-4332-83be-3cf0d3b1db4b",
        "colab": {}
      },
      "source": [
        "print(\"Accuracy: \", np.mean(Y_test.argmax(axis=-1) == y_pred.argmax(axis=-1)) * 100)"
      ],
      "execution_count": 0,
      "outputs": [
        {
          "output_type": "stream",
          "text": [
            "Accuracy:  49.0\n"
          ],
          "name": "stdout"
        }
      ]
    },
    {
      "cell_type": "markdown",
      "metadata": {
        "id": "M5ai1UKwF8gN",
        "colab_type": "text"
      },
      "source": [
        "### Precision, Recall & F1 Score - Classification Report"
      ]
    },
    {
      "cell_type": "code",
      "metadata": {
        "id": "bObeLW4GF8gN",
        "colab_type": "code",
        "outputId": "757465d2-0e05-42ef-9975-7dead954291b",
        "colab": {}
      },
      "source": [
        "print(metrics.classification_report(y_pred.argmax(axis=-1), Y_test.argmax(axis=-1)))"
      ],
      "execution_count": 0,
      "outputs": [
        {
          "output_type": "stream",
          "text": [
            "              precision    recall  f1-score   support\n",
            "\n",
            "           0       0.82      0.60      0.69       192\n",
            "           1       0.50      0.43      0.46       171\n",
            "           2       0.35      0.32      0.33       142\n",
            "           3       0.38      0.49      0.43       106\n",
            "           4       0.40      0.64      0.49        89\n",
            "\n",
            "    accuracy                           0.49       700\n",
            "   macro avg       0.49      0.50      0.48       700\n",
            "weighted avg       0.53      0.49      0.50       700\n",
            "\n"
          ],
          "name": "stdout"
        }
      ]
    },
    {
      "cell_type": "markdown",
      "metadata": {
        "id": "AYAYsrc2F8gO",
        "colab_type": "text"
      },
      "source": [
        "## Training\n",
        "(This time with 50 epochs)"
      ]
    },
    {
      "cell_type": "code",
      "metadata": {
        "scrolled": true,
        "id": "4CfoUnmQF8gO",
        "colab_type": "code",
        "outputId": "6b8db3a6-194e-4dfe-a2f5-d2bf1a63e4af",
        "colab": {}
      },
      "source": [
        "history_2 = model.fit_generator(train_generator, verbose=1, steps_per_epoch=int(len(X_train)/batch_size), epochs=50, validation_data=validation_generator, validation_steps=int(len(X_test)/batch_size))"
      ],
      "execution_count": 0,
      "outputs": [
        {
          "output_type": "stream",
          "text": [
            "Epoch 1/50\n",
            "58/58 [==============================] - 19s 319ms/step - loss: 1.2811 - accuracy: 0.4473 - val_loss: 1.2427 - val_accuracy: 0.4479\n",
            "Epoch 2/50\n",
            "58/58 [==============================] - 19s 321ms/step - loss: 1.2570 - accuracy: 0.4738 - val_loss: 1.1426 - val_accuracy: 0.4509\n",
            "Epoch 3/50\n",
            "58/58 [==============================] - 18s 314ms/step - loss: 1.2756 - accuracy: 0.4695 - val_loss: 1.2787 - val_accuracy: 0.4755\n",
            "Epoch 4/50\n",
            "58/58 [==============================] - 18s 318ms/step - loss: 1.2699 - accuracy: 0.4742 - val_loss: 1.1072 - val_accuracy: 0.4509\n",
            "Epoch 5/50\n",
            "58/58 [==============================] - 18s 314ms/step - loss: 1.2655 - accuracy: 0.4651 - val_loss: 1.3324 - val_accuracy: 0.4893\n",
            "Epoch 6/50\n",
            "58/58 [==============================] - 18s 313ms/step - loss: 1.2597 - accuracy: 0.4818 - val_loss: 1.2295 - val_accuracy: 0.4908\n",
            "Epoch 7/50\n",
            "58/58 [==============================] - 18s 314ms/step - loss: 1.2565 - accuracy: 0.4789 - val_loss: 1.3872 - val_accuracy: 0.4755\n",
            "Epoch 8/50\n",
            "58/58 [==============================] - 18s 315ms/step - loss: 1.2637 - accuracy: 0.4677 - val_loss: 1.2899 - val_accuracy: 0.4402\n",
            "Epoch 9/50\n",
            "58/58 [==============================] - 18s 316ms/step - loss: 1.2587 - accuracy: 0.4844 - val_loss: 1.7013 - val_accuracy: 0.4172\n",
            "Epoch 10/50\n",
            "58/58 [==============================] - 19s 319ms/step - loss: 1.2535 - accuracy: 0.4903 - val_loss: 1.1643 - val_accuracy: 0.4847\n",
            "Epoch 11/50\n",
            "58/58 [==============================] - 18s 311ms/step - loss: 1.2323 - accuracy: 0.4853 - val_loss: 1.2427 - val_accuracy: 0.4893\n",
            "Epoch 12/50\n",
            "58/58 [==============================] - 18s 319ms/step - loss: 1.2486 - accuracy: 0.4618 - val_loss: 1.1273 - val_accuracy: 0.4739\n",
            "Epoch 13/50\n",
            "58/58 [==============================] - 18s 315ms/step - loss: 1.2460 - accuracy: 0.4807 - val_loss: 1.1975 - val_accuracy: 0.4724\n",
            "Epoch 14/50\n",
            "58/58 [==============================] - 18s 316ms/step - loss: 1.2518 - accuracy: 0.4760 - val_loss: 1.1191 - val_accuracy: 0.4739\n",
            "Epoch 15/50\n",
            "58/58 [==============================] - 18s 315ms/step - loss: 1.2449 - accuracy: 0.4815 - val_loss: 1.4210 - val_accuracy: 0.4433\n",
            "Epoch 16/50\n",
            "58/58 [==============================] - 18s 318ms/step - loss: 1.2542 - accuracy: 0.4767 - val_loss: 1.4500 - val_accuracy: 0.4658\n",
            "Epoch 17/50\n",
            "58/58 [==============================] - 18s 315ms/step - loss: 1.2376 - accuracy: 0.4902 - val_loss: 1.4742 - val_accuracy: 0.4095\n",
            "Epoch 18/50\n",
            "58/58 [==============================] - 18s 312ms/step - loss: 1.2520 - accuracy: 0.4772 - val_loss: 1.4354 - val_accuracy: 0.4494\n",
            "Epoch 19/50\n",
            "58/58 [==============================] - 18s 318ms/step - loss: 1.2297 - accuracy: 0.4887 - val_loss: 1.1943 - val_accuracy: 0.4509\n",
            "Epoch 20/50\n",
            "58/58 [==============================] - 18s 316ms/step - loss: 1.2131 - accuracy: 0.4866 - val_loss: 1.1722 - val_accuracy: 0.4755\n",
            "Epoch 21/50\n",
            "58/58 [==============================] - 18s 318ms/step - loss: 1.2432 - accuracy: 0.4891 - val_loss: 1.2752 - val_accuracy: 0.4693\n",
            "Epoch 22/50\n",
            "58/58 [==============================] - 18s 318ms/step - loss: 1.2449 - accuracy: 0.4800 - val_loss: 1.1687 - val_accuracy: 0.4847\n",
            "Epoch 23/50\n",
            "58/58 [==============================] - 19s 323ms/step - loss: 1.2260 - accuracy: 0.4820 - val_loss: 1.5097 - val_accuracy: 0.4525\n",
            "Epoch 24/50\n",
            "58/58 [==============================] - 18s 315ms/step - loss: 1.2215 - accuracy: 0.5047 - val_loss: 1.2985 - val_accuracy: 0.4923\n",
            "Epoch 25/50\n",
            "58/58 [==============================] - 18s 316ms/step - loss: 1.2364 - accuracy: 0.4815 - val_loss: 1.1080 - val_accuracy: 0.4785\n",
            "Epoch 26/50\n",
            "58/58 [==============================] - 18s 315ms/step - loss: 1.2149 - accuracy: 0.4879 - val_loss: 1.3704 - val_accuracy: 0.4877\n",
            "Epoch 27/50\n",
            "58/58 [==============================] - 18s 316ms/step - loss: 1.2404 - accuracy: 0.4775 - val_loss: 1.2009 - val_accuracy: 0.4847\n",
            "Epoch 28/50\n",
            "58/58 [==============================] - 19s 322ms/step - loss: 1.2226 - accuracy: 0.4847 - val_loss: 1.2782 - val_accuracy: 0.4387\n",
            "Epoch 29/50\n",
            "58/58 [==============================] - 18s 319ms/step - loss: 1.2299 - accuracy: 0.5029 - val_loss: 1.0899 - val_accuracy: 0.5153\n",
            "Epoch 30/50\n",
            "58/58 [==============================] - 19s 331ms/step - loss: 1.2329 - accuracy: 0.4873 - val_loss: 1.2446 - val_accuracy: 0.4908\n",
            "Epoch 31/50\n",
            "58/58 [==============================] - 19s 326ms/step - loss: 1.2208 - accuracy: 0.4943 - val_loss: 1.0297 - val_accuracy: 0.4970\n",
            "Epoch 32/50\n",
            "58/58 [==============================] - 18s 314ms/step - loss: 1.2223 - accuracy: 0.4871 - val_loss: 1.4534 - val_accuracy: 0.4724\n",
            "Epoch 33/50\n",
            "58/58 [==============================] - 19s 321ms/step - loss: 1.2274 - accuracy: 0.4924 - val_loss: 1.4716 - val_accuracy: 0.4571\n",
            "Epoch 34/50\n",
            "58/58 [==============================] - 19s 325ms/step - loss: 1.2466 - accuracy: 0.4978 - val_loss: 1.1621 - val_accuracy: 0.5092\n",
            "Epoch 35/50\n",
            "58/58 [==============================] - 18s 316ms/step - loss: 1.2030 - accuracy: 0.5073 - val_loss: 1.3187 - val_accuracy: 0.4847\n",
            "Epoch 36/50\n",
            "58/58 [==============================] - 19s 321ms/step - loss: 1.2277 - accuracy: 0.4875 - val_loss: 1.0401 - val_accuracy: 0.4862\n",
            "Epoch 37/50\n",
            "58/58 [==============================] - 19s 321ms/step - loss: 1.2251 - accuracy: 0.4957 - val_loss: 1.4122 - val_accuracy: 0.4862\n",
            "Epoch 38/50\n",
            "58/58 [==============================] - 18s 316ms/step - loss: 1.2309 - accuracy: 0.4858 - val_loss: 1.3619 - val_accuracy: 0.4755\n",
            "Epoch 39/50\n",
            "58/58 [==============================] - 18s 314ms/step - loss: 1.2250 - accuracy: 0.4901 - val_loss: 1.1685 - val_accuracy: 0.5169\n",
            "Epoch 40/50\n",
            "58/58 [==============================] - 19s 329ms/step - loss: 1.1963 - accuracy: 0.5147 - val_loss: 1.1093 - val_accuracy: 0.4770\n",
            "Epoch 41/50\n",
            "58/58 [==============================] - 19s 321ms/step - loss: 1.2042 - accuracy: 0.5065 - val_loss: 1.3702 - val_accuracy: 0.4770\n",
            "Epoch 42/50\n",
            "58/58 [==============================] - 19s 319ms/step - loss: 1.2177 - accuracy: 0.5018 - val_loss: 1.0871 - val_accuracy: 0.5445\n",
            "Epoch 43/50\n",
            "58/58 [==============================] - 18s 315ms/step - loss: 1.2061 - accuracy: 0.4978 - val_loss: 1.0474 - val_accuracy: 0.4816\n",
            "Epoch 44/50\n",
            "58/58 [==============================] - 19s 322ms/step - loss: 1.2036 - accuracy: 0.5054 - val_loss: 1.2406 - val_accuracy: 0.5015\n",
            "Epoch 45/50\n",
            "58/58 [==============================] - 18s 316ms/step - loss: 1.2061 - accuracy: 0.5004 - val_loss: 1.1692 - val_accuracy: 0.5261\n",
            "Epoch 46/50\n",
            "58/58 [==============================] - 19s 323ms/step - loss: 1.2207 - accuracy: 0.4985 - val_loss: 1.1727 - val_accuracy: 0.5223\n",
            "Epoch 47/50\n",
            "58/58 [==============================] - 19s 324ms/step - loss: 1.2016 - accuracy: 0.5033 - val_loss: 1.3142 - val_accuracy: 0.5000\n",
            "Epoch 48/50\n",
            "58/58 [==============================] - 18s 315ms/step - loss: 1.2180 - accuracy: 0.4963 - val_loss: 1.3744 - val_accuracy: 0.4893\n",
            "Epoch 49/50\n",
            "58/58 [==============================] - 19s 319ms/step - loss: 1.1908 - accuracy: 0.5169 - val_loss: 1.3119 - val_accuracy: 0.5184\n",
            "Epoch 50/50\n",
            "58/58 [==============================] - 19s 320ms/step - loss: 1.2038 - accuracy: 0.5015 - val_loss: 1.2458 - val_accuracy: 0.4479\n"
          ],
          "name": "stdout"
        }
      ]
    },
    {
      "cell_type": "markdown",
      "metadata": {
        "id": "UlDyiDo6F8gQ",
        "colab_type": "text"
      },
      "source": [
        "### Training Loss Plot"
      ]
    },
    {
      "cell_type": "code",
      "metadata": {
        "id": "EYmup1y2F8gQ",
        "colab_type": "code",
        "outputId": "d6fc0c42-0fb8-4433-a3b8-323ca93b4a5b",
        "colab": {}
      },
      "source": [
        "plt.plot(history_2.history['loss'])\n",
        "plt.plot(history_2.history['val_loss'])\n",
        "plt.title('model loss')\n",
        "plt.ylabel('loss')\n",
        "plt.xlabel('epoch')\n",
        "plt.legend(['train', 'val'], loc='upper left')\n",
        "plt.show()"
      ],
      "execution_count": 0,
      "outputs": [
        {
          "output_type": "display_data",
          "data": {
            "image/png": "[encoded data removed]",
            "text/plain": [
              "<Figure size 432x288 with 1 Axes>"
            ]
          },
          "metadata": {
            "tags": [],
            "needs_background": "light"
          }
        }
      ]
    },
    {
      "cell_type": "markdown",
      "metadata": {
        "id": "qPUp7wXgF8gS",
        "colab_type": "text"
      },
      "source": [
        "### Training Accuracy Plot"
      ]
    },
    {
      "cell_type": "code",
      "metadata": {
        "id": "hpCbFN1cF8gT",
        "colab_type": "code",
        "outputId": "54130035-9a59-4b19-93c7-a2155cef72ce",
        "colab": {}
      },
      "source": [
        "plt.plot(history_2.history['accuracy'])\n",
        "plt.plot(history_2.history['val_accuracy'])\n",
        "plt.title('model accuracy')\n",
        "plt.ylabel('accuracy')\n",
        "plt.xlabel('epoch')\n",
        "plt.legend(['train', 'val'], loc='upper left')\n",
        "plt.show()"
      ],
      "execution_count": 0,
      "outputs": [
        {
          "output_type": "display_data",
          "data": {
            "image/png": "[encoded data removed]",
            "text/plain": [
              "<Figure size 432x288 with 1 Axes>"
            ]
          },
          "metadata": {
            "tags": [],
            "needs_background": "light"
          }
        }
      ]
    },
    {
      "cell_type": "code",
      "metadata": {
        "id": "yZDARjIQF8gU",
        "colab_type": "code",
        "outputId": "e5f12a07-ee39-4569-d933-73b4af1c9851",
        "colab": {}
      },
      "source": [
        "model.save(\"model_48_200.h5\")\n",
        "print(\"Saved model to disk\")"
      ],
      "execution_count": 0,
      "outputs": [
        {
          "output_type": "stream",
          "text": [
            "Saved model to disk\n"
          ],
          "name": "stdout"
        }
      ]
    },
    {
      "cell_type": "markdown",
      "metadata": {
        "id": "EhHE837LF8gW",
        "colab_type": "text"
      },
      "source": [
        "## Evalutation - Model Loss & Accuracy"
      ]
    },
    {
      "cell_type": "code",
      "metadata": {
        "id": "XsjB8FwdF8gW",
        "colab_type": "code",
        "outputId": "3daaf954-55de-4872-a6ed-68037acd056b",
        "colab": {}
      },
      "source": [
        "scores = model.evaluate(X_test, Y_test)\n",
        "print(scores)"
      ],
      "execution_count": 0,
      "outputs": [
        {
          "output_type": "stream",
          "text": [
            "700/700 [==============================] - 1s 1ms/step\n",
            "[1.2803135565349033, 0.44857141375541687]\n"
          ],
          "name": "stdout"
        }
      ]
    },
    {
      "cell_type": "markdown",
      "metadata": {
        "id": "I7B_HciyF8gY",
        "colab_type": "text"
      },
      "source": [
        "### Confusion Matrix"
      ]
    },
    {
      "cell_type": "code",
      "metadata": {
        "id": "WEKjsdkPF8gY",
        "colab_type": "code",
        "outputId": "09a49bec-8b3b-4ddb-e0db-651471187926",
        "colab": {}
      },
      "source": [
        "y_pred = model.predict(X_test, verbose=1)\n",
        "metrics.confusion_matrix(Y_test.argmax(axis=-1), y_pred.argmax(axis=-1))"
      ],
      "execution_count": 0,
      "outputs": [
        {
          "output_type": "stream",
          "text": [
            "700/700 [==============================] - 1s 1ms/step\n"
          ],
          "name": "stdout"
        },
        {
          "output_type": "execute_result",
          "data": {
            "text/plain": [
              "array([[65,  4, 64,  4,  3],\n",
              "       [ 6, 47, 51, 34,  8],\n",
              "       [15, 30, 69, 12,  7],\n",
              "       [ 1, 20, 27, 67, 22],\n",
              "       [ 3,  9, 28, 38, 66]], dtype=int64)"
            ]
          },
          "metadata": {
            "tags": []
          },
          "execution_count": 30
        }
      ]
    },
    {
      "cell_type": "markdown",
      "metadata": {
        "id": "DQhomKuqF8gZ",
        "colab_type": "text"
      },
      "source": [
        "### Accuracy"
      ]
    },
    {
      "cell_type": "code",
      "metadata": {
        "id": "2CyN-76zF8ga",
        "colab_type": "code",
        "outputId": "fba42399-62f7-4001-e716-d7843e8c7147",
        "colab": {}
      },
      "source": [
        "print(\"Accuracy: \", np.mean(Y_test.argmax(axis=-1) == y_pred.argmax(axis=-1)) * 100)"
      ],
      "execution_count": 0,
      "outputs": [
        {
          "output_type": "stream",
          "text": [
            "Accuracy:  44.857142857142854\n"
          ],
          "name": "stdout"
        }
      ]
    },
    {
      "cell_type": "markdown",
      "metadata": {
        "id": "zbosBxIfF8gb",
        "colab_type": "text"
      },
      "source": [
        "### Precision, Recall & F1 Score - Classification Report"
      ]
    },
    {
      "cell_type": "code",
      "metadata": {
        "id": "xc1myv98F8gb",
        "colab_type": "code",
        "outputId": "38cbd3d0-4321-4df4-a441-adcafc3684df",
        "colab": {}
      },
      "source": [
        "print(metrics.classification_report(y_pred.argmax(axis=-1), Y_test.argmax(axis=-1)))"
      ],
      "execution_count": 0,
      "outputs": [
        {
          "output_type": "stream",
          "text": [
            "              precision    recall  f1-score   support\n",
            "\n",
            "           0       0.46      0.72      0.57        90\n",
            "           1       0.32      0.43      0.37       110\n",
            "           2       0.52      0.29      0.37       239\n",
            "           3       0.49      0.43      0.46       155\n",
            "           4       0.46      0.62      0.53       106\n",
            "\n",
            "    accuracy                           0.45       700\n",
            "   macro avg       0.45      0.50      0.46       700\n",
            "weighted avg       0.47      0.45      0.44       700\n",
            "\n"
          ],
          "name": "stdout"
        }
      ]
    },
    {
      "cell_type": "markdown",
      "metadata": {
        "id": "JsYPSu9hF8gc",
        "colab_type": "text"
      },
      "source": [
        "## Training\n",
        "(With 100 epochs)"
      ]
    },
    {
      "cell_type": "code",
      "metadata": {
        "id": "BeAv0qCdF8gd",
        "colab_type": "code",
        "outputId": "1fddd78e-ccd4-4b84-83c2-6d9583131976",
        "colab": {}
      },
      "source": [
        "history_3 = model.fit_generator(train_generator, verbose=1, steps_per_epoch=int(len(X_train)/batch_size), epochs=100, validation_data=validation_generator, validation_steps=int(len(X_test)/batch_size))"
      ],
      "execution_count": 0,
      "outputs": [
        {
          "output_type": "stream",
          "text": [
            "Epoch 1/100\n",
            "58/58 [==============================] - 19s 319ms/step - loss: 1.2123 - accuracy: 0.5025 - val_loss: 1.0845 - val_accuracy: 0.4866\n",
            "Epoch 2/100\n",
            "58/58 [==============================] - 19s 323ms/step - loss: 1.2071 - accuracy: 0.5142 - val_loss: 1.1245 - val_accuracy: 0.5061\n",
            "Epoch 3/100\n",
            "58/58 [==============================] - 19s 323ms/step - loss: 1.2039 - accuracy: 0.4953 - val_loss: 1.1593 - val_accuracy: 0.5061\n",
            "Epoch 4/100\n",
            "58/58 [==============================] - 19s 319ms/step - loss: 1.2112 - accuracy: 0.5044 - val_loss: 1.3382 - val_accuracy: 0.5307\n",
            "Epoch 5/100\n",
            "58/58 [==============================] - 18s 318ms/step - loss: 1.1825 - accuracy: 0.5156 - val_loss: 1.2864 - val_accuracy: 0.5031\n",
            "Epoch 6/100\n",
            "58/58 [==============================] - 19s 319ms/step - loss: 1.2069 - accuracy: 0.4967 - val_loss: 1.0327 - val_accuracy: 0.5245\n",
            "Epoch 7/100\n",
            "58/58 [==============================] - 19s 325ms/step - loss: 1.1945 - accuracy: 0.5073 - val_loss: 1.3105 - val_accuracy: 0.5184\n",
            "Epoch 8/100\n",
            "58/58 [==============================] - 19s 319ms/step - loss: 1.2229 - accuracy: 0.5004 - val_loss: 1.1690 - val_accuracy: 0.4724\n",
            "Epoch 9/100\n",
            "58/58 [==============================] - 19s 332ms/step - loss: 1.2228 - accuracy: 0.4924 - val_loss: 1.0709 - val_accuracy: 0.5276\n",
            "Epoch 10/100\n",
            "58/58 [==============================] - 19s 325ms/step - loss: 1.2006 - accuracy: 0.5004 - val_loss: 1.2431 - val_accuracy: 0.5092\n",
            "Epoch 11/100\n",
            "58/58 [==============================] - 18s 318ms/step - loss: 1.2055 - accuracy: 0.4895 - val_loss: 1.4174 - val_accuracy: 0.4847\n",
            "Epoch 12/100\n",
            "58/58 [==============================] - 18s 317ms/step - loss: 1.2161 - accuracy: 0.5058 - val_loss: 1.1389 - val_accuracy: 0.5046\n",
            "Epoch 13/100\n",
            "58/58 [==============================] - 18s 317ms/step - loss: 1.1940 - accuracy: 0.5109 - val_loss: 1.1068 - val_accuracy: 0.5092\n",
            "Epoch 14/100\n",
            "58/58 [==============================] - 18s 319ms/step - loss: 1.1993 - accuracy: 0.5000 - val_loss: 1.1051 - val_accuracy: 0.4893\n",
            "Epoch 15/100\n",
            "58/58 [==============================] - 18s 318ms/step - loss: 1.1863 - accuracy: 0.5104 - val_loss: 0.9096 - val_accuracy: 0.5031\n",
            "Epoch 16/100\n",
            "58/58 [==============================] - 18s 316ms/step - loss: 1.1715 - accuracy: 0.5113 - val_loss: 1.4441 - val_accuracy: 0.5000\n",
            "Epoch 17/100\n",
            "58/58 [==============================] - 18s 318ms/step - loss: 1.1992 - accuracy: 0.5105 - val_loss: 1.1446 - val_accuracy: 0.5123\n",
            "Epoch 18/100\n",
            "58/58 [==============================] - 18s 318ms/step - loss: 1.1905 - accuracy: 0.5131 - val_loss: 1.1144 - val_accuracy: 0.4985\n",
            "Epoch 19/100\n",
            "58/58 [==============================] - 18s 314ms/step - loss: 1.2007 - accuracy: 0.4960 - val_loss: 0.9818 - val_accuracy: 0.4985\n",
            "Epoch 20/100\n",
            "58/58 [==============================] - 18s 315ms/step - loss: 1.1959 - accuracy: 0.5087 - val_loss: 1.1724 - val_accuracy: 0.5184\n",
            "Epoch 21/100\n",
            "58/58 [==============================] - 18s 316ms/step - loss: 1.1566 - accuracy: 0.5349 - val_loss: 1.1685 - val_accuracy: 0.5199\n",
            "Epoch 22/100\n",
            "58/58 [==============================] - 18s 317ms/step - loss: 1.1902 - accuracy: 0.5047 - val_loss: 1.1456 - val_accuracy: 0.5107\n",
            "Epoch 23/100\n",
            "58/58 [==============================] - 19s 319ms/step - loss: 1.1906 - accuracy: 0.5116 - val_loss: 1.5284 - val_accuracy: 0.4816\n",
            "Epoch 24/100\n",
            "58/58 [==============================] - 18s 318ms/step - loss: 1.1850 - accuracy: 0.5105 - val_loss: 1.4830 - val_accuracy: 0.5215\n",
            "Epoch 25/100\n",
            "58/58 [==============================] - 19s 319ms/step - loss: 1.1892 - accuracy: 0.5094 - val_loss: 0.9972 - val_accuracy: 0.5215\n",
            "Epoch 26/100\n",
            "58/58 [==============================] - 18s 316ms/step - loss: 1.1765 - accuracy: 0.5164 - val_loss: 1.2493 - val_accuracy: 0.5153\n",
            "Epoch 27/100\n",
            "58/58 [==============================] - 19s 322ms/step - loss: 1.1772 - accuracy: 0.5189 - val_loss: 1.3076 - val_accuracy: 0.5215\n",
            "Epoch 28/100\n",
            "58/58 [==============================] - 18s 316ms/step - loss: 1.1823 - accuracy: 0.5240 - val_loss: 1.2320 - val_accuracy: 0.5245\n",
            "Epoch 29/100\n",
            "58/58 [==============================] - 18s 317ms/step - loss: 1.1651 - accuracy: 0.5153 - val_loss: 1.4303 - val_accuracy: 0.4969\n",
            "Epoch 30/100\n",
            "58/58 [==============================] - 19s 321ms/step - loss: 1.1752 - accuracy: 0.5136 - val_loss: 1.1406 - val_accuracy: 0.5184\n",
            "Epoch 31/100\n",
            "58/58 [==============================] - 18s 316ms/step - loss: 1.1888 - accuracy: 0.5018 - val_loss: 0.9705 - val_accuracy: 0.5164\n",
            "Epoch 32/100\n",
            "58/58 [==============================] - 19s 325ms/step - loss: 1.1561 - accuracy: 0.5295 - val_loss: 1.2389 - val_accuracy: 0.5153\n",
            "Epoch 33/100\n",
            "58/58 [==============================] - 18s 318ms/step - loss: 1.1813 - accuracy: 0.5102 - val_loss: 1.0447 - val_accuracy: 0.5184\n",
            "Epoch 34/100\n",
            "58/58 [==============================] - 19s 320ms/step - loss: 1.1852 - accuracy: 0.5132 - val_loss: 1.2136 - val_accuracy: 0.5184\n",
            "Epoch 35/100\n",
            "58/58 [==============================] - 19s 321ms/step - loss: 1.1755 - accuracy: 0.5149 - val_loss: 1.5241 - val_accuracy: 0.5245\n",
            "Epoch 36/100\n",
            "58/58 [==============================] - 18s 318ms/step - loss: 1.1702 - accuracy: 0.5196 - val_loss: 1.1907 - val_accuracy: 0.4785\n",
            "Epoch 37/100\n",
            "58/58 [==============================] - 19s 320ms/step - loss: 1.1875 - accuracy: 0.5134 - val_loss: 1.0660 - val_accuracy: 0.5276\n",
            "Epoch 38/100\n",
            "58/58 [==============================] - 19s 323ms/step - loss: 1.1888 - accuracy: 0.5164 - val_loss: 1.1209 - val_accuracy: 0.4862\n",
            "Epoch 39/100\n",
            "58/58 [==============================] - 19s 321ms/step - loss: 1.1697 - accuracy: 0.5115 - val_loss: 1.2144 - val_accuracy: 0.5291\n",
            "Epoch 40/100\n",
            "58/58 [==============================] - 18s 316ms/step - loss: 1.1850 - accuracy: 0.5084 - val_loss: 1.2355 - val_accuracy: 0.5123\n",
            "Epoch 41/100\n",
            "58/58 [==============================] - 19s 321ms/step - loss: 1.1730 - accuracy: 0.5200 - val_loss: 1.2455 - val_accuracy: 0.5046\n",
            "Epoch 42/100\n",
            "58/58 [==============================] - 18s 313ms/step - loss: 1.1597 - accuracy: 0.5290 - val_loss: 1.0281 - val_accuracy: 0.4908\n",
            "Epoch 43/100\n",
            "58/58 [==============================] - 18s 314ms/step - loss: 1.1777 - accuracy: 0.5091 - val_loss: 1.1353 - val_accuracy: 0.5123\n",
            "Epoch 44/100\n",
            "58/58 [==============================] - 18s 317ms/step - loss: 1.1588 - accuracy: 0.5219 - val_loss: 1.2892 - val_accuracy: 0.5215\n",
            "Epoch 45/100\n",
            "58/58 [==============================] - 18s 314ms/step - loss: 1.1819 - accuracy: 0.5058 - val_loss: 1.3583 - val_accuracy: 0.5215\n",
            "Epoch 46/100\n",
            "58/58 [==============================] - 18s 318ms/step - loss: 1.1765 - accuracy: 0.5113 - val_loss: 1.0731 - val_accuracy: 0.5193\n",
            "Epoch 47/100\n",
            "58/58 [==============================] - 18s 316ms/step - loss: 1.1575 - accuracy: 0.5233 - val_loss: 1.5086 - val_accuracy: 0.5169\n",
            "Epoch 48/100\n",
            "58/58 [==============================] - 18s 314ms/step - loss: 1.1578 - accuracy: 0.5207 - val_loss: 1.0564 - val_accuracy: 0.5291\n",
            "Epoch 49/100\n",
            "58/58 [==============================] - 18s 314ms/step - loss: 1.1583 - accuracy: 0.5247 - val_loss: 1.0994 - val_accuracy: 0.5031\n",
            "Epoch 50/100\n",
            "58/58 [==============================] - 18s 316ms/step - loss: 1.1605 - accuracy: 0.5185 - val_loss: 1.3054 - val_accuracy: 0.5061\n",
            "Epoch 51/100\n",
            "58/58 [==============================] - 18s 315ms/step - loss: 1.1682 - accuracy: 0.5138 - val_loss: 1.0773 - val_accuracy: 0.5445\n",
            "Epoch 52/100\n",
            "58/58 [==============================] - 18s 314ms/step - loss: 1.1685 - accuracy: 0.5196 - val_loss: 1.1842 - val_accuracy: 0.5138\n",
            "Epoch 53/100\n",
            "58/58 [==============================] - 18s 314ms/step - loss: 1.1630 - accuracy: 0.5196 - val_loss: 1.3213 - val_accuracy: 0.4877\n",
            "Epoch 54/100\n",
            "58/58 [==============================] - 18s 314ms/step - loss: 1.1592 - accuracy: 0.5091 - val_loss: 1.2721 - val_accuracy: 0.5015\n",
            "Epoch 55/100\n",
            "58/58 [==============================] - 18s 314ms/step - loss: 1.1864 - accuracy: 0.5109 - val_loss: 1.1553 - val_accuracy: 0.5153\n",
            "Epoch 56/100\n",
            "58/58 [==============================] - 18s 314ms/step - loss: 1.1674 - accuracy: 0.5207 - val_loss: 1.1275 - val_accuracy: 0.5169\n",
            "Epoch 57/100\n",
            "58/58 [==============================] - 18s 314ms/step - loss: 1.1646 - accuracy: 0.5233 - val_loss: 0.9368 - val_accuracy: 0.5123\n",
            "Epoch 58/100\n",
            "58/58 [==============================] - 18s 313ms/step - loss: 1.1730 - accuracy: 0.5149 - val_loss: 1.1185 - val_accuracy: 0.5000\n",
            "Epoch 59/100\n",
            "58/58 [==============================] - 18s 314ms/step - loss: 1.1544 - accuracy: 0.5203 - val_loss: 1.3272 - val_accuracy: 0.5245\n",
            "Epoch 60/100\n",
            "58/58 [==============================] - 18s 314ms/step - loss: 1.1816 - accuracy: 0.5058 - val_loss: 1.1608 - val_accuracy: 0.5230\n",
            "Epoch 61/100\n",
            "58/58 [==============================] - 18s 314ms/step - loss: 1.1496 - accuracy: 0.5207 - val_loss: 1.0870 - val_accuracy: 0.5193\n",
            "Epoch 62/100\n",
            "58/58 [==============================] - 18s 314ms/step - loss: 1.1698 - accuracy: 0.5265 - val_loss: 1.1016 - val_accuracy: 0.5184\n",
            "Epoch 63/100\n",
            "58/58 [==============================] - 18s 313ms/step - loss: 1.1615 - accuracy: 0.5185 - val_loss: 1.2960 - val_accuracy: 0.5153\n",
            "Epoch 64/100\n",
            "58/58 [==============================] - 18s 314ms/step - loss: 1.1602 - accuracy: 0.5276 - val_loss: 1.0946 - val_accuracy: 0.5261\n",
            "Epoch 65/100\n",
            "58/58 [==============================] - 18s 314ms/step - loss: 1.1488 - accuracy: 0.5316 - val_loss: 1.3438 - val_accuracy: 0.4923\n",
            "Epoch 66/100\n",
            "58/58 [==============================] - 18s 313ms/step - loss: 1.1682 - accuracy: 0.5200 - val_loss: 1.3447 - val_accuracy: 0.5368\n",
            "Epoch 67/100\n",
            "58/58 [==============================] - 18s 314ms/step - loss: 1.1819 - accuracy: 0.5094 - val_loss: 1.6333 - val_accuracy: 0.5107\n",
            "Epoch 68/100\n",
            "58/58 [==============================] - 18s 314ms/step - loss: 1.1636 - accuracy: 0.5207 - val_loss: 1.3013 - val_accuracy: 0.5031\n",
            "Epoch 69/100\n",
            "58/58 [==============================] - 18s 314ms/step - loss: 1.1564 - accuracy: 0.5273 - val_loss: 1.0691 - val_accuracy: 0.5491\n",
            "Epoch 70/100\n",
            "58/58 [==============================] - 18s 318ms/step - loss: 1.1314 - accuracy: 0.5259 - val_loss: 1.3243 - val_accuracy: 0.4954\n",
            "Epoch 71/100\n",
            "58/58 [==============================] - 18s 316ms/step - loss: 1.1508 - accuracy: 0.5298 - val_loss: 1.6562 - val_accuracy: 0.4709\n",
            "Epoch 72/100\n",
            "58/58 [==============================] - 18s 314ms/step - loss: 1.1687 - accuracy: 0.5262 - val_loss: 1.1918 - val_accuracy: 0.5031\n",
            "Epoch 73/100\n",
            "58/58 [==============================] - 18s 311ms/step - loss: 1.1610 - accuracy: 0.5309 - val_loss: 1.2565 - val_accuracy: 0.5230\n",
            "Epoch 74/100\n",
            "58/58 [==============================] - 18s 314ms/step - loss: 1.1571 - accuracy: 0.5352 - val_loss: 1.0562 - val_accuracy: 0.5184\n",
            "Epoch 75/100\n",
            "58/58 [==============================] - 18s 313ms/step - loss: 1.1819 - accuracy: 0.5167 - val_loss: 1.7368 - val_accuracy: 0.5092\n",
            "Epoch 76/100\n",
            "58/58 [==============================] - 18s 314ms/step - loss: 1.1654 - accuracy: 0.5367 - val_loss: 1.1356 - val_accuracy: 0.5164\n",
            "Epoch 77/100\n",
            "58/58 [==============================] - 18s 313ms/step - loss: 1.1629 - accuracy: 0.5134 - val_loss: 1.4505 - val_accuracy: 0.5000\n",
            "Epoch 78/100\n",
            "58/58 [==============================] - 18s 314ms/step - loss: 1.1582 - accuracy: 0.5134 - val_loss: 1.0311 - val_accuracy: 0.5368\n",
            "Epoch 79/100\n",
            "58/58 [==============================] - 18s 314ms/step - loss: 1.1610 - accuracy: 0.5316 - val_loss: 1.4260 - val_accuracy: 0.4954\n",
            "Epoch 80/100\n",
            "58/58 [==============================] - 18s 316ms/step - loss: 1.1404 - accuracy: 0.5291 - val_loss: 1.0359 - val_accuracy: 0.5184\n",
            "Epoch 81/100\n",
            "58/58 [==============================] - 18s 311ms/step - loss: 1.1765 - accuracy: 0.5118 - val_loss: 1.1221 - val_accuracy: 0.5276\n",
            "Epoch 82/100\n",
            "58/58 [==============================] - 18s 314ms/step - loss: 1.1601 - accuracy: 0.5236 - val_loss: 1.1081 - val_accuracy: 0.5061\n",
            "Epoch 83/100\n",
            "58/58 [==============================] - 18s 316ms/step - loss: 1.1498 - accuracy: 0.5219 - val_loss: 1.1621 - val_accuracy: 0.5276\n",
            "Epoch 84/100\n",
            "58/58 [==============================] - 18s 314ms/step - loss: 1.1600 - accuracy: 0.5189 - val_loss: 1.2251 - val_accuracy: 0.4893\n",
            "Epoch 85/100\n",
            "58/58 [==============================] - 18s 314ms/step - loss: 1.1542 - accuracy: 0.5180 - val_loss: 1.2599 - val_accuracy: 0.5429\n",
            "Epoch 86/100\n",
            "58/58 [==============================] - 18s 316ms/step - loss: 1.1554 - accuracy: 0.5136 - val_loss: 1.1407 - val_accuracy: 0.4847\n",
            "Epoch 87/100\n",
            "58/58 [==============================] - 18s 314ms/step - loss: 1.1681 - accuracy: 0.5156 - val_loss: 1.2486 - val_accuracy: 0.5353\n",
            "Epoch 88/100\n",
            "58/58 [==============================] - 18s 314ms/step - loss: 1.1594 - accuracy: 0.5345 - val_loss: 1.3260 - val_accuracy: 0.4893\n",
            "Epoch 89/100\n",
            "58/58 [==============================] - 18s 313ms/step - loss: 1.1493 - accuracy: 0.5182 - val_loss: 1.2071 - val_accuracy: 0.5245\n",
            "Epoch 90/100\n",
            "58/58 [==============================] - 18s 314ms/step - loss: 1.1416 - accuracy: 0.5374 - val_loss: 1.2241 - val_accuracy: 0.5291\n",
            "Epoch 91/100\n",
            "58/58 [==============================] - 18s 313ms/step - loss: 1.1688 - accuracy: 0.5298 - val_loss: 1.2322 - val_accuracy: 0.5253\n",
            "Epoch 92/100\n",
            "58/58 [==============================] - 18s 312ms/step - loss: 1.1695 - accuracy: 0.5269 - val_loss: 1.3583 - val_accuracy: 0.5138\n",
            "Epoch 93/100\n",
            "58/58 [==============================] - 18s 311ms/step - loss: 1.1526 - accuracy: 0.5257 - val_loss: 1.2377 - val_accuracy: 0.5169\n",
            "Epoch 94/100\n",
            "58/58 [==============================] - 18s 316ms/step - loss: 1.1524 - accuracy: 0.5284 - val_loss: 1.3184 - val_accuracy: 0.5153\n",
            "Epoch 95/100\n",
            "58/58 [==============================] - 18s 314ms/step - loss: 1.1330 - accuracy: 0.5316 - val_loss: 1.3447 - val_accuracy: 0.5230\n",
            "Epoch 96/100\n",
            "58/58 [==============================] - 18s 310ms/step - loss: 1.1695 - accuracy: 0.5180 - val_loss: 1.4046 - val_accuracy: 0.5092\n",
            "Epoch 97/100\n",
            "58/58 [==============================] - 18s 313ms/step - loss: 1.1568 - accuracy: 0.5185 - val_loss: 0.9775 - val_accuracy: 0.5368\n",
            "Epoch 98/100\n",
            "58/58 [==============================] - 18s 316ms/step - loss: 1.1362 - accuracy: 0.5384 - val_loss: 1.1936 - val_accuracy: 0.5169\n",
            "Epoch 99/100\n",
            "58/58 [==============================] - 18s 312ms/step - loss: 1.1441 - accuracy: 0.5331 - val_loss: 1.1062 - val_accuracy: 0.5291\n",
            "Epoch 100/100\n",
            "58/58 [==============================] - 18s 313ms/step - loss: 1.1612 - accuracy: 0.5211 - val_loss: 0.9921 - val_accuracy: 0.5475\n"
          ],
          "name": "stdout"
        }
      ]
    },
    {
      "cell_type": "markdown",
      "metadata": {
        "id": "ZmVNtQpvF8ge",
        "colab_type": "text"
      },
      "source": [
        "### Training Loss Plot"
      ]
    },
    {
      "cell_type": "code",
      "metadata": {
        "id": "AnXobfXAF8gf",
        "colab_type": "code",
        "outputId": "0b04dc9e-f022-4551-8af4-e3252d9eccc4",
        "colab": {}
      },
      "source": [
        "plt.plot(history_3.history['loss'])\n",
        "plt.plot(history_3.history['val_loss'])\n",
        "plt.title('model loss')\n",
        "plt.ylabel('loss')\n",
        "plt.xlabel('epoch')\n",
        "plt.legend(['train', 'val'], loc='upper left')\n",
        "plt.show()"
      ],
      "execution_count": 0,
      "outputs": [
        {
          "output_type": "display_data",
          "data": {
            "image/png": "[encoded data removed]",
            "text/plain": [
              "<Figure size 432x288 with 1 Axes>"
            ]
          },
          "metadata": {
            "tags": [],
            "needs_background": "light"
          }
        }
      ]
    },
    {
      "cell_type": "markdown",
      "metadata": {
        "id": "AkI1FPvnF8gg",
        "colab_type": "text"
      },
      "source": [
        "### Training Accuracy Plot"
      ]
    },
    {
      "cell_type": "code",
      "metadata": {
        "id": "is6aHmhaF8gg",
        "colab_type": "code",
        "outputId": "7c7ae710-3b86-41cf-ba95-1bc9a1099729",
        "colab": {}
      },
      "source": [
        "plt.plot(history_3.history['accuracy'])\n",
        "plt.plot(history_3.history['val_accuracy'])\n",
        "plt.title('model accuracy')\n",
        "plt.ylabel('accuracy')\n",
        "plt.xlabel('epoch')\n",
        "plt.legend(['train', 'val'], loc='upper left')\n",
        "plt.show()"
      ],
      "execution_count": 0,
      "outputs": [
        {
          "output_type": "display_data",
          "data": {
            "image/png": "[encoded data removed]",
            "text/plain": [
              "<Figure size 432x288 with 1 Axes>"
            ]
          },
          "metadata": {
            "tags": [],
            "needs_background": "light"
          }
        }
      ]
    },
    {
      "cell_type": "code",
      "metadata": {
        "id": "zSMV5O21F8gh",
        "colab_type": "code",
        "outputId": "b53ca882-e8c8-4fbb-87ea-a7a77ed6657e",
        "colab": {}
      },
      "source": [
        "model.save(\"model_48_300.h5\")\n",
        "print(\"Saved model to disk\")"
      ],
      "execution_count": 0,
      "outputs": [
        {
          "output_type": "stream",
          "text": [
            "Saved model to disk\n"
          ],
          "name": "stdout"
        }
      ]
    },
    {
      "cell_type": "markdown",
      "metadata": {
        "id": "f8nCPfMZF8gk",
        "colab_type": "text"
      },
      "source": [
        "## Evalutation - Model Loss & Accuracy"
      ]
    },
    {
      "cell_type": "code",
      "metadata": {
        "id": "wTIuKcuAF8gl",
        "colab_type": "code",
        "outputId": "cc8391db-d641-4a5f-8c25-6f05a6a6d95f",
        "colab": {}
      },
      "source": [
        "scores = model.evaluate(X_test, Y_test)\n",
        "print(scores)"
      ],
      "execution_count": 0,
      "outputs": [
        {
          "output_type": "stream",
          "text": [
            "700/700 [==============================] - 1s 1ms/step\n",
            "[1.1412777655465263, 0.5328571200370789]\n"
          ],
          "name": "stdout"
        }
      ]
    },
    {
      "cell_type": "markdown",
      "metadata": {
        "id": "xjeD-6ifF8gm",
        "colab_type": "text"
      },
      "source": [
        "### Confusion Matrix"
      ]
    },
    {
      "cell_type": "code",
      "metadata": {
        "id": "hCvDA6mzF8gm",
        "colab_type": "code",
        "outputId": "deb34612-533a-4add-c848-afc9a6cf48c5",
        "colab": {}
      },
      "source": [
        "y_pred = model.predict(X_test, verbose=1)\n",
        "metrics.confusion_matrix(Y_test.argmax(axis=-1), y_pred.argmax(axis=-1))"
      ],
      "execution_count": 0,
      "outputs": [
        {
          "output_type": "stream",
          "text": [
            "700/700 [==============================] - 1s 1ms/step\n"
          ],
          "name": "stdout"
        },
        {
          "output_type": "execute_result",
          "data": {
            "text/plain": [
              "array([[116,   6,  17,   1,   0],\n",
              "       [ 16,  77,  41,  10,   2],\n",
              "       [ 27,  45,  55,   4,   2],\n",
              "       [  2,  32,  19,  57,  27],\n",
              "       [  8,  16,  19,  33,  68]], dtype=int64)"
            ]
          },
          "metadata": {
            "tags": []
          },
          "execution_count": 38
        }
      ]
    },
    {
      "cell_type": "markdown",
      "metadata": {
        "id": "daHlR2YUF8go",
        "colab_type": "text"
      },
      "source": [
        "### Accuracy"
      ]
    },
    {
      "cell_type": "code",
      "metadata": {
        "id": "tnHfbSP4F8gq",
        "colab_type": "code",
        "outputId": "7d8f8854-a326-44dd-bb29-0ceb0c42988f",
        "colab": {}
      },
      "source": [
        "print(\"Accuracy: \", np.mean(Y_test.argmax(axis=-1) == y_pred.argmax(axis=-1)) * 100)"
      ],
      "execution_count": 0,
      "outputs": [
        {
          "output_type": "stream",
          "text": [
            "Accuracy:  53.28571428571428\n"
          ],
          "name": "stdout"
        }
      ]
    },
    {
      "cell_type": "markdown",
      "metadata": {
        "id": "2Xr102aAF8gr",
        "colab_type": "text"
      },
      "source": [
        "### Precision, Recall & F1 Score - Classification Report"
      ]
    },
    {
      "cell_type": "code",
      "metadata": {
        "id": "ojdlHNFkF8gs",
        "colab_type": "code",
        "outputId": "43ed0cda-c3e6-4b1e-8c7c-5c27fa7adab2",
        "colab": {}
      },
      "source": [
        "print(metrics.classification_report(y_pred.argmax(axis=-1), Y_test.argmax(axis=-1)))"
      ],
      "execution_count": 0,
      "outputs": [
        {
          "output_type": "stream",
          "text": [
            "              precision    recall  f1-score   support\n",
            "\n",
            "           0       0.83      0.69      0.75       169\n",
            "           1       0.53      0.44      0.48       176\n",
            "           2       0.41      0.36      0.39       151\n",
            "           3       0.42      0.54      0.47       105\n",
            "           4       0.47      0.69      0.56        99\n",
            "\n",
            "    accuracy                           0.53       700\n",
            "   macro avg       0.53      0.54      0.53       700\n",
            "weighted avg       0.55      0.53      0.53       700\n",
            "\n"
          ],
          "name": "stdout"
        }
      ]
    }
  ]
}