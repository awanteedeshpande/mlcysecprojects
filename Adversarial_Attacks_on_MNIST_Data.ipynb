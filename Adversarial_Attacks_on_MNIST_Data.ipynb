{
  "nbformat": 4,
  "nbformat_minor": 0,
  "metadata": {
    "colab": {
      "name": "Adversarial Attacks on MNIST Data",
      "provenance": [],
      "collapsed_sections": []
    },
    "kernelspec": {
      "display_name": "cysecml",
      "language": "python",
      "name": "cysecml"
    },
    "language_info": {
      "codemirror_mode": {
        "name": "ipython",
        "version": 3
      },
      "file_extension": ".py",
      "mimetype": "text/x-python",
      "name": "python",
      "nbconvert_exporter": "python",
      "pygments_lexer": "ipython3",
      "version": "3.7.5"
    }
  },
  "cells": [
    {
      "cell_type": "markdown",
      "metadata": {
        "colab_type": "text",
        "id": "4NzyqehHjUlG"
      },
      "source": [
        "#Adversarial Attacks on MNIST Data\n",
        "\n",
        "  * **Members**:  *Awantee (s8awdesh@stud.uni-saarland.de), Daniel (s8daberr@stud.uni-saarland.de), Shubham (s8shagar@stud.uni-saarland.de)*\n",
        "\n",
        "  \n",
        "## About this Project\n",
        "In this project, we dive into the vulnerabilities of machine learning models and the difficulties of defending against them. To this end, we implement an evasion attack and then try to defend our model.   \n",
        "\n",
        " "
      ]
    },
    {
      "cell_type": "code",
      "metadata": {
        "colab_type": "code",
        "id": "3ewNwfFvbFaR",
        "colab": {}
      },
      "source": [
        "import time \n",
        " \n",
        "import numpy as np \n",
        "import matplotlib.pyplot as plt \n",
        "\n",
        "import json \n",
        "import time \n",
        "import pickle \n",
        "import sys \n",
        "import csv \n",
        "import os \n",
        "import os.path as osp \n",
        "import shutil \n",
        "\n",
        "import pandas as pd\n",
        "\n",
        "from IPython.display import display, HTML\n",
        " \n",
        "%matplotlib inline \n",
        "plt.rcParams['figure.figsize'] = (10.0, 8.0) # set default size of plots \n",
        "plt.rcParams['image.interpolation'] = 'nearest' \n",
        "plt.rcParams['image.cmap'] = 'gray' \n",
        "os.environ[\"CUDA_VISIBLE_DEVICES\"] = '0'\n",
        "# for auto-reloading external modules \n",
        "# see http://stackoverflow.com/questions/1907993/autoreload-of-modules-in-ipython \n",
        "%load_ext autoreload\n",
        "%autoreload 2"
      ],
      "execution_count": 0,
      "outputs": []
    },
    {
      "cell_type": "code",
      "metadata": {
        "colab_type": "code",
        "id": "640GrzbOevr0",
        "colab": {}
      },
      "source": [
        "from collections import Counter          # an even easier way to count\n",
        "from multiprocessing import Pool         # for multiprocessing\n",
        "from tqdm import tqdm                    # fancy progress bars\n",
        "\n",
        "import torchvision.datasets as datasets\n",
        "import torchvision.transforms as transforms\n",
        "import torch.utils.data as data\n",
        "\n",
        "import torch\n",
        "import torch.nn as nn\n",
        "import torch.nn.functional as F\n",
        "import torch.optim as optim\n",
        "from torch.utils.data import DataLoader, Dataset, TensorDataset\n",
        "\n",
        "import tensorflow as tf\n",
        "import torchvision\n",
        "import random\n",
        "import foolbox"
      ],
      "execution_count": 0,
      "outputs": []
    },
    {
      "cell_type": "code",
      "metadata": {
        "colab_type": "code",
        "id": "GJZPEAWYMhYB",
        "colab": {}
      },
      "source": [
        "compute_mode = 'gpu'\n",
        "\n",
        "if compute_mode == 'cpu':\n",
        "    device = torch.device('cpu')\n",
        "elif compute_mode == 'gpu':\n",
        "    # If you are using pytorch on the GPU cluster, you have to manually specify which GPU device to use\n",
        "    os.environ[\"CUDA_VISIBLE_DEVICES\"] = '0'    # Set device ID here\n",
        "    device = torch.device('cuda')\n",
        "else:\n",
        "    raise ValueError('Unrecognized compute mode')"
      ],
      "execution_count": 0,
      "outputs": []
    },
    {
      "cell_type": "markdown",
      "metadata": {
        "id": "denG1U_TPlUB",
        "colab_type": "text"
      },
      "source": [
        "Hyperparameters defined for our Neural Network used throughout this exercise:"
      ]
    },
    {
      "cell_type": "code",
      "metadata": {
        "id": "rHHnsmKOPlUC",
        "colab_type": "code",
        "outputId": "ccee14b5-8603-4817-c1e5-ddfcfcbb3dd8",
        "colab": {}
      },
      "source": [
        "def identity_func(foo):\n",
        "    return foo\n",
        "\n",
        "batch_size_train = 64\n",
        "batch_size_test = 1\n",
        "n_epochs = 5\n",
        "\n",
        "learning_rate = 0.01\n",
        "momentum = 0.9\n",
        "dropout = 0.5\n",
        "\n",
        "random_seed = 1\n",
        "torch.backends.cudnn.enabled = True\n",
        "torch.manual_seed(random_seed)"
      ],
      "execution_count": 0,
      "outputs": [
        {
          "output_type": "execute_result",
          "data": {
            "text/plain": [
              "<torch._C.Generator at 0x1e3b51a4c10>"
            ]
          },
          "metadata": {
            "tags": []
          },
          "execution_count": 4
        }
      ]
    },
    {
      "cell_type": "markdown",
      "metadata": {
        "colab_type": "text",
        "id": "nxi-lLD0mKHD"
      },
      "source": [
        "#### Helper Methods"
      ]
    },
    {
      "cell_type": "code",
      "metadata": {
        "colab_type": "code",
        "id": "VBbigqdEmKd8",
        "outputId": "ed811c10-a391-4362-9e7c-276a5d9ecc66",
        "colab": {}
      },
      "source": [
        "# (1)load data\n",
        "\n",
        "train_loader = torch.utils.data.DataLoader(\n",
        "    torchvision.datasets.MNIST('../MLCS/', train = True, download = False,\n",
        "        transform = torchvision.transforms.Compose([\n",
        "            torchvision.transforms.ToTensor(),\n",
        "            torchvision.transforms.Normalize((0.1307,), (0.3081,))\n",
        "        ])),\n",
        "    batch_size = batch_size_train, shuffle = True)\n",
        "\n",
        "test_loader = torch.utils.data.DataLoader(\n",
        "    torchvision.datasets.MNIST('../MLCS/', train = False, download = False,\n",
        "        transform = torchvision.transforms.Compose([\n",
        "            torchvision.transforms.ToTensor(),\n",
        "            torchvision.transforms.Normalize((0.1307,), (0.3081,))\n",
        "        ])),\n",
        "    batch_size = batch_size_test, shuffle = False)\n",
        "\n",
        "train_data = enumerate(train_loader)\n",
        "batch_idx, (x_trainval, y_trainval) = next(train_data)\n",
        "test_data = enumerate(test_loader)\n",
        "batch_idx, (x_test, y_test) = next(test_data)\n",
        "\n",
        "print('x_trainval.shape = {},  y_trainval.shape = {}'.format(x_trainval.shape, y_trainval.shape))\n",
        "print('x_test.shape = {},  y_test.shape = {}'.format(x_test.shape, y_test.shape))\n",
        "\n",
        "\n",
        "DEBUG_FRAC = 1.0\n",
        "x_trainval = x_trainval[: int(len(x_trainval) * DEBUG_FRAC)]\n",
        "y_trainval = y_trainval[: int(len(y_trainval) * DEBUG_FRAC)]\n",
        "\n",
        "test_set = 'test'\n",
        "\n",
        "if test_set == 'test':\n",
        "    train_idxs, val_idxs = range(0,int(0.75*len(x_trainval))), range(int(0.75*len(x_trainval)),len(x_trainval))\n",
        "    x_train, y_train = x_trainval[train_idxs], y_trainval[train_idxs]\n",
        "    x_eval, y_eval = x_trainval[val_idxs], y_trainval[val_idxs]\n",
        "else:\n",
        "    x_train, y_train = x_trainval, y_trainval\n",
        "    x_eval, y_eval = x_test, y_test"
      ],
      "execution_count": 0,
      "outputs": [
        {
          "output_type": "stream",
          "text": [
            "x_trainval.shape = torch.Size([64, 1, 28, 28]),  y_trainval.shape = torch.Size([64])\n",
            "x_test.shape = torch.Size([1, 1, 28, 28]),  y_test.shape = torch.Size([1])\n"
          ],
          "name": "stdout"
        }
      ]
    },
    {
      "cell_type": "markdown",
      "metadata": {
        "colab_type": "text",
        "id": "n1pcmKkyjT7y"
      },
      "source": [
        "# 1. Attacking an ML-model\n",
        "\n",
        "In this section, we implement an adversarial attack. We then leverage the Foolbox library to craft adversarial examples.\n",
        "\n",
        "A CNN model is pretrained and saved to test the adversarial attack on."
      ]
    },
    {
      "cell_type": "markdown",
      "metadata": {
        "colab_type": "text",
        "id": "QaJv_d_Dp7OM"
      },
      "source": [
        "### 1.1.1: Setting up the model"
      ]
    },
    {
      "cell_type": "code",
      "metadata": {
        "colab_type": "code",
        "id": "c688qdGtO1v-",
        "colab": {}
      },
      "source": [
        "# (2)define model\n",
        "class Net(nn.Module):\n",
        "    def __init__(self):\n",
        "        super(Net, self).__init__()\n",
        "        self.conv1 = nn.Conv2d(1, 10, kernel_size=5)\n",
        "        self.conv2 = nn.Conv2d(10, 20, kernel_size=5)\n",
        "        \n",
        "        self.conv2_drop = nn.Dropout2d(dropout)\n",
        "        self.fc1 = nn.Linear(320, 50)\n",
        "        self.fc2 = nn.Linear(50, 10)\n",
        "\n",
        "    def forward(self, x):\n",
        "        x = F.relu(F.max_pool2d(self.conv1(x), 2))\n",
        "        x = F.relu(F.max_pool2d(self.conv2_drop(self.conv2(x)), 2))\n",
        "        x = x.view(-1, 320)\n",
        "        x = F.relu(self.fc1(x))\n",
        "        x = F.dropout(x, training=self.training)\n",
        "        x = self.fc2(x)\n",
        "        return F.log_softmax(x)"
      ],
      "execution_count": 0,
      "outputs": []
    },
    {
      "cell_type": "code",
      "metadata": {
        "id": "JFSW-Y1iPlUK",
        "colab_type": "code",
        "outputId": "1fffa79d-b9dc-4016-e0de-e8c5c0b2b54b",
        "colab": {}
      },
      "source": [
        "# (3)define loss, optimizer\n",
        "loss_function = F.nll_loss\n",
        "network = Net().to(device)\n",
        "optimizer = optim.SGD(network.parameters(), lr=learning_rate, momentum=momentum)\n",
        "print(network)\n",
        "\n",
        "train_losses = []\n",
        "train_counter = []\n",
        "test_losses = []\n",
        "test_counter = [i*len(train_loader.dataset) for i in range(0,n_epochs)]\n",
        "train_accuracy = []\n",
        "test_accuracy = []"
      ],
      "execution_count": 0,
      "outputs": [
        {
          "output_type": "stream",
          "text": [
            "Net(\n",
            "  (conv1): Conv2d(1, 10, kernel_size=(5, 5), stride=(1, 1))\n",
            "  (conv2): Conv2d(10, 20, kernel_size=(5, 5), stride=(1, 1))\n",
            "  (conv2_drop): Dropout2d(p=0.5, inplace=False)\n",
            "  (fc1): Linear(in_features=320, out_features=50, bias=True)\n",
            "  (fc2): Linear(in_features=50, out_features=10, bias=True)\n",
            ")\n"
          ],
          "name": "stdout"
        }
      ]
    },
    {
      "cell_type": "code",
      "metadata": {
        "id": "6UGFPVDgPlUN",
        "colab_type": "code",
        "colab": {}
      },
      "source": [
        "# (4)train\n",
        "\n",
        "def train(epoch):\n",
        "    correct = 0\n",
        "    network.train()\n",
        "    for batch_idx, (data, target) in enumerate(train_loader):\n",
        "        data, target = data.to(device),target.to(device)\n",
        "        optimizer.zero_grad()\n",
        "        output = network(data)\n",
        "        loss = loss_function(output, target)\n",
        "        loss.backward()\n",
        "        pred = output.data.max(1, keepdim=True)[1]\n",
        "        correct += pred.eq(target.data.view_as(pred)).sum()\n",
        "        optimizer.step()\n",
        "        train_losses.append(loss.item())\n",
        "        train_counter.append(\n",
        "            (batch_idx*64) + ((epoch-1)*len(train_loader.dataset)))\n",
        "        torch.save(network.state_dict(), 'mode.pth')\n",
        "        torch.save(optimizer.state_dict(), 'optimizer.pth')\n",
        "    train_accuracy.append(100. * correct / len(train_loader.dataset))"
      ],
      "execution_count": 0,
      "outputs": []
    },
    {
      "cell_type": "code",
      "metadata": {
        "id": "XDAhNXquPlUO",
        "colab_type": "code",
        "colab": {}
      },
      "source": [
        "# (5)evaluate\n",
        "\n",
        "def test():\n",
        "    network.eval()\n",
        "    test_loss = 0\n",
        "    correct = 0\n",
        "    with torch.no_grad():\n",
        "        for data, target in test_loader:\n",
        "            data, target = data.to(device),target.to(device)\n",
        "            output = network(data)\n",
        "            test_loss += loss_function(output, target, size_average=False).item()\n",
        "            pred = output.data.max(1, keepdim=True)[1]\n",
        "            correct += pred.eq(target.data.view_as(pred)).sum()\n",
        "        test_loss /= len(test_loader.dataset)\n",
        "        test_losses.append(test_loss)\n",
        "        test_accuracy.append(100. * correct / len(test_loader.dataset))"
      ],
      "execution_count": 0,
      "outputs": []
    },
    {
      "cell_type": "markdown",
      "metadata": {
        "id": "PQ22teGJPlUQ",
        "colab_type": "text"
      },
      "source": [
        "# Accuracy Values for Original Train & Test Dataset"
      ]
    },
    {
      "cell_type": "code",
      "metadata": {
        "id": "Y4UXuaB3PlUR",
        "colab_type": "code",
        "outputId": "ea1d80fc-6012-434a-b601-47c77ed63986",
        "colab": {}
      },
      "source": [
        "for epoch in range(1, n_epochs + 1):  \n",
        "    train(epoch)\n",
        "    test()\n",
        "    print('Epoch %d, Train acc: %f, Test acc: %f' % (epoch, train_accuracy[-1], test_accuracy[-1]))\n",
        "    print()"
      ],
      "execution_count": 0,
      "outputs": [
        {
          "output_type": "stream",
          "text": [
            "C:\\Users\\agarw\\AppData\\Roaming\\Python\\Python37\\site-packages\\ipykernel_launcher.py:19: UserWarning: Implicit dimension choice for log_softmax has been deprecated. Change the call to include dim=X as an argument.\n",
            "C:\\Users\\agarw\\.conda\\envs\\cysecml\\lib\\site-packages\\torch\\nn\\_reduction.py:43: UserWarning: size_average and reduce args will be deprecated, please use reduction='sum' instead.\n",
            "  warnings.warn(warning.format(ret))\n"
          ],
          "name": "stderr"
        },
        {
          "output_type": "stream",
          "text": [
            "Epoch 1, Train acc: 81.500000, Test acc: 97.000000\n",
            "\n",
            "Epoch 2, Train acc: 92.315002, Test acc: 97.829994\n",
            "\n",
            "Epoch 3, Train acc: 93.731667, Test acc: 98.279999\n",
            "\n",
            "Epoch 4, Train acc: 94.448334, Test acc: 98.389999\n",
            "\n",
            "Epoch 5, Train acc: 94.953331, Test acc: 98.459999\n",
            "\n"
          ],
          "name": "stdout"
        }
      ]
    },
    {
      "cell_type": "code",
      "metadata": {
        "id": "jt0_0R5xPlUT",
        "colab_type": "code",
        "colab": {}
      },
      "source": [
        "loadedNetwork = Net().to(device)\n",
        "loadedOptimizer = optim.SGD(loadedNetwork.parameters(), lr=learning_rate, momentum=momentum)\n",
        "\n",
        "loadedNetwork.load_state_dict(torch.load(\"mode.pth\"))\n",
        "loadedOptimizer.load_state_dict(torch.load(\"optimizer.pth\"))"
      ],
      "execution_count": 0,
      "outputs": []
    },
    {
      "cell_type": "markdown",
      "metadata": {
        "id": "HGlnxAjAPlUU",
        "colab_type": "text"
      },
      "source": [
        "fgsm_attack - Generates perturbation for each datapoint."
      ]
    },
    {
      "cell_type": "code",
      "metadata": {
        "id": "0daX34NZPlUV",
        "colab_type": "code",
        "colab": {}
      },
      "source": [
        "def fgsm_attack(data, target, epsilon):\n",
        "    delta = torch.zeros_like(data, requires_grad=True)\n",
        "    loss = loss_function(loadedNetwork(data + delta), target)\n",
        "    loss.backward()\n",
        "    return epsilon * delta.grad.detach().sign()"
      ],
      "execution_count": 0,
      "outputs": []
    },
    {
      "cell_type": "markdown",
      "metadata": {
        "colab_type": "text",
        "id": "DEQrdyLHsUIu"
      },
      "source": [
        "### 1.1.2: Implement FGSM Attack\n",
        "\n",
        "The fgsm_test function generates perturbed data for each test datapoint, predicts its label and then return its total accuracy at the end. "
      ]
    },
    {
      "cell_type": "code",
      "metadata": {
        "colab_type": "code",
        "id": "gcVZnUNbRKOz",
        "colab": {}
      },
      "source": [
        "def fgsm_test(test_loader, epsilon):\n",
        "    fgsm_correct = 0\n",
        "    adversarial_examples = []\n",
        "    original_perturbed_dataset = []\n",
        "    loadedNetwork.trainable = False\n",
        "    \n",
        "    for data, target in test_loader:\n",
        "        data, target = data.to(device), target.to(device)\n",
        "        data.requires_grad = True\n",
        "        output = loadedNetwork(data)\n",
        "        normal_pred = output.data.max(1, keepdim=True)[1]\n",
        "\n",
        "        loss = F.nll_loss(output, target)\n",
        "        loadedNetwork.zero_grad()\n",
        "        loss.backward()\n",
        "        \n",
        "        data_grad = data.grad.data\n",
        "        perturbed_data = data + fgsm_attack(data, target, epsilon)\n",
        "        output = loadedNetwork(perturbed_data)\n",
        "        \n",
        "        fgsm_pred = output.data.max(1, keepdim=True)[1]\n",
        "        original_perturbed_dataset.append((data, perturbed_data, target))\n",
        "        \n",
        "        if normal_pred.item() != target.item():\n",
        "            continue\n",
        "        \n",
        "        if fgsm_pred.item() == target.item():\n",
        "            fgsm_correct += 1\n",
        "            \n",
        "            if (epsilon == 0) and (len(adversarial_examples) < 5):\n",
        "                adv_ex = perturbed_data.squeeze().detach().cpu().numpy()\n",
        "                adversarial_examples.append((normal_pred.item(), fgsm_pred.item(), adv_ex))\n",
        "        else:\n",
        "            if len(adversarial_examples) < 5:\n",
        "                adv_ex = perturbed_data.squeeze().detach().cpu().numpy()\n",
        "                adversarial_examples.append((normal_pred.item(), fgsm_pred.item(), adv_ex))\n",
        "\n",
        "    total_accuracy = fgsm_correct/float(len(test_loader))\n",
        "    print(\"Epsilon: {}\\tTest Accuracy = {} / {} = {}%\".format(epsilon, fgsm_correct, len(test_loader), total_accuracy * 100))\n",
        "\n",
        "    return total_accuracy, adversarial_examples, original_perturbed_dataset"
      ],
      "execution_count": 0,
      "outputs": []
    },
    {
      "cell_type": "markdown",
      "metadata": {
        "colab_type": "text",
        "id": "RNpI3oUoO1wE"
      },
      "source": [
        "### 1.1.3: Generate adversarial sample set\n",
        "\n",
        "We generate a dataset containing 2,000 adversarial examples from the training dataset using FGSM."
      ]
    },
    {
      "cell_type": "code",
      "metadata": {
        "id": "OcdV3hHNPlUZ",
        "colab_type": "code",
        "outputId": "406e2612-3076-46ed-f743-6a3ec05fa93b",
        "colab": {}
      },
      "source": [
        "train_loader_1 = torch.utils.data.DataLoader(\n",
        "    torchvision.datasets.MNIST('../MLCS/', train = True, download = False,\n",
        "        transform = torchvision.transforms.Compose([\n",
        "            torchvision.transforms.ToTensor(),\n",
        "            torchvision.transforms.Normalize((0.1307,), (0.3081,))\n",
        "        ])),\n",
        "    batch_size = 1, shuffle = True)\n",
        "perturbed_dataset = []\n",
        "for batch_idx, (data, target) in enumerate(train_loader_1):\n",
        "    if batch_idx >= 2000:\n",
        "        break;\n",
        "    data, target = data.to(device),target.to(device)\n",
        "    perturbed_data = data + fgsm_attack(data, target, 0.2)\n",
        "    output = loadedNetwork(perturbed_data)\n",
        "    loss = loss_function(output, target)\n",
        "    optimizer.zero_grad()\n",
        "    loss.backward()\n",
        "    optimizer.step()\n",
        "    perturbed_dataset.append((data, perturbed_data, target))"
      ],
      "execution_count": 0,
      "outputs": [
        {
          "output_type": "stream",
          "text": [
            "C:\\Users\\agarw\\AppData\\Roaming\\Python\\Python37\\site-packages\\ipykernel_launcher.py:19: UserWarning: Implicit dimension choice for log_softmax has been deprecated. Change the call to include dim=X as an argument.\n"
          ],
          "name": "stderr"
        }
      ]
    },
    {
      "cell_type": "code",
      "metadata": {
        "id": "4AkDIwqVPlUb",
        "colab_type": "code",
        "outputId": "ef953a6e-baf4-46cb-88b7-148151c94358",
        "colab": {}
      },
      "source": [
        "fgsm_vis_counter = 0\n",
        "for (data, perturbed_data, target) in perturbed_dataset:\n",
        "    if fgsm_vis_counter >= 5:\n",
        "        break\n",
        "    \n",
        "    original_image = data[0].cpu().detach().numpy()\n",
        "    original_image = original_image.reshape(original_image.shape[1], original_image.shape[2])\n",
        "    adversarial_image = perturbed_data[0].cpu().detach().numpy()\n",
        "    adversarial_image = adversarial_image.reshape(adversarial_image.shape[1], adversarial_image.shape[2])\n",
        "\n",
        "    plt.figure()\n",
        "\n",
        "    plt.subplot(1, 3, 1)\n",
        "    plt.title('Original')\n",
        "    plt.imshow(original_image)\n",
        "    plt.axis('off')\n",
        "\n",
        "    plt.subplot(1, 3, 2)\n",
        "    plt.title('Adversarial - FGSM')\n",
        "    plt.imshow(adversarial_image)\n",
        "    plt.axis('off')\n",
        "\n",
        "    plt.subplot(1, 3, 3)\n",
        "    plt.title('Difference')\n",
        "    difference = adversarial_image - original_image\n",
        "    plt.imshow(difference / abs(difference).max() * 0.2 + 0.5)\n",
        "    plt.axis('off')\n",
        "    fgsm_vis_counter += 1\n",
        "\n",
        "plt.show()"
      ],
      "execution_count": 0,
      "outputs": [
        {
          "output_type": "display_data",
          "data": {
            "image/png": "[encoded data removed]",
            "text/plain": [
              "<Figure size 432x288 with 3 Axes>"
            ]
          },
          "metadata": {
            "tags": [],
            "needs_background": "light"
          }
        },
        {
          "output_type": "display_data",
          "data": {
            "image/png": "[encoded data removed]",
            "text/plain": [
              "<Figure size 432x288 with 3 Axes>"
            ]
          },
          "metadata": {
            "tags": [],
            "needs_background": "light"
          }
        },
        {
          "output_type": "display_data",
          "data": {
            "image/png": "[encoded data removed]",
            "text/plain": [
              "<Figure size 432x288 with 3 Axes>"
            ]
          },
          "metadata": {
            "tags": [],
            "needs_background": "light"
          }
        },
        {
          "output_type": "display_data",
          "data": {
            "image/png": "[encoded data removed]",
            "text/plain": [
              "<Figure size 432x288 with 3 Axes>"
            ]
          },
          "metadata": {
            "tags": [],
            "needs_background": "light"
          }
        },
        {
          "output_type": "display_data",
          "data": {
            "image/png": "[encoded data removed]",
            "text/plain": [
              "<Figure size 432x288 with 3 Axes>"
            ]
          },
          "metadata": {
            "tags": [],
            "needs_background": "light"
          }
        }
      ]
    },
    {
      "cell_type": "markdown",
      "metadata": {
        "id": "jwQ6dw-CPlUd",
        "colab_type": "text"
      },
      "source": [
        "# Attack 0 - FGSM\n",
        "\n",
        "FGSM runs on range of epsilon values, one of which is chosen as the optimal value for the attack and defense evaluation."
      ]
    },
    {
      "cell_type": "code",
      "metadata": {
        "colab_type": "code",
        "id": "EvYpo9p2O1wF",
        "outputId": "9d919f4f-9e61-4ea1-a1b5-be4d86e8f6cf",
        "colab": {}
      },
      "source": [
        "fgsm_accuracies = []\n",
        "fgsm_examples = []\n",
        "original_perturbed_dataset = []\n",
        "epsilons = [0.0, 0.05, 0.1, 0.15, 0.2, 0.3]\n",
        "\n",
        "for epsilon in epsilons:\n",
        "    accuracy, example_set, original_perturbed_data = fgsm_test(test_loader, epsilon)\n",
        "    fgsm_accuracies.append(accuracy)\n",
        "    fgsm_examples.append(example_set)\n",
        "    original_perturbed_dataset.append(original_perturbed_data)"
      ],
      "execution_count": 0,
      "outputs": [
        {
          "output_type": "stream",
          "text": [
            "C:\\Users\\agarw\\AppData\\Roaming\\Python\\Python37\\site-packages\\ipykernel_launcher.py:19: UserWarning: Implicit dimension choice for log_softmax has been deprecated. Change the call to include dim=X as an argument.\n"
          ],
          "name": "stderr"
        },
        {
          "output_type": "stream",
          "text": [
            "Epsilon: 0.0\tTest Accuracy = 9223 / 10000 = 92.23%\n",
            "Epsilon: 0.05\tTest Accuracy = 9090 / 10000 = 90.9%\n",
            "Epsilon: 0.1\tTest Accuracy = 8824 / 10000 = 88.24%\n",
            "Epsilon: 0.15\tTest Accuracy = 8563 / 10000 = 85.63%\n",
            "Epsilon: 0.2\tTest Accuracy = 8186 / 10000 = 81.86%\n",
            "Epsilon: 0.3\tTest Accuracy = 7249 / 10000 = 72.49%\n"
          ],
          "name": "stdout"
        }
      ]
    },
    {
      "cell_type": "markdown",
      "metadata": {
        "id": "nP3hZp_qPlUg",
        "colab_type": "text"
      },
      "source": [
        "The epsilon which resulted least accuracy is picked for further evaluation -  attack and defense."
      ]
    },
    {
      "cell_type": "code",
      "metadata": {
        "id": "Zd-KlJVrPlUg",
        "colab_type": "code",
        "outputId": "4e6fe9fe-2791-4ec5-eea7-81c86b34db98",
        "colab": {}
      },
      "source": [
        "chosen_epsilon = epsilons[np.argmin(np.asarray(fgsm_accuracies))]\n",
        "chosen_accuracy, chosen_example_set, chosen_original_perturbed_dataset = fgsm_test(test_loader, chosen_epsilon)"
      ],
      "execution_count": 0,
      "outputs": [
        {
          "output_type": "stream",
          "text": [
            "C:\\Users\\agarw\\AppData\\Roaming\\Python\\Python37\\site-packages\\ipykernel_launcher.py:19: UserWarning: Implicit dimension choice for log_softmax has been deprecated. Change the call to include dim=X as an argument.\n"
          ],
          "name": "stderr"
        },
        {
          "output_type": "stream",
          "text": [
            "Epsilon: 0.3\tTest Accuracy = 7293 / 10000 = 72.92999999999999%\n"
          ],
          "name": "stdout"
        }
      ]
    },
    {
      "cell_type": "markdown",
      "metadata": {
        "id": "mhX3XQP5PlUj",
        "colab_type": "text"
      },
      "source": [
        "Visualization : Original - Adversarial Image - Difference Generated"
      ]
    },
    {
      "cell_type": "code",
      "metadata": {
        "id": "wNj4c0C0PlUk",
        "colab_type": "code",
        "outputId": "dbb91bc7-1bae-4311-f5b0-2d3b4e21fe38",
        "colab": {}
      },
      "source": [
        "fgsm_vis_counter = 0\n",
        "for (data, perturbed_data, target) in chosen_original_perturbed_dataset:\n",
        "    if fgsm_vis_counter >= 5:\n",
        "        break\n",
        "    \n",
        "    original_image = data[0].cpu().detach().numpy()\n",
        "    original_image = original_image.reshape(original_image.shape[1], original_image.shape[2])\n",
        "    adversarial_image = perturbed_data[0].cpu().detach().numpy()\n",
        "    adversarial_image = adversarial_image.reshape(adversarial_image.shape[1], adversarial_image.shape[2])\n",
        "\n",
        "    plt.figure()\n",
        "\n",
        "    plt.subplot(1, 3, 1)\n",
        "    plt.title('Original')\n",
        "    plt.imshow(original_image)\n",
        "    plt.axis('off')\n",
        "\n",
        "    plt.subplot(1, 3, 2)\n",
        "    plt.title('Adversarial - FGSM')\n",
        "    plt.imshow(adversarial_image)\n",
        "    plt.axis('off')\n",
        "\n",
        "    plt.subplot(1, 3, 3)\n",
        "    plt.title('Difference')\n",
        "    difference = adversarial_image - original_image\n",
        "    plt.imshow(difference / abs(difference).max() * 0.2 + 0.5)\n",
        "    plt.axis('off')\n",
        "    fgsm_vis_counter += 1\n",
        "\n",
        "plt.show()"
      ],
      "execution_count": 0,
      "outputs": [
        {
          "output_type": "display_data",
          "data": {
            "image/png": "[encoded data removed]",
            "text/plain": [
              "<Figure size 432x288 with 3 Axes>"
            ]
          },
          "metadata": {
            "tags": [],
            "needs_background": "light"
          }
        },
        {
          "output_type": "display_data",
          "data": {
            "image/png": "[encoded data removed]",
            "text/plain": [
              "<Figure size 432x288 with 3 Axes>"
            ]
          },
          "metadata": {
            "tags": [],
            "needs_background": "light"
          }
        },
        {
          "output_type": "display_data",
          "data": {
            "image/png": "[encoded data removed]",
            "text/plain": [
              "<Figure size 432x288 with 3 Axes>"
            ]
          },
          "metadata": {
            "tags": [],
            "needs_background": "light"
          }
        },
        {
          "output_type": "display_data",
          "data": {
            "image/png": "[encoded data removed]",
            "text/plain": [
              "<Figure size 432x288 with 3 Axes>"
            ]
          },
          "metadata": {
            "tags": [],
            "needs_background": "light"
          }
        },
        {
          "output_type": "display_data",
          "data": {
            "image/png": "[encoded data removed]",
            "text/plain": [
              "<Figure size 432x288 with 3 Axes>"
            ]
          },
          "metadata": {
            "tags": [],
            "needs_background": "light"
          }
        }
      ]
    },
    {
      "cell_type": "markdown",
      "metadata": {
        "colab_type": "text",
        "id": "Ex3qQp3JolD1"
      },
      "source": [
        "### 1.1.3: Results\n"
      ]
    },
    {
      "cell_type": "code",
      "metadata": {
        "colab_type": "code",
        "id": "eGkp0B0PO1wJ",
        "outputId": "320c09c8-e0d8-485f-e9a0-6b830b8f9d82",
        "colab": {}
      },
      "source": [
        "plt.plot(epsilons, fgsm_accuracies, \"*-\")\n",
        "plt.yticks(np.arange(0.5, 1.01, step=0.05))\n",
        "plt.xticks(np.arange(0, .35, step=0.05))\n",
        "plt.title(\"Accuracy vs Epsilon\")\n",
        "plt.xlabel(\"Epsilon\")\n",
        "plt.ylabel(\"Accuracy\")\n",
        "plt.show()"
      ],
      "execution_count": 0,
      "outputs": [
        {
          "output_type": "display_data",
          "data": {
            "image/png": "[encoded data removed]",
            "text/plain": [
              "<Figure size 432x288 with 1 Axes>"
            ]
          },
          "metadata": {
            "tags": [],
            "needs_background": "light"
          }
        }
      ]
    },
    {
      "cell_type": "code",
      "metadata": {
        "id": "Na87mSq9PlUp",
        "colab_type": "code",
        "outputId": "7720b807-bec7-4fd6-ec85-797793f9cb1d",
        "colab": {}
      },
      "source": [
        "count = 0\n",
        "plt.figure(figsize=(8,10))\n",
        "for epsilon_index in range(len(epsilons)):\n",
        "    for example_index in range(len(fgsm_examples[epsilon_index])):\n",
        "        count += 1\n",
        "        plt.subplot(len(epsilons),len(fgsm_examples[0]),count)\n",
        "        plt.xticks([], [])\n",
        "        plt.yticks([], [])\n",
        "        if example_index == 0:\n",
        "            plt.ylabel(\"Eps: {}\".format(epsilons[epsilon_index]), fontsize=14)\n",
        "        orig,adv,ex = fgsm_examples[epsilon_index][example_index]\n",
        "        plt.title(\"{} -> {}\".format(orig, adv))\n",
        "        plt.imshow(ex, cmap=\"gray\")\n",
        "plt.tight_layout()\n",
        "plt.show()"
      ],
      "execution_count": 0,
      "outputs": [
        {
          "output_type": "display_data",
          "data": {
            "image/png": "[encoded data removed]",
            "text/plain": [
              "<Figure size 576x720 with 30 Axes>"
            ]
          },
          "metadata": {
            "tags": []
          }
        }
      ]
    },
    {
      "cell_type": "markdown",
      "metadata": {
        "colab_type": "text",
        "id": "iPB-GK1CymiV"
      },
      "source": [
        "### 1.2.1: Use of Foolbox libraries for other attacks\n"
      ]
    },
    {
      "cell_type": "code",
      "metadata": {
        "id": "wvjEEFL2PlUs",
        "colab_type": "code",
        "colab": {}
      },
      "source": [
        "(x_train, y_train), (x_test, y_test) = tf.keras.datasets.mnist.load_data()\n",
        "x_train = x_train.reshape(x_train.shape[0],1, 28, 28)\n",
        "x_test = x_test.reshape(x_test.shape[0],1, 28, 28)\n",
        "x_train = x_train.astype('float32') / 255\n",
        "x_test = x_test.astype('float32') / 255"
      ],
      "execution_count": 0,
      "outputs": []
    },
    {
      "cell_type": "code",
      "metadata": {
        "colab_type": "code",
        "id": "pa6rPT53LUW8",
        "outputId": "378ce1e7-911b-43b5-d2b8-c42c300d63a0",
        "colab": {}
      },
      "source": [
        "loadedNetwork = loadedNetwork.eval()\n",
        "fmodel = foolbox.models.PyTorchModel(loadedNetwork, bounds=(0, 255), num_classes=10)\n",
        "print(\"Mean Accuracy for Predictions on Original Data: {0:.2f}%\".format(np.mean(fmodel.forward(x_test).argmax(axis=-1) == y_test) * 100))"
      ],
      "execution_count": 0,
      "outputs": [
        {
          "output_type": "stream",
          "text": [
            "C:\\Users\\agarw\\AppData\\Roaming\\Python\\Python37\\site-packages\\ipykernel_launcher.py:19: UserWarning: Implicit dimension choice for log_softmax has been deprecated. Change the call to include dim=X as an argument.\n"
          ],
          "name": "stderr"
        },
        {
          "output_type": "stream",
          "text": [
            "Mean Accuracy for Predictions on Original Data: 93.23%\n"
          ],
          "name": "stdout"
        }
      ]
    },
    {
      "cell_type": "markdown",
      "metadata": {
        "id": "B-v2elh8PlUw",
        "colab_type": "text"
      },
      "source": [
        "# Attack 1 - Adversarial Deformation (Adef)"
      ]
    },
    {
      "cell_type": "code",
      "metadata": {
        "id": "9mGTzoWHPlUw",
        "colab_type": "code",
        "outputId": "3d311091-717f-4440-b94b-846e4c1a998c",
        "colab": {}
      },
      "source": [
        "# (a) attack 1\n",
        "attack = foolbox.attacks.ADefAttack(fmodel)\n",
        "adversarials_1 = attack(np.array(x_test), np.array(y_test))\n",
        "\n",
        "print(\"Mean Accuracy for Predictions on Perturbed Data by ADefAttack: {0:.2f}%\".format(np.mean(fmodel.forward(adversarials_1).argmax(axis=-1) == y_test) * 100))"
      ],
      "execution_count": 0,
      "outputs": [
        {
          "output_type": "stream",
          "text": [
            "C:\\Users\\agarw\\AppData\\Roaming\\Python\\Python37\\site-packages\\ipykernel_launcher.py:19: UserWarning: Implicit dimension choice for log_softmax has been deprecated. Change the call to include dim=X as an argument.\n",
            "C:\\Users\\agarw\\.conda\\envs\\cysecml\\lib\\site-packages\\foolbox\\attacks\\adef_attack.py:159: RuntimeWarning: invalid value encountered in true_divide\n",
            "  vec_field[:, :, 0] = -fval * alpha1 / norm_squared_alpha\n",
            "C:\\Users\\agarw\\.conda\\envs\\cysecml\\lib\\site-packages\\foolbox\\attacks\\adef_attack.py:160: RuntimeWarning: invalid value encountered in true_divide\n",
            "  vec_field[:, :, 1] = -fval * alpha2 / norm_squared_alpha\n",
            "C:\\Users\\agarw\\.conda\\envs\\cysecml\\lib\\site-packages\\foolbox\\attacks\\base.py:95: UserWarning: ADefAttack did not find an adversarial, maybe the model or the criterion is not supported by this attack.\n",
            "  \" attack.\".format(self.name())\n"
          ],
          "name": "stderr"
        },
        {
          "output_type": "stream",
          "text": [
            "Mean Accuracy for Predictions on Perturbed Data by ADefAttack: 5.32%\n"
          ],
          "name": "stdout"
        }
      ]
    },
    {
      "cell_type": "code",
      "metadata": {
        "id": "GtIBy-ayPlUy",
        "colab_type": "code",
        "outputId": "f21223f2-1d68-408e-b9b5-82dcf059e942",
        "colab": {}
      },
      "source": [
        "random_sample = random.sample(range(0, len(x_test)), 5)\n",
        "for number in random_sample:\n",
        "    image = x_test[number]\n",
        "    image = image.transpose(1, 2, 0)\n",
        "    image = image.reshape(image.shape[0], image.shape[1])\n",
        "    adversarial = adversarials_1[number]\n",
        "    adversarial = adversarial.transpose(1, 2, 0)\n",
        "    adversarial = adversarial.reshape(adversarial.shape[0], adversarial.shape[1])\n",
        "\n",
        "    plt.figure()\n",
        "\n",
        "    plt.subplot(1, 3, 1)\n",
        "    plt.title('Original')\n",
        "    plt.imshow(image)\n",
        "    plt.axis('off')\n",
        "\n",
        "    plt.subplot(1, 3, 2)\n",
        "    plt.title('Adversarial')\n",
        "    plt.imshow(adversarial)\n",
        "    plt.axis('off')\n",
        "\n",
        "    plt.subplot(1, 3, 3)\n",
        "    plt.title('Difference')\n",
        "    difference = adversarial - image\n",
        "    plt.imshow(difference / abs(difference).max() * 0.2 + 0.5)\n",
        "    plt.axis('off')\n",
        "\n",
        "plt.show()"
      ],
      "execution_count": 0,
      "outputs": [
        {
          "output_type": "display_data",
          "data": {
            "image/png": "[encoded data removed]",
            "text/plain": [
              "<Figure size 432x288 with 3 Axes>"
            ]
          },
          "metadata": {
            "tags": [],
            "needs_background": "light"
          }
        },
        {
          "output_type": "stream",
          "text": [
            "C:\\Users\\agarw\\.conda\\envs\\cysecml\\lib\\site-packages\\matplotlib\\image.py:397: UserWarning: Warning: converting a masked element to nan.\n",
            "  dv = (np.float64(self.norm.vmax) -\n",
            "C:\\Users\\agarw\\.conda\\envs\\cysecml\\lib\\site-packages\\matplotlib\\image.py:398: UserWarning: Warning: converting a masked element to nan.\n",
            "  np.float64(self.norm.vmin))\n",
            "C:\\Users\\agarw\\.conda\\envs\\cysecml\\lib\\site-packages\\matplotlib\\image.py:405: UserWarning: Warning: converting a masked element to nan.\n",
            "  a_min = np.float64(newmin)\n",
            "C:\\Users\\agarw\\.conda\\envs\\cysecml\\lib\\site-packages\\matplotlib\\image.py:410: UserWarning: Warning: converting a masked element to nan.\n",
            "  a_max = np.float64(newmax)\n",
            "<string>:6: UserWarning: Warning: converting a masked element to nan.\n",
            "C:\\Users\\agarw\\.conda\\envs\\cysecml\\lib\\site-packages\\numpy\\ma\\core.py:711: UserWarning: Warning: converting a masked element to nan.\n",
            "  data = np.array(a, copy=False, subok=subok)\n"
          ],
          "name": "stderr"
        },
        {
          "output_type": "display_data",
          "data": {
            "image/png": "[encoded data removed]",
            "text/plain": [
              "<Figure size 432x288 with 3 Axes>"
            ]
          },
          "metadata": {
            "tags": [],
            "needs_background": "light"
          }
        },
        {
          "output_type": "display_data",
          "data": {
            "image/png": "[encoded data removed]",
            "text/plain": [
              "<Figure size 432x288 with 3 Axes>"
            ]
          },
          "metadata": {
            "tags": [],
            "needs_background": "light"
          }
        },
        {
          "output_type": "display_data",
          "data": {
            "image/png": "[encoded data removed]",
            "text/plain": [
              "<Figure size 432x288 with 3 Axes>"
            ]
          },
          "metadata": {
            "tags": [],
            "needs_background": "light"
          }
        },
        {
          "output_type": "display_data",
          "data": {
            "image/png": "[encoded data removed]",
            "text/plain": [
              "<Figure size 432x288 with 3 Axes>"
            ]
          },
          "metadata": {
            "tags": [],
            "needs_background": "light"
          }
        }
      ]
    },
    {
      "cell_type": "markdown",
      "metadata": {
        "id": "AxRt4AbaPlUz",
        "colab_type": "text"
      },
      "source": [
        "# Attack 2 - Decoupled Direction Norm for Gradient-based L2 Attack"
      ]
    },
    {
      "cell_type": "code",
      "metadata": {
        "id": "eI1YzjnHPlU0",
        "colab_type": "code",
        "outputId": "2cb2b341-e708-443c-97d6-ff410f2e0b4d",
        "colab": {}
      },
      "source": [
        "# (b) attack 2\n",
        "\n",
        "attack = foolbox.attacks.DecoupledDirectionNormL2Attack(fmodel)\n",
        "adversarials_2 = attack(np.array(x_test), np.array(y_test))\n",
        "\n",
        "print(\"Mean Accuracy for Predictions on Perturbed Data by Decoupled Direction - Gradient-based L2 Attack: {0:.2f}%\".format(np.mean(fmodel.forward(adversarials_2).argmax(axis=-1) == y_test) * 100))"
      ],
      "execution_count": 0,
      "outputs": [
        {
          "output_type": "stream",
          "text": [
            "C:\\Users\\agarw\\AppData\\Roaming\\Python\\Python37\\site-packages\\ipykernel_launcher.py:19: UserWarning: Implicit dimension choice for log_softmax has been deprecated. Change the call to include dim=X as an argument.\n"
          ],
          "name": "stderr"
        },
        {
          "output_type": "stream",
          "text": [
            "Mean Accuracy for Predictions on Perturbed Data by Decoupled Direction - Gradient-based L2 Attack: 0.00%\n"
          ],
          "name": "stdout"
        }
      ]
    },
    {
      "cell_type": "code",
      "metadata": {
        "id": "uK6U74_SPlU1",
        "colab_type": "code",
        "outputId": "18418d52-92f9-41d8-9d69-38120f59b3e3",
        "colab": {}
      },
      "source": [
        "random_sample = random.sample(range(0, len(x_test)), 5)\n",
        "for number in random_sample:\n",
        "    image = x_test[number]\n",
        "    image = image.transpose(1, 2, 0)\n",
        "    image = image.reshape(image.shape[0], image.shape[1])\n",
        "    adversarial = adversarials_2[number]\n",
        "    adversarial = adversarial.transpose(1, 2, 0)\n",
        "    adversarial = adversarial.reshape(adversarial.shape[0], adversarial.shape[1])\n",
        "\n",
        "    plt.figure()\n",
        "\n",
        "    plt.subplot(1, 3, 1)\n",
        "    plt.title('Original')\n",
        "    plt.imshow(image)\n",
        "    plt.axis('off')\n",
        "\n",
        "    plt.subplot(1, 3, 2)\n",
        "    plt.title('Adversarial')\n",
        "    plt.imshow(adversarial)\n",
        "    plt.axis('off')\n",
        "\n",
        "    plt.subplot(1, 3, 3)\n",
        "    plt.title('Difference')\n",
        "    difference = adversarial - image\n",
        "    plt.imshow(difference / abs(difference).max() * 0.2 + 0.5)\n",
        "    plt.axis('off')\n",
        "\n",
        "plt.show()"
      ],
      "execution_count": 0,
      "outputs": [
        {
          "output_type": "display_data",
          "data": {
            "image/png": "[encoded data removed]",
            "text/plain": [
              "<Figure size 432x288 with 3 Axes>"
            ]
          },
          "metadata": {
            "tags": [],
            "needs_background": "light"
          }
        },
        {
          "output_type": "display_data",
          "data": {
            "image/png": "[encoded data removed]",
            "text/plain": [
              "<Figure size 432x288 with 3 Axes>"
            ]
          },
          "metadata": {
            "tags": [],
            "needs_background": "light"
          }
        },
        {
          "output_type": "display_data",
          "data": {
            "image/png": "[encoded data removed]",
            "text/plain": [
              "<Figure size 432x288 with 3 Axes>"
            ]
          },
          "metadata": {
            "tags": [],
            "needs_background": "light"
          }
        },
        {
          "output_type": "display_data",
          "data": {
            "image/png": "[encoded data removed]",
            "text/plain": [
              "<Figure size 432x288 with 3 Axes>"
            ]
          },
          "metadata": {
            "tags": [],
            "needs_background": "light"
          }
        },
        {
          "output_type": "display_data",
          "data": {
            "image/png": "[encoded data removed]",
            "text/plain": [
              "<Figure size 432x288 with 3 Axes>"
            ]
          },
          "metadata": {
            "tags": [],
            "needs_background": "light"
          }
        }
      ]
    },
    {
      "cell_type": "markdown",
      "metadata": {
        "colab_type": "text",
        "id": "xVH821TOymic"
      },
      "source": [
        "### 1.2.2: Results\n",
        "Original Images - Attack 0 Images - Attack 1 Images - Attack 2 Images\n"
      ]
    },
    {
      "cell_type": "code",
      "metadata": {
        "colab_type": "code",
        "id": "69nc8PMRymid",
        "outputId": "2717402c-bac4-4c71-eac9-4f6e9937f72a",
        "colab": {}
      },
      "source": [
        "list_range = min(len(chosen_original_perturbed_dataset), len(adversarials_2), len(adversarials_2))\n",
        "random_samples = random.sample(range(0, list_range), 10)\n",
        "\n",
        "images_ori = []\n",
        "fgsm_examples = []\n",
        "adv_Method1 = []\n",
        "adv_Method2 = []\n",
        "\n",
        "for number in random_samples:\n",
        "    images_ori.append(x_test[number][0])\n",
        "    fgsm_examples.append(chosen_original_perturbed_dataset[number][1][0][0].cpu().detach().numpy())\n",
        "    adv_Method1.append(adversarials_1[number][0])\n",
        "    adv_Method2.append(adversarials_2[number][0])\n",
        "\n",
        "# template code (Please feel free to change this)\n",
        "# (each column corresponds to one attack method)\n",
        "col_titles = ['Original','FGSM','ADef', 'DD L2'] \n",
        "nsamples = 10\n",
        "nrows = nsamples\n",
        "ncols = len(col_titles)\n",
        "\n",
        "fig, axes = plt.subplots(nrows,ncols,figsize=(8,12))  # create the figure with subplots\n",
        "[ax.set_axis_off() for ax in axes.ravel()]  # remove the axis\n",
        "\n",
        "for ax, col in zip(axes[0], col_titles): # set up the title for each column\n",
        "    ax.set_title(col,fontdict={'fontsize':18,'color':'b'})\n",
        "\n",
        "for i in range(nsamples):\n",
        "    axes[i,0].imshow(images_ori[i])\n",
        "    axes[i,1].imshow(fgsm_examples[i])\n",
        "    axes[i,2].imshow(adv_Method1[i])\n",
        "    axes[i,3].imshow(adv_Method2[i])\n",
        "                  "
      ],
      "execution_count": 0,
      "outputs": [
        {
          "output_type": "display_data",
          "data": {
            "image/png": "[encoded data removed]",
            "text/plain": [
              "<Figure size 576x864 with 40 Axes>"
            ]
          },
          "metadata": {
            "tags": [],
            "needs_background": "light"
          }
        }
      ]
    },
    {
      "cell_type": "markdown",
      "metadata": {
        "colab_type": "text",
        "id": "m6HxYLl3O1wV"
      },
      "source": [
        "# Differences observed in different attacking methods\n",
        "\n",
        "- There are clear distinctions between the disturbances created by each of the three attack methods implemented here because of their underlying adversarial generation methods. For instance, FGSM relies on the gradient of the datapoint to create changes each time the data is loaded and is not static. Adef randomly creates small perturbations in the image without relying on the gradient value of the image and thus, does it adaptively on the run. The last attack also relies on the gradient values but not necessarily to the specified epsilon values. It tries to optimize the disturbance such that even small differences lead to misclassification.\n",
        "\n",
        "# Success of the attacks\n",
        "- The attack does not always succeed for all the adversarial samples. It depends upon the amount of noise added to the original data i.e. with increasing value of epsilon, there is greater perturbation, which confuses the model to discriminate between classes and thus, result in false predictions, as desired. In this project, there is a considerable difference between the accuracy value when we epsilon value is 0.1 & 0.4 respectively.<br>\n",
        "\n",
        "- It is observed that the Adversarial Deformation ADef attack takes the longest runtime, because it iteratively applies small deformations to the image which take a longer time to compute.\n",
        "The runtime for Decoupled Directional Norm is reasonable and found to be in the midway range comparatively. Within a few iterations, it tries to successfully malforme the original data such that it is difficult for the classifier to yield correct output.\n",
        "FGSM needs two backwards passes to compute gradients separately for the perturbation and the model weights. As a result, the computational complexity for an epoch of FGSM adversarial training is equivalent to two epochs of standard training. As such, it runs the fastest amongst our 3 chosen attacks.\n",
        "\n",
        "- All the three implemented attacks are white-box attacks i.e. in all the three attacking techniques, the attack uses the underlying classifier model to generate the adversarial images over multiple iterations. "
      ]
    },
    {
      "cell_type": "markdown",
      "metadata": {
        "colab_type": "text",
        "id": "KJUmrv5Bymij"
      },
      "source": [
        "# 2. Defense \n"
      ]
    },
    {
      "cell_type": "markdown",
      "metadata": {
        "colab_type": "text",
        "id": "0gHUFK6Mymik"
      },
      "source": [
        "### 2.1: Implementing a defense\n"
      ]
    },
    {
      "cell_type": "markdown",
      "metadata": {
        "id": "vYJMTIzLPlU7",
        "colab_type": "text"
      },
      "source": [
        "We reload the initially trained model on the original training dataset"
      ]
    },
    {
      "cell_type": "code",
      "metadata": {
        "id": "sSijt-YIPlU8",
        "colab_type": "code",
        "colab": {}
      },
      "source": [
        "loadedNetwork = Net().to(device)\n",
        "loadedOptimizer = optim.SGD(loadedNetwork.parameters(), lr=learning_rate, momentum=momentum)\n",
        "\n",
        "loadedNetwork.load_state_dict(torch.load(\"mode.pth\"))\n",
        "loadedOptimizer.load_state_dict(torch.load(\"optimizer.pth\"))"
      ],
      "execution_count": 0,
      "outputs": []
    },
    {
      "cell_type": "code",
      "metadata": {
        "id": "LVZISJOgPlVC",
        "colab_type": "code",
        "outputId": "bfa9bc5f-7899-43e5-dae2-562f2a5fc04f",
        "colab": {}
      },
      "source": [
        "loss_function = F.nll_loss\n",
        "loadedNetwork.trainable = True\n",
        "optimizer = optim.SGD(network.parameters(), lr=learning_rate, momentum=momentum)\n",
        "print(network)\n",
        "\n",
        "train_losses = []\n",
        "train_counter = []\n",
        "test_losses = []\n",
        "test_counter = [i*len(train_loader.dataset) for i in range(0,n_epochs)]\n",
        "train_accuracy = []\n",
        "test_accuracy = []"
      ],
      "execution_count": 0,
      "outputs": [
        {
          "output_type": "stream",
          "text": [
            "Net(\n",
            "  (conv1): Conv2d(1, 10, kernel_size=(5, 5), stride=(1, 1))\n",
            "  (conv2): Conv2d(10, 20, kernel_size=(5, 5), stride=(1, 1))\n",
            "  (conv2_drop): Dropout2d(p=0.5, inplace=False)\n",
            "  (fc1): Linear(in_features=320, out_features=50, bias=True)\n",
            "  (fc2): Linear(in_features=50, out_features=10, bias=True)\n",
            ")\n"
          ],
          "name": "stdout"
        }
      ]
    },
    {
      "cell_type": "markdown",
      "metadata": {
        "id": "8AHAh0MRPlVE",
        "colab_type": "text"
      },
      "source": [
        "# Defense Implemented: Adversarial Training\n",
        "Train the existing network on adversarial images generated from the training dataset images"
      ]
    },
    {
      "cell_type": "code",
      "metadata": {
        "id": "3CCh3HQMPlVE",
        "colab_type": "code",
        "colab": {}
      },
      "source": [
        "def adversarial_train(epoch):\n",
        "    correct = 0\n",
        "    loadedNetwork.train()\n",
        "    for batch_idx, (data, target) in enumerate(train_loader):\n",
        "        data, target = data.to(device), target.to(device)\n",
        "        \n",
        "        perturbed_data = data + fgsm_attack(data, target, chosen_epsilon)\n",
        "        adversarial_output = loadedNetwork(perturbed_data)\n",
        "        loss = loss_function(adversarial_output, target)\n",
        "        #loss = (loss + adversarial_loss) / 2\n",
        "            \n",
        "        pred = adversarial_output.data.max(1, keepdim=True)[1]\n",
        "        correct += pred.eq(target.data.view_as(pred)).sum()\n",
        "        optimizer.zero_grad()     \n",
        "        loss.backward(retain_graph=True)\n",
        "        optimizer.step()\n",
        "        \n",
        "        torch.save(loadedNetwork.state_dict(), 'mode_adv_def.pth')\n",
        "        torch.save(optimizer.state_dict(), 'optimizer_adv_def.pth')\n",
        "    train_accuracy.append((100. * correct / len(train_loader.dataset)).cpu().detach().numpy())\n",
        "    return train_accuracy"
      ],
      "execution_count": 0,
      "outputs": []
    },
    {
      "cell_type": "markdown",
      "metadata": {
        "id": "o0SfCOuZPlVF",
        "colab_type": "text"
      },
      "source": [
        "Then, we run the test on the model trained on adversarial images as well as original datapoints."
      ]
    },
    {
      "cell_type": "code",
      "metadata": {
        "id": "SzvGxx0yPlVG",
        "colab_type": "code",
        "outputId": "0f433afe-5b81-47e6-8b14-443b3064d3d1",
        "colab": {}
      },
      "source": [
        "for epoch in range(0, 3):\n",
        "    train_accuracy = adversarial_train(epoch)\n",
        "    print(\"Training Accuracy: \", train_accuracy[epoch], \"%\")\n",
        "    chosen_defense_accuracy, chosen_example_set, chosen_original_perturbed_dataset = fgsm_test(test_loader, 0.1)"
      ],
      "execution_count": 0,
      "outputs": [
        {
          "output_type": "stream",
          "text": [
            "C:\\Users\\agarw\\AppData\\Roaming\\Python\\Python37\\site-packages\\ipykernel_launcher.py:19: UserWarning: Implicit dimension choice for log_softmax has been deprecated. Change the call to include dim=X as an argument.\n"
          ],
          "name": "stderr"
        },
        {
          "output_type": "stream",
          "text": [
            "Training Accuracy:  73.53834 %\n",
            "Epsilon: 0.1\tTest Accuracy = 8873 / 10000 = 88.73%\n",
            "Training Accuracy:  73.496666 %\n",
            "Epsilon: 0.1\tTest Accuracy = 8865 / 10000 = 88.64999999999999%\n",
            "Training Accuracy:  73.291664 %\n",
            "Epsilon: 0.1\tTest Accuracy = 8883 / 10000 = 88.83%\n"
          ],
          "name": "stdout"
        }
      ]
    },
    {
      "cell_type": "code",
      "metadata": {
        "colab_type": "code",
        "id": "DD0UalSeymim",
        "outputId": "eb8a47ee-0f87-4ba0-ea22-f165d9dbed90",
        "colab": {}
      },
      "source": [
        "print('Accuracy on adversarial samples (FGSM) %.2f'%chosen_accuracy)\n",
        "print('Accuracy on adversarial samples (FGSM) after defense %.2f'%chosen_defense_accuracy)"
      ],
      "execution_count": 0,
      "outputs": [
        {
          "output_type": "stream",
          "text": [
            "Accuracy on adversarial samples (FGSM) 0.73\n",
            "Accuracy on adversarial samples (FGSM) after defense 0.89\n"
          ],
          "name": "stdout"
        }
      ]
    },
    {
      "cell_type": "markdown",
      "metadata": {
        "colab_type": "text",
        "id": "sIMRqecuymir"
      },
      "source": [
        "## 2.2: Conclusions\n",
        "\n",
        "### Choice of defense\n",
        "\n",
        "We used adversarial training in this exercise to make our classifier also learn the adversarial version of the datapoints. This helps the network to accurately classify the test dataset with adversarial disturbances (fgsm_test) relatively better than without the defense.\n",
        "\n",
        "Adversarial training is a fairly simple technique that works because the network is not also aware of the noisy datapoints which may come across during testing and tries to optimize accordingly. The model is retrained on the images that have been created by exploiting its own gradient descent values over pixel changes. These changes should ideally be captured by the model in the subsequent training process and thereby reduce the misclassification of further adversarial images generated on the test data.\n",
        "\n",
        "### Other points to note\n",
        "\n",
        "1) Choosing the value of epsilon in important in generating the adversarial data. It can be oberved that increasing the value of epsilon decreases the accuracy of classification, but this comes at the price of the adversarial images being perceptible even to the human eye based on the difference created.\n",
        "\n",
        "2) There has been no mutual agreement over the research community on what the optimum value of epsilon should be. The ultimate choice of epsilon must depend on the model itself and the adversarial images that are generated by it. The value of epsilon is essentially the deviation of the generated image from the original image. \n"
      ]
    },
    {
      "cell_type": "markdown",
      "metadata": {
        "id": "pEZogFssTqLI",
        "colab_type": "text"
      },
      "source": [
        ""
      ]
    }
  ]
}