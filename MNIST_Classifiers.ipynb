{
  "nbformat": 4,
  "nbformat_minor": 0,
  "metadata": {
    "colab": {
      "name": "Project_1.ipynb",
      "provenance": [],
      "collapsed_sections": []
    },
    "kernelspec": {
      "display_name": "cysecml",
      "language": "python",
      "name": "cysecml"
    },
    "language_info": {
      "codemirror_mode": {
        "name": "ipython",
        "version": 3
      },
      "file_extension": ".py",
      "mimetype": "text/x-python",
      "name": "python",
      "nbconvert_exporter": "python",
      "pygments_lexer": "ipython3",
      "version": "3.7.5"
    }
  },
  "cells": [
    {
      "cell_type": "markdown",
      "metadata": {
        "colab_type": "text",
        "id": "4NzyqehHjUlG"
      },
      "source": [
        "# MNIST Digit Classifier\n",
        "\n",
        "## Team\n",
        "  * **Members**:  *Awantee (s8awdesh@stud.uni-saarland.de), Daniel (s8daberr@stud.uni-saarland.de), Shubham (s8shagar@stud.uni-saarland.de)*\n",
        "  \n",
        "## About this Project\n",
        "In this project, we implement a digit classifier, based on the popular [MNIST](http://yann.lecun.com/exdb/mnist/) dataset.\n",
        "This dataset consists of data $\\mathcal{D} = \\{x_i, y_i\\}_{i=1}^N$, where $x_i$ is a 28x28 pixel grayscale image and $y_i$ is a scalar represeting digits between 0-9.\n"
      ]
    },
    {
      "cell_type": "code",
      "metadata": {
        "colab_type": "code",
        "id": "3ewNwfFvbFaR",
        "colab": {}
      },
      "source": [
        "import time \n",
        " \n",
        "import numpy as np \n",
        "import matplotlib.pyplot as plt \n",
        "\n",
        "import json \n",
        "import time \n",
        "import pickle \n",
        "import sys \n",
        "import csv \n",
        "import os \n",
        "import os.path as osp \n",
        "import shutil \n",
        "\n",
        "import pandas as pd\n",
        "\n",
        "from IPython.display import display, HTML\n",
        " \n",
        "%matplotlib inline \n",
        "plt.rcParams['figure.figsize'] = (10.0, 8.0) # set default size of plots \n",
        "plt.rcParams['image.interpolation'] = 'nearest' \n",
        "plt.rcParams['image.cmap'] = 'gray' \n",
        " \n",
        "# for auto-reloading external modules \n",
        "# see http://stackoverflow.com/questions/1907993/autoreload-of-modules-in-ipython \n",
        "%load_ext autoreload\n",
        "%autoreload 2"
      ],
      "execution_count": 0,
      "outputs": []
    },
    {
      "cell_type": "code",
      "metadata": {
        "colab_type": "code",
        "id": "640GrzbOevr0",
        "outputId": "e9fe4403-b0e0-4740-f7c9-1dd8a881e11b",
        "colab": {}
      },
      "source": [
        "import random\n",
        "import struct\n",
        "\n",
        "from sklearn import neighbors, metrics\n",
        "from sklearn.svm import SVC\n",
        "from sklearn.model_selection import train_test_split, GridSearchCV\n",
        "from sklearn.metrics import confusion_matrix\n",
        "from sklearn import svm, metrics, model_selection\n",
        "\n",
        "import torch\n",
        "import torchvision\n",
        "import torch.nn as nn\n",
        "import torch.optim as optim\n",
        "import torch.nn.functional as F\n",
        "import torchvision.transforms as transforms\n",
        "\n",
        "random_seed = 1\n",
        "torch.backends.cudnn.enabled = True\n",
        "torch.manual_seed(random_seed)"
      ],
      "execution_count": 0,
      "outputs": [
        {
          "output_type": "execute_result",
          "data": {
            "text/plain": [
              "<torch._C.Generator at 0x22200333290>"
            ]
          },
          "metadata": {
            "tags": []
          },
          "execution_count": 2
        }
      ]
    },
    {
      "cell_type": "markdown",
      "metadata": {
        "colab_type": "text",
        "id": "nxi-lLD0mKHD"
      },
      "source": [
        "Helper methods"
      ]
    },
    {
      "cell_type": "code",
      "metadata": {
        "colab_type": "code",
        "id": "VBbigqdEmKd8",
        "colab": {}
      },
      "source": [
        "def identity_func(foo):\n",
        "    return foo\n",
        "\n",
        "# You can use this function to flatten 2D inputs\n",
        "def flatten_input_pixels(x_input):\n",
        "    result = []\n",
        "    for i in range(len(x_input)):\n",
        "        result.append(x_input[i].flatten())\n",
        "    return np.array(result, np.uint8)  # [n_samples, n_features]\n",
        "\n",
        "\n",
        "# You can use this function to plot the accuracy of the models with different parametes\n",
        "def plot_scores(x, y, title = \"Title\", x_label = \"X\", y_label = \"Y\"):\n",
        "    fig, ax = plt.subplots(nrows=1,ncols=1)\n",
        "\n",
        "    ax.plot(x, y)\n",
        "    ax.set_xticks(x)\n",
        "    ax.set_title(title)\n",
        "    ax.set_xlabel(x_label)\n",
        "    ax.set_ylabel(y_label)\n",
        "    ax.set_ylim(0.1, 1.0)\n",
        "\n",
        "# You can use this function to visualize input images and the predictions of your models\n",
        "# \"y_pred\" is output of your model \n",
        "# \"n_val\" is number of instances in test or validation sets\n",
        "def vis_predictions(x_eval, y_pred, n_val):\n",
        "    rows, cols = 4, 3\n",
        "\n",
        "    fig,ax = plt.subplots(nrows = rows, ncols = cols)\n",
        "\n",
        "    ids = np.random.randint(0,n_val,rows*cols)\n",
        "    for i in range(cols):   \n",
        "        for j in range(rows):\n",
        "            ax[j][i].set_title('predicted label: {0}'. format(y_pred[ids[(i*rows)+j]]))\n",
        "            two_d = (np.reshape(x_eval[ids[(i*rows)+j]], (28, 28))).astype(np.uint8)\n",
        "            ax[j][i].imshow(two_d)\n",
        "            ax[j][i].axes.get_xaxis().set_visible(False)\n",
        "            ax[j][i].axes.get_yaxis().set_visible(False)\n",
        "\n",
        "\n",
        "    plt.tight_layout()  "
      ],
      "execution_count": 0,
      "outputs": []
    },
    {
      "cell_type": "markdown",
      "metadata": {
        "colab_type": "text",
        "id": "n1pcmKkyjT7y"
      },
      "source": [
        "# 1. Load and Visualise data\n"
      ]
    },
    {
      "cell_type": "markdown",
      "metadata": {
        "colab_type": "text",
        "id": "AIU9Q762fmoT"
      },
      "source": [
        "## 1.1. Load Data\n"
      ]
    },
    {
      "cell_type": "code",
      "metadata": {
        "colab_type": "code",
        "id": "7kYacpo_jvao",
        "outputId": "0193da51-ef7f-4302-c599-c89a32de4349",
        "colab": {}
      },
      "source": [
        "batch_size_train = 10000\n",
        "batch_size_test = 1000\n",
        "n_epochs = 5\n",
        "\n",
        "train_loader = torch.utils.data.DataLoader(\n",
        "    torchvision.datasets.MNIST('../MLCS/', train = True, download = True,\n",
        "        transform = torchvision.transforms.Compose([\n",
        "            torchvision.transforms.ToTensor(),\n",
        "            torchvision.transforms.Normalize((0.1307,), (0.3081,))\n",
        "        ])),\n",
        "    batch_size = batch_size_train, shuffle = True)\n",
        "\n",
        "test_loader = torch.utils.data.DataLoader(\n",
        "    torchvision.datasets.MNIST('../MLCS/', train = False, download = True,\n",
        "        transform = torchvision.transforms.Compose([\n",
        "            torchvision.transforms.ToTensor(),\n",
        "            torchvision.transforms.Normalize((0.1307,), (0.3081,))\n",
        "        ])),\n",
        "    batch_size = batch_size_test, shuffle = True)\n",
        "\n",
        "train_data = enumerate(train_loader)\n",
        "batch_idx, (x_trainval, y_trainval) = next(train_data)\n",
        "test_data = enumerate(test_loader)\n",
        "batch_idx, (x_test, y_test) = next(test_data)\n",
        "print('x_trainval.shape = {},  y_trainval.shape = {}'.format(x_trainval.shape, y_trainval.shape))\n",
        "print('x_test.shape = {},  y_test.shape = {}'.format(x_test.shape, y_test.shape))\n",
        "\n",
        "DEBUG_FRAC = 1.0\n",
        "x_trainval = x_trainval[:int(len(x_trainval)*DEBUG_FRAC)]\n",
        "y_trainval = y_trainval[:int(len(y_trainval)*DEBUG_FRAC)]"
      ],
      "execution_count": 0,
      "outputs": [
        {
          "output_type": "stream",
          "text": [
            "x_trainval.shape = torch.Size([10000, 1, 28, 28]),  y_trainval.shape = torch.Size([10000])\n",
            "x_test.shape = torch.Size([1000, 1, 28, 28]),  y_test.shape = torch.Size([1000])\n"
          ],
          "name": "stdout"
        }
      ]
    },
    {
      "cell_type": "markdown",
      "metadata": {
        "colab_type": "text",
        "id": "eA6_cejNjzYw"
      },
      "source": [
        "#### 1.2. Visualize Data\n"
      ]
    },
    {
      "cell_type": "code",
      "metadata": {
        "colab_type": "code",
        "id": "dISIbt4plyoD",
        "outputId": "d806ab80-afa4-423e-c45b-35a805a04e63",
        "colab": {}
      },
      "source": [
        "rows, cols = 10, 10\n",
        "fig,ax = plt.subplots(nrows = rows, ncols = cols)\n",
        "\n",
        "for digit in range(0, 10):\n",
        "    indexPosList = []\n",
        "    for position, data in enumerate(y_trainval):\n",
        "        if data == digit:\n",
        "            indexPosList.append(position)\n",
        "        if len(indexPosList) >= 10:\n",
        "            break;\n",
        "    indexSamples = random.sample(indexPosList, k=10)\n",
        "    counter = 0\n",
        "    for index in indexSamples:\n",
        "        ax[counter, digit].imshow(x_trainval[index][0])\n",
        "        counter = counter + 1\n",
        "\n",
        "plt.savefig('fig1.pdf')\n",
        "plt.show()"
      ],
      "execution_count": 0,
      "outputs": [
        {
          "output_type": "display_data",
          "data": {
            "image/png": "[encoded data removed]",
            "text/plain": [
              "<Figure size 432x288 with 100 Axes>"
            ]
          },
          "metadata": {
            "tags": [],
            "needs_background": "light"
          }
        }
      ]
    },
    {
      "cell_type": "markdown",
      "metadata": {
        "colab_type": "text",
        "id": "b8sAT53jmJ8_"
      },
      "source": [
        "# 2. Digit classifiers\n",
        "\n",
        "\n",
        "\n",
        "\n",
        "\n",
        "\n"
      ]
    },
    {
      "cell_type": "markdown",
      "metadata": {
        "colab_type": "text",
        "id": "xkF-7eFnpWoe"
      },
      "source": [
        "## 2.1: Model [M1]: *k-Nearest Neighbors*\n",
        "\n",
        "K-NN (K-Nearest Neighbours) is one of the most basic algorithms in supervised learning. It is a feature selection algorithm used for classification and regression purposes, in general. The premise behind this algorithm is that all similar objects lie in close proximity to each other. \n",
        "\n",
        "It consists of coming with a predetermined number *k* of training samples closest in distance to a new sample *s* whose class has to be determined. To find those points, the algorithm calculates the euclidean distance between *s* and all training points and selects only the *k* nearest to *s*. The digit with the most points in the class will be taken as the new label of s. We try to find similarity between datapoints as per their labels and then use it for testing unseen datapoints."
      ]
    },
    {
      "cell_type": "markdown",
      "metadata": {
        "colab_type": "text",
        "id": "lVyT9Oddp3GB"
      },
      "source": [
        "### 2.1.1: Hyper-parameters\n",
        "\n",
        "The hyperparameters selected for this model are the value for *k* and the weights and algorithm used for classifying training datasets. "
      ]
    },
    {
      "cell_type": "code",
      "metadata": {
        "colab_type": "code",
        "id": "yuHt4T7Vp5NC",
        "colab": {}
      },
      "source": [
        "weights = 'distance'\n",
        "algorithm = 'kd_tree'\n",
        "leaf_size = 20\n",
        "\n",
        "degree = np.asarray([1,2,3]) # example\n",
        "\n",
        "test_set = 'val'  #  or 'test'\n",
        "\n",
        "if test_set == 'val':\n",
        "    train_idxs, val_idxs = range(0,int(0.75*len(x_trainval[:10000]))), range(int(0.75*len(x_trainval[:10000])),len(x_trainval[:10000]))\n",
        "    x_train, y_train = x_trainval[train_idxs], y_trainval[train_idxs]\n",
        "    x_eval, y_eval = x_trainval[val_idxs], y_trainval[val_idxs]\n",
        "else:\n",
        "    x_train, y_train = x_trainval, y_trainval\n",
        "    x_eval, y_eval = x_test, y_test"
      ],
      "execution_count": 0,
      "outputs": []
    },
    {
      "cell_type": "markdown",
      "metadata": {
        "id": "KDclNaDuc7Kh",
        "colab_type": "text"
      },
      "source": [
        "### 2.1.2: Data Preprocessing\n"
      ]
    },
    {
      "cell_type": "code",
      "metadata": {
        "id": "SAEjsAtZc7Ki",
        "colab_type": "code",
        "colab": {}
      },
      "source": [
        "np.random.seed(0)\n",
        "\n",
        "x_train = x_train.numpy()\n",
        "y_train = y_train.numpy()\n",
        "x_eval = x_eval.numpy()\n",
        "y_eval = y_eval.numpy()\n",
        "x_test = x_test.numpy()\n",
        "y_test = y_test.numpy()\n",
        "\n",
        "nsamples, c, nx, ny = x_train.shape\n",
        "x_train = x_train.reshape((nsamples,nx*ny))\n",
        "\n",
        "nsamples, c, nx, ny = x_eval.shape\n",
        "x_eval = x_eval.reshape((nsamples,nx*ny))\n",
        "\n",
        "nsamples, c, nx, ny = x_test.shape\n",
        "x_test = x_test.reshape((nsamples,nx*ny))\n",
        "\n",
        "x_train = flatten_input_pixels(x_train)\n",
        "x_eval = flatten_input_pixels(x_eval)\n",
        "x_test = flatten_input_pixels(x_test)"
      ],
      "execution_count": 0,
      "outputs": []
    },
    {
      "cell_type": "markdown",
      "metadata": {
        "colab_type": "text",
        "id": "pkuCgPatp59X"
      },
      "source": [
        "### 2.1.3: Model\n",
        "\n",
        "We iterate over different values of *k*, i.e., we learn from different size of groups with identical features in datapoints to train the model. The model is trained over values of *k* ranging over 1 to 10 and report the accuracy. The, we use the the *k* value for which we achieved best performance while training, to build a kNN model and then test datapoints on this model itself."
      ]
    },
    {
      "cell_type": "code",
      "metadata": {
        "colab_type": "code",
        "id": "3qV3SuPAp6XF",
        "outputId": "066d9767-e4a1-4c96-de24-05c65c35c896",
        "colab": {}
      },
      "source": [
        "kVals = range(1, 11)\n",
        "accuracies = []\n",
        "\n",
        "for k in range(1, 11):\n",
        "    model = neighbors.KNeighborsClassifier(n_neighbors=k, weights=weights, algorithm=algorithm, leaf_size=leaf_size, n_jobs=-1)\n",
        "    model.fit(x_train, y_train)\n",
        " \n",
        "    score = model.score(x_eval, y_eval)\n",
        "    print(\"k=%d, accuracy=%.2f%%\" % (k, score * 100))\n",
        "    accuracies.append(score)\n",
        "\n",
        "i = int(np.argmax(accuracies))\n",
        "kNNModel = neighbors.KNeighborsClassifier(n_neighbors=kVals[i])"
      ],
      "execution_count": 0,
      "outputs": [
        {
          "output_type": "stream",
          "text": [
            "k=1, accuracy=92.20%\n",
            "k=2, accuracy=92.16%\n",
            "k=3, accuracy=92.40%\n",
            "k=4, accuracy=92.52%\n",
            "k=5, accuracy=92.12%\n",
            "k=6, accuracy=92.60%\n",
            "k=7, accuracy=92.24%\n",
            "k=8, accuracy=92.20%\n",
            "k=9, accuracy=91.92%\n",
            "k=10, accuracy=91.84%\n"
          ],
          "name": "stdout"
        }
      ]
    },
    {
      "cell_type": "markdown",
      "metadata": {
        "colab_type": "text",
        "id": "SxE6d6OXp6sU"
      },
      "source": [
        "### 2.1.4: Fit Model\n",
        "\n",
        "No optimization technique was explicitly required for this model. We fit the model and save it into a file for further validation and testing purpose."
      ]
    },
    {
      "cell_type": "code",
      "metadata": {
        "colab_type": "code",
        "id": "08tLwuchp68-",
        "colab": {}
      },
      "source": [
        "kNNModel.fit(x_train, y_train)\n",
        "kNNFile = 'knn_model.sav'\n",
        "pickle.dump(kNNModel, open(kNNFile, 'wb'))"
      ],
      "execution_count": 0,
      "outputs": []
    },
    {
      "cell_type": "markdown",
      "metadata": {
        "colab_type": "text",
        "id": "QaJv_d_Dp7OM"
      },
      "source": [
        "### 2.1.5: Evaluation\n",
        "\n"
      ]
    },
    {
      "cell_type": "code",
      "metadata": {
        "colab_type": "code",
        "id": "kZtLgPZrp7h5",
        "outputId": "7a9419e1-aa5c-4f12-88a8-b0eac126e2c2",
        "colab": {}
      },
      "source": [
        "predictions = kNNModel.predict(x_test)\n",
        "print(metrics.classification_report(y_test, predictions))"
      ],
      "execution_count": 0,
      "outputs": [
        {
          "output_type": "stream",
          "text": [
            "              precision    recall  f1-score   support\n",
            "\n",
            "           0       0.93      1.00      0.97        98\n",
            "           1       0.80      1.00      0.89       108\n",
            "           2       1.00      0.90      0.95       100\n",
            "           3       0.88      0.90      0.89       110\n",
            "           4       0.94      0.93      0.93        96\n",
            "           5       0.94      0.88      0.91        93\n",
            "           6       0.98      0.99      0.98        86\n",
            "           7       0.92      0.89      0.90       105\n",
            "           8       0.98      0.85      0.91       101\n",
            "           9       0.91      0.88      0.90       103\n",
            "\n",
            "    accuracy                           0.92      1000\n",
            "   macro avg       0.93      0.92      0.92      1000\n",
            "weighted avg       0.93      0.92      0.92      1000\n",
            "\n"
          ],
          "name": "stdout"
        }
      ]
    },
    {
      "cell_type": "code",
      "metadata": {
        "id": "ttYf2lC_c7Ks",
        "colab_type": "code",
        "outputId": "af8a8db0-1a98-4a00-b30c-0822c1455e97",
        "colab": {}
      },
      "source": [
        "plot_scores(kVals, accuracies, title=\"kNN Comparative Scores\", x_label='#Neighbors (k)', y_label='Accuracy')"
      ],
      "execution_count": 0,
      "outputs": [
        {
          "output_type": "display_data",
          "data": {
            "image/png": "[encoded data removed]",
            "text/plain": [
              "<Figure size 432x288 with 1 Axes>"
            ]
          },
          "metadata": {
            "tags": [],
            "needs_background": "light"
          }
        }
      ]
    },
    {
      "cell_type": "code",
      "metadata": {
        "id": "TrVP8Pp6c7Ku",
        "colab_type": "code",
        "outputId": "0d561013-9e46-4344-d598-2e273e1c6282",
        "colab": {}
      },
      "source": [
        "print(\"Best Accuracy\", kNNModel.score(x_eval, y_eval)*100, '%')"
      ],
      "execution_count": 0,
      "outputs": [
        {
          "output_type": "stream",
          "text": [
            "Best Accuracy 91.60000000000001 %\n"
          ],
          "name": "stdout"
        }
      ]
    },
    {
      "cell_type": "code",
      "metadata": {
        "id": "DsANqZrXc7Kx",
        "colab_type": "code",
        "outputId": "0413da3b-b686-4f4c-f055-162dd2680210",
        "colab": {}
      },
      "source": [
        "vis_predictions(x_test, predictions, len(predictions))"
      ],
      "execution_count": 0,
      "outputs": [
        {
          "output_type": "display_data",
          "data": {
            "image/png": "[encoded data removed]",
            "text/plain": [
              "<Figure size 432x288 with 12 Axes>"
            ]
          },
          "metadata": {
            "tags": [],
            "needs_background": "light"
          }
        }
      ]
    },
    {
      "cell_type": "markdown",
      "metadata": {
        "colab_type": "text",
        "id": "DEQrdyLHsUIu"
      },
      "source": [
        "### 2.1.6: Summary\n",
        "\n",
        "One major advantage of **KNN** is the low complexity. The training set can almost immediately be used and data samples can be added or removed at any point. \n",
        " The precision scales with the amount of training data samples, which are directly used to evaluate new samples, which also means that the evaluation phase will lengthen with a higher amount of training images. \n",
        "\n",
        "To mitigate this effect, algorithms like *'kd-tree'* can be used to fasten the search for near samples, which uses a concept similar to binary search to find near objects faster. \n",
        "\n",
        "Another important aspect for increasing the speed is the distance algorithm. Eucledian distance worked best on the testing dataset.\n",
        "\n",
        "The most important hyperparameter is the *k* value, which states how many near points will be compared. Choosing a low *k* will lead to an more precise result but the complexity will also increase, which leads to unnessecary specification of the function and will make it more likely that falsely classified outliner points will distort the result. Chosing a high k will lead in generalized models but will also loose informations. In our model, 6 turned out to be the best value for k. \n",
        "\n",
        "One possibility to increase the effect even more is to not give each training sample the same weight but to weight points near to the point to classify s stronger than others. In our tests, this effect was minor but in other datasets, this factor could be as important as k for reaching the best possible score.\n",
        "\n",
        "All in all, the biggest advantage of this model is its flexibility, its low complexity and the lack of a training phase. Drawbacks are the lower precision and the slowness on large datasets."
      ]
    },
    {
      "cell_type": "markdown",
      "metadata": {
        "colab_type": "text",
        "id": "Fcq52WUUs2Mm"
      },
      "source": [
        "# 2.2: Model [M2]: *SVM*\n",
        "\n",
        "In Support Vector Machines, or SVMs, we divide the data by finding a hyperplane that divides the different classes, where the data points are scattered in an n-dimensional space. The coordinate of every observation is termed as a Support Vector. A good SVM chooses a hyperplane with a large margin, whereby new data can be classified correctly within the margin. \n",
        "\n",
        "If the data is not linearly separable in space, a process called kerneling is used to map these points into higher dimensions, thereby making them separable. "
      ]
    },
    {
      "cell_type": "markdown",
      "metadata": {
        "id": "qYo8ojMOc7K1",
        "colab_type": "text"
      },
      "source": [
        "### 2.2.1: Hyper-parameters\n",
        "\n",
        "Following parameters are used to tweak the SVM Model:\n",
        "\n",
        "*e.g. sklearn.svm.SVC(C=1.0, kernel='rbf', degree=3, gamma=0.0, coef0=0.0, shrinking=True, probability=False,tol=0.001, cache_size=200, class_weight=None, verbose=False, max_iter=-1, random_state=None)*\n",
        "\n",
        "1) kernel - to select the type of hyperplane used to separate the data\n",
        "eg. linear, radial basis function, polynomial\n",
        "\n",
        "2) gamma - a higher value of gamma indicates a better fit over the training set\n",
        "\n",
        "3) C - penalty parameter of the error term. It controls the tradeoff between a smooth decision boundary and the correct classification of training points. \n",
        "\n",
        "4) degree - used for the polynomial SVM to denote the degree of the polynomial function "
      ]
    },
    {
      "cell_type": "code",
      "metadata": {
        "id": "kL6GQQQkc7K2",
        "colab_type": "code",
        "colab": {}
      },
      "source": [
        "C_values= [1, 5, 10]\n",
        "gamma_values = [0.01, 0.001]\n",
        "kernel_values = ['linear', 'rbf', 'poly']\n",
        "\n",
        "degree = np.asarray([1,2,3])\n",
        "\n",
        "test_set = 'val'\n",
        "\n",
        "if test_set == 'val':\n",
        "    train_idxs, val_idxs = range(0,int(0.75*len(x_trainval[:10000]))), range(int(0.75*len(x_trainval[:10000])),len(x_trainval[:10000]))\n",
        "    x_train, y_train = x_trainval[train_idxs], y_trainval[train_idxs]\n",
        "    x_eval, y_eval = x_trainval[val_idxs], y_trainval[val_idxs]\n",
        "else:\n",
        "    x_train, y_train = x_trainval, y_trainval\n",
        "    x_eval, y_eval = x_test, y_test"
      ],
      "execution_count": 0,
      "outputs": []
    },
    {
      "cell_type": "markdown",
      "metadata": {
        "id": "36lhRcRBc7K4",
        "colab_type": "text"
      },
      "source": [
        "### 2.2.2: Data Preprocessing\n"
      ]
    },
    {
      "cell_type": "code",
      "metadata": {
        "id": "A5CK9gyIc7K5",
        "colab_type": "code",
        "colab": {}
      },
      "source": [
        "x_train = x_train.numpy()\n",
        "y_train = y_train.numpy()\n",
        "x_eval = x_eval.numpy()\n",
        "y_eval = y_eval.numpy()\n",
        "\n",
        "nsamples, c, nx, ny = x_train.shape\n",
        "x_train = x_train.reshape((nsamples,nx*ny))\n",
        "\n",
        "nsamples, c, nx, ny = x_eval.shape\n",
        "x_eval = x_eval.reshape((nsamples,nx*ny))\n",
        "\n",
        "x_train = flatten_input_pixels(x_train)\n",
        "x_eval = flatten_input_pixels(x_eval)"
      ],
      "execution_count": 0,
      "outputs": []
    },
    {
      "cell_type": "markdown",
      "metadata": {
        "id": "KZ3D9412c7K7",
        "colab_type": "text"
      },
      "source": [
        "### 2.2.3: Model\n",
        "\n",
        "We construct three traditional Machine Learning models based on distance vector learning. Here, we have three SVM Models, i.e. linear, radial and polynomial, each of which tries to find a distinguishing hyperplanes between multiple classes in the dataset.\n",
        "We compare the performance of these three models to understand the behavior of these kinds of datapoints and pick the best one at the end."
      ]
    },
    {
      "cell_type": "code",
      "metadata": {
        "id": "99L3FtG6c7K9",
        "colab_type": "code",
        "colab": {}
      },
      "source": [
        "linearKernel = svm.SVC(C=C_values[0], kernel=kernel_values[0], verbose=True)\n",
        "rbfKernel = svm.SVC(C=C_values[1], gamma = gamma_values[0], kernel=kernel_values[1], verbose=True)\n",
        "polynomialKernel = svm.SVC(C=C_values[2], gamma = gamma_values[0], kernel=kernel_values[2], verbose=True)"
      ],
      "execution_count": 0,
      "outputs": []
    },
    {
      "cell_type": "markdown",
      "metadata": {
        "id": "2xYQfepXc7LD",
        "colab_type": "text"
      },
      "source": [
        "### 2.2.4: Fit Model\n"
      ]
    },
    {
      "cell_type": "code",
      "metadata": {
        "id": "14ldTzxDc7LE",
        "colab_type": "code",
        "outputId": "a1967613-1e1c-4970-d071-dc3df7ee97e2",
        "colab": {}
      },
      "source": [
        "print(linearKernel)\n",
        "linearKernel.fit(x_train, y_train)\n",
        "\n",
        "print(rbfKernel)\n",
        "rbfKernel.fit(x_train, y_train)\n",
        "\n",
        "print(polynomialKernel)\n",
        "polynomialKernel.fit(x_train, y_train)\n",
        "\n",
        "from sklearn.externals import joblib\n",
        "linear_file = 'linear_SVM_model.sav'\n",
        "joblib.dump(linearKernel, linear_file)\n",
        "rbf_file = 'rbf_SVM_model.sav'\n",
        "joblib.dump(rbfKernel, rbf_file)\n",
        "poly_file = 'polynomial_SVM_model.sav'\n",
        "joblib.dump(polynomialKernel, poly_file)"
      ],
      "execution_count": 0,
      "outputs": [
        {
          "output_type": "stream",
          "text": [
            "SVC(C=1, cache_size=200, class_weight=None, coef0=0.0,\n",
            "    decision_function_shape='ovr', degree=3, gamma='auto_deprecated',\n",
            "    kernel='linear', max_iter=-1, probability=False, random_state=None,\n",
            "    shrinking=True, tol=0.001, verbose=True)\n",
            "[LibSVM]SVC(C=5, cache_size=200, class_weight=None, coef0=0.0,\n",
            "    decision_function_shape='ovr', degree=3, gamma=0.01, kernel='rbf',\n",
            "    max_iter=-1, probability=False, random_state=None, shrinking=True,\n",
            "    tol=0.001, verbose=True)\n",
            "[LibSVM]SVC(C=10, cache_size=200, class_weight=None, coef0=0.0,\n",
            "    decision_function_shape='ovr', degree=3, gamma=0.01, kernel='poly',\n",
            "    max_iter=-1, probability=False, random_state=None, shrinking=True,\n",
            "    tol=0.001, verbose=True)\n",
            "[LibSVM]"
          ],
          "name": "stdout"
        },
        {
          "output_type": "stream",
          "text": [
            "C:\\Users\\agarw\\.conda\\envs\\cysecml\\lib\\site-packages\\sklearn\\externals\\joblib\\__init__.py:15: DeprecationWarning: sklearn.externals.joblib is deprecated in 0.21 and will be removed in 0.23. Please import this functionality directly from joblib, which can be installed with: pip install joblib. If this warning is raised when loading pickled models, you may need to re-serialize those models with scikit-learn 0.21+.\n",
            "  warnings.warn(msg, category=DeprecationWarning)\n"
          ],
          "name": "stderr"
        },
        {
          "output_type": "execute_result",
          "data": {
            "text/plain": [
              "['polynomial_SVM_model.sav']"
            ]
          },
          "metadata": {
            "tags": []
          },
          "execution_count": 17
        }
      ]
    },
    {
      "cell_type": "markdown",
      "metadata": {
        "id": "5IcbecTsc7LG",
        "colab_type": "text"
      },
      "source": [
        "### 2.2.5: Evaluation\n",
        "\n",
        "Evaluate your model.\n",
        "  * Evaluate models with different parameters \n",
        "  * Plot score (accuracy) for each model using \"plot_scores\" function\n",
        "  * Report the score for the best model\n",
        "  * Use \"vis_predictions\" function to visualize few examples of test/validation set with the corresponding predictions\n"
      ]
    },
    {
      "cell_type": "code",
      "metadata": {
        "id": "smX-tdeCc7LH",
        "colab_type": "code",
        "outputId": "e033373e-cbce-4d32-8934-7fbf1f128a37",
        "colab": {}
      },
      "source": [
        "linear_predict_result = linearKernel.predict(x_eval)\n",
        "rbf_predict_result = rbfKernel.predict(x_eval)\n",
        "poly_predict_result = polynomialKernel.predict(x_eval)\n",
        "\n",
        "linearScore = linearKernel.score(x_eval, y_eval)\n",
        "print(\"Linear Kernel Accuracy in % : \", linearScore*100)\n",
        "\n",
        "rbfScore = rbfKernel.score(x_eval, y_eval)\n",
        "print(\"RBF Kernel Accuracy in % : \", rbfScore*100)\n",
        "\n",
        "polyScore = polynomialKernel.score(x_eval, y_eval)\n",
        "print(\"Polynomial Kernel Accuracy in % : \", polyScore*100)\n",
        "\n",
        "linearParams = linearKernel.get_params()\n",
        "rbfParams = rbfKernel.get_params()\n",
        "polynomialParams = polynomialKernel.get_params()\n",
        "\n",
        "plot_scores([linearParams['C'], rbfParams['C'], polynomialParams['C']],\n",
        "            [linearScore, rbfScore, polyScore],\n",
        "            \"SVM Kernels\", x_label='HyperParameter (C)', y_label='Accuracy')\n",
        "\n",
        "plot_scores([0, rbfParams['gamma'], polynomialParams['gamma']],\n",
        "            [linearScore, rbfScore, polyScore],\n",
        "            \"SVM Kernels\", x_label='HyperParameter (gamma)', y_label='Accuracy')"
      ],
      "execution_count": 0,
      "outputs": [
        {
          "output_type": "stream",
          "text": [
            "Linear Kernel Accuracy in % :  89.60000000000001\n",
            "RBF Kernel Accuracy in % :  95.96000000000001\n",
            "Polynomial Kernel Accuracy in % :  93.76\n"
          ],
          "name": "stdout"
        },
        {
          "output_type": "display_data",
          "data": {
            "image/png": "[encoded data removed]",
            "text/plain": [
              "<Figure size 432x288 with 1 Axes>"
            ]
          },
          "metadata": {
            "tags": [],
            "needs_background": "light"
          }
        },
        {
          "output_type": "display_data",
          "data": {
            "image/png": "[encoded data removed]",
            "text/plain": [
              "<Figure size 432x288 with 1 Axes>"
            ]
          },
          "metadata": {
            "tags": [],
            "needs_background": "light"
          }
        }
      ]
    },
    {
      "cell_type": "code",
      "metadata": {
        "id": "CfVowVDSc7LK",
        "colab_type": "code",
        "outputId": "dc300803-4676-4282-d1d8-6bd2b7272657",
        "colab": {}
      },
      "source": [
        "print(\"Linear Kernel Score in % : \", linearScore*100)\n",
        "print(\"RBF Kernel Score in % : \", rbfScore*100)\n",
        "print(\"Polynomial Kernel Score in % : \", polyScore*100)\n",
        "\n",
        "linearMetrics = metrics.classification_report(y_eval, linear_predict_result)\n",
        "print(\"\\nLinear Classification Report : \\n \", linearMetrics)\n",
        "rbfMetrics = metrics.classification_report(y_eval, rbf_predict_result)\n",
        "print(\"\\nRBF Classification Report : \\n \", rbfMetrics)\n",
        "polynomialMetrics = metrics.classification_report(y_eval, poly_predict_result)\n",
        "print(\"\\nPolynomial Classification Report : \\n \", polynomialMetrics)"
      ],
      "execution_count": 0,
      "outputs": [
        {
          "output_type": "stream",
          "text": [
            "Linear Kernel Score in % :  89.60000000000001\n",
            "RBF Kernel Score in % :  95.96000000000001\n",
            "Polynomial Kernel Score in % :  93.76\n",
            "\n",
            "Linear Classification Report : \n",
            "                precision    recall  f1-score   support\n",
            "\n",
            "           0       0.94      0.96      0.95       226\n",
            "           1       0.92      0.99      0.96       282\n",
            "           2       0.86      0.90      0.88       261\n",
            "           3       0.88      0.87      0.87       260\n",
            "           4       0.89      0.90      0.90       225\n",
            "           5       0.87      0.82      0.85       226\n",
            "           6       0.94      0.96      0.95       263\n",
            "           7       0.88      0.93      0.90       243\n",
            "           8       0.90      0.83      0.86       263\n",
            "           9       0.88      0.78      0.83       251\n",
            "\n",
            "    accuracy                           0.90      2500\n",
            "   macro avg       0.90      0.90      0.89      2500\n",
            "weighted avg       0.90      0.90      0.89      2500\n",
            "\n",
            "\n",
            "RBF Classification Report : \n",
            "                precision    recall  f1-score   support\n",
            "\n",
            "           0       0.97      1.00      0.98       226\n",
            "           1       0.97      0.99      0.98       282\n",
            "           2       0.94      0.96      0.95       261\n",
            "           3       0.96      0.94      0.95       260\n",
            "           4       0.96      0.96      0.96       225\n",
            "           5       0.95      0.94      0.95       226\n",
            "           6       0.97      0.97      0.97       263\n",
            "           7       0.98      0.95      0.97       243\n",
            "           8       0.94      0.95      0.95       263\n",
            "           9       0.95      0.92      0.94       251\n",
            "\n",
            "    accuracy                           0.96      2500\n",
            "   macro avg       0.96      0.96      0.96      2500\n",
            "weighted avg       0.96      0.96      0.96      2500\n",
            "\n",
            "\n",
            "Polynomial Classification Report : \n",
            "                precision    recall  f1-score   support\n",
            "\n",
            "           0       0.95      1.00      0.97       226\n",
            "           1       0.87      1.00      0.93       282\n",
            "           2       0.96      0.91      0.93       261\n",
            "           3       0.94      0.92      0.93       260\n",
            "           4       0.95      0.95      0.95       225\n",
            "           5       0.93      0.90      0.91       226\n",
            "           6       0.96      0.95      0.95       263\n",
            "           7       0.95      0.94      0.95       243\n",
            "           8       0.97      0.88      0.92       263\n",
            "           9       0.92      0.93      0.93       251\n",
            "\n",
            "    accuracy                           0.94      2500\n",
            "   macro avg       0.94      0.94      0.94      2500\n",
            "weighted avg       0.94      0.94      0.94      2500\n",
            "\n"
          ],
          "name": "stdout"
        }
      ]
    },
    {
      "cell_type": "code",
      "metadata": {
        "id": "oEP-jl2Ac7LM",
        "colab_type": "code",
        "outputId": "c6bac004-7e09-4024-a910-86d558ebcb04",
        "colab": {}
      },
      "source": [
        "print(\"Predictions in Linear Predictions:\\n\")\n",
        "vis_predictions(x_eval, linear_predict_result, len(x_eval))\n",
        "\n",
        "print(\"Predictions in RBF Predictions:\\n\")\n",
        "vis_predictions(x_eval, rbf_predict_result, len(x_eval))\n",
        "\n",
        "print(\"Predictions in Polynomial Predictions:\\n\")\n",
        "vis_predictions(x_eval, poly_predict_result, len(x_eval))"
      ],
      "execution_count": 0,
      "outputs": [
        {
          "output_type": "stream",
          "text": [
            "Predictions in Linear Predictions:\n",
            "\n",
            "Predictions in RBF Predictions:\n",
            "\n",
            "Predictions in Polynomial Predictions:\n",
            "\n"
          ],
          "name": "stdout"
        },
        {
          "output_type": "display_data",
          "data": {
            "image/png": "[encoded data removed]",
            "text/plain": [
              "<Figure size 432x288 with 12 Axes>"
            ]
          },
          "metadata": {
            "tags": [],
            "needs_background": "light"
          }
        },
        {
          "output_type": "display_data",
          "data": {
            "image/png": "[encoded data removed]",
            "text/plain": [
              "<Figure size 432x288 with 12 Axes>"
            ]
          },
          "metadata": {
            "tags": [],
            "needs_background": "light"
          }
        },
        {
          "output_type": "display_data",
          "data": {
            "image/png": "[encoded data removed]",
            "text/plain": [
              "<Figure size 432x288 with 12 Axes>"
            ]
          },
          "metadata": {
            "tags": [],
            "needs_background": "light"
          }
        }
      ]
    },
    {
      "cell_type": "markdown",
      "metadata": {
        "id": "njk54wDcc7LO",
        "colab_type": "text"
      },
      "source": [
        "### 2.2.6: Summary\n",
        "\n",
        "The choice of the kernel is obviously very important in the SVM model. It is observed that the training time for RBF and polynomial SVM is greater than that for linear SVMs, but the accuracy of these two is also higher. \n",
        "\n",
        "After testing our dataset on all three models over different hyperparameters, we understand that a linear classification for these datapoints is not sufficient, and we would require non-linear methods to handle them. For example, we encountered digits with little differences but with different labels between 9 and 7 potentially because of handwritings where linear classification model failed but the rbf or polynomial performed significantly well to understand minute subtleties in the data points."
      ]
    },
    {
      "cell_type": "markdown",
      "metadata": {
        "id": "eKgUCsTAc7LO",
        "colab_type": "text"
      },
      "source": [
        "# 2.3: Model [M3] (Neural Networks):\n",
        "\n"
      ]
    },
    {
      "cell_type": "markdown",
      "metadata": {
        "id": "r9_pDbdmc7LP",
        "colab_type": "text"
      },
      "source": [
        "### 2.3.1: Hyper-parameters\n"
      ]
    },
    {
      "cell_type": "code",
      "metadata": {
        "id": "kFlARHd4c7LQ",
        "colab_type": "code",
        "outputId": "e7381baf-c9c0-472a-de25-cc17e92451af",
        "colab": {}
      },
      "source": [
        "batch_size_train = 64\n",
        "batch_size_test = 1000\n",
        "n_epochs = 5\n",
        "\n",
        "learning_rate = 0.01\n",
        "momentum = 0.5\n",
        "log_interval = 10\n",
        "dropout_1 = 0.1\n",
        "dropout_2 = 0.5\n",
        "dropout_3 = 0.9\n",
        "\n",
        "random_seed = 1\n",
        "torch.backends.cudnn.enabled = True\n",
        "torch.manual_seed(random_seed)\n",
        "\n",
        "train_loader = torch.utils.data.DataLoader(\n",
        "    torchvision.datasets.MNIST('../MLCS/', train = True, download = True,\n",
        "        transform = torchvision.transforms.Compose([\n",
        "            torchvision.transforms.ToTensor(),\n",
        "            torchvision.transforms.Normalize((0.1307,), (0.3081,))\n",
        "        ])),\n",
        "    batch_size = batch_size_train, shuffle = True)\n",
        "\n",
        "test_loader = torch.utils.data.DataLoader(\n",
        "    torchvision.datasets.MNIST('../MLCS/', train = False, download = True,\n",
        "        transform = torchvision.transforms.Compose([\n",
        "            torchvision.transforms.ToTensor(),\n",
        "            torchvision.transforms.Normalize((0.1307,), (0.3081,))\n",
        "        ])),\n",
        "    batch_size = batch_size_test, shuffle = True)\n",
        "\n",
        "train_data = enumerate(train_loader)\n",
        "batch_idx, (x_trainval, y_trainval) = next(train_data)\n",
        "test_data = enumerate(test_loader)\n",
        "batch_idx, (x_test, y_test) = next(test_data)\n",
        "\n",
        "print('x_trainval.shape = {},  y_trainval.shape = {}'.format(x_trainval.shape, y_trainval.shape))\n",
        "print('x_test.shape = {},  y_test.shape = {}'.format(x_test.shape, y_test.shape))\n",
        "\n",
        "DEBUG_FRAC = 1.0\n",
        "x_trainval = x_trainval[: int(len(x_trainval) * DEBUG_FRAC)]\n",
        "y_trainval = y_trainval[: int(len(y_trainval) * DEBUG_FRAC)]\n",
        "\n",
        "test_set = 'test'\n",
        "\n",
        "if test_set == 'val':\n",
        "    train_idxs, val_idxs = range(0,int(0.75*len(x_trainval))), range(int(0.75*len(x_trainval)),len(x_trainval))\n",
        "    x_train, y_train = x_trainval[train_idxs], y_trainval[train_idxs]\n",
        "    x_eval, y_eval = x_trainval[val_idxs], y_trainval[val_idxs]\n",
        "else:\n",
        "    x_train, y_train = x_trainval, y_trainval\n",
        "    x_eval, y_eval = x_test, y_test"
      ],
      "execution_count": 0,
      "outputs": [
        {
          "output_type": "stream",
          "text": [
            "x_trainval.shape = torch.Size([64, 1, 28, 28]),  y_trainval.shape = torch.Size([64])\n",
            "x_test.shape = torch.Size([1000, 1, 28, 28]),  y_test.shape = torch.Size([1000])\n"
          ],
          "name": "stdout"
        }
      ]
    },
    {
      "cell_type": "markdown",
      "metadata": {
        "id": "kDaE_-N3c7LU",
        "colab_type": "text"
      },
      "source": [
        "### 2.3.2: Model\n"
      ]
    },
    {
      "cell_type": "code",
      "metadata": {
        "id": "mYEWZrBTc7LU",
        "colab_type": "code",
        "colab": {}
      },
      "source": [
        "class Net_1(nn.Module):\n",
        "    def __init__(self):\n",
        "        super(Net_1, self).__init__()\n",
        "        self.conv1 = nn.Conv2d(1, 10, kernel_size=5)\n",
        "        self.conv2 = nn.Conv2d(10, 20, kernel_size=5)\n",
        "        \n",
        "        self.conv2_drop = nn.Dropout2d(dropout_1)\n",
        "        self.fc1 = nn.Linear(320, 50)\n",
        "        self.fc2 = nn.Linear(50, 10)\n",
        "\n",
        "    def forward(self, x):\n",
        "        x = F.relu(F.max_pool2d(self.conv1(x), 2))\n",
        "        x = F.relu(F.max_pool2d(self.conv2_drop(self.conv2(x)), 2))\n",
        "        x = x.view(-1, 320)\n",
        "        x = F.relu(self.fc1(x))\n",
        "        x = F.dropout(x, training=self.training)\n",
        "        x = self.fc2(x)\n",
        "        return F.log_softmax(x)\n",
        "    \n",
        "class Net_2(nn.Module):\n",
        "    def __init__(self):\n",
        "        super(Net_2, self).__init__()\n",
        "        self.conv1 = nn.Conv2d(1, 10, kernel_size=5)\n",
        "        self.conv2 = nn.Conv2d(10, 20, kernel_size=5)\n",
        "        \n",
        "        self.conv2_drop = nn.Dropout2d(dropout_2)\n",
        "        self.fc1 = nn.Linear(320, 50)\n",
        "        self.fc2 = nn.Linear(50, 10)\n",
        "\n",
        "    def forward(self, x):\n",
        "        x = F.relu(F.max_pool2d(self.conv1(x), 2))\n",
        "        x = F.relu(F.max_pool2d(self.conv2_drop(self.conv2(x)), 2))\n",
        "        x = x.view(-1, 320)\n",
        "        x = F.relu(self.fc1(x))\n",
        "        x = F.dropout(x, training=self.training)\n",
        "        x = self.fc2(x)\n",
        "        return F.log_softmax(x)\n",
        "    \n",
        "class Net_3(nn.Module):\n",
        "    def __init__(self):\n",
        "        super(Net_3, self).__init__()\n",
        "        self.conv1 = nn.Conv2d(1, 10, kernel_size=5)\n",
        "        self.conv2 = nn.Conv2d(10, 20, kernel_size=5)\n",
        "        \n",
        "        self.conv2_drop = nn.Dropout2d(dropout_3)\n",
        "        self.fc1 = nn.Linear(320, 50)\n",
        "        self.fc2 = nn.Linear(50, 10)\n",
        "\n",
        "    def forward(self, x):\n",
        "        x = F.relu(F.max_pool2d(self.conv1(x), 2))\n",
        "        x = F.relu(F.max_pool2d(self.conv2_drop(self.conv2(x)), 2))\n",
        "        x = x.view(-1, 320)\n",
        "        x = F.relu(self.fc1(x))\n",
        "        x = F.dropout(x, training=self.training)\n",
        "        x = self.fc2(x)\n",
        "        return F.log_softmax(x)"
      ],
      "execution_count": 0,
      "outputs": []
    },
    {
      "cell_type": "markdown",
      "metadata": {
        "id": "nZIXWX-rc7LX",
        "colab_type": "text"
      },
      "source": [
        "### 2.3.3: Fit Model\n"
      ]
    },
    {
      "cell_type": "code",
      "metadata": {
        "id": "x-MIzoQIc7LX",
        "colab_type": "code",
        "outputId": "5b1a9357-026f-4fbd-b9c4-0e32bd11a2f6",
        "colab": {}
      },
      "source": [
        "loss_function_1 = nn.CrossEntropyLoss()\n",
        "loss_function_2 = F.nll_loss\n",
        "\n",
        "network_1 = Net_1()\n",
        "optimizer_1 = optim.Adam(network_1.parameters(), lr=learning_rate)\n",
        "print(network_1)\n",
        "\n",
        "network_2 = Net_2()\n",
        "optimizer_2 = optim.SGD(network_2.parameters(), lr=learning_rate, momentum=momentum)\n",
        "print(network_2)\n",
        "\n",
        "network_3 = Net_3()\n",
        "optimizer_3 = optim.SGD(network_3.parameters(), lr=learning_rate, momentum=momentum)\n",
        "print(network_3)\n",
        "\n",
        "train_losses_1 = []\n",
        "train_counter_1 = []\n",
        "test_losses_1 = []\n",
        "test_counter_1 = [i*len(train_loader.dataset) for i in range(0,n_epochs)]\n",
        "\n",
        "train_losses_2 = []\n",
        "train_counter_2 = []\n",
        "test_losses_2 = []\n",
        "test_counter_2 = [i*len(train_loader.dataset) for i in range(0,n_epochs)]\n",
        "\n",
        "train_losses_3 = []\n",
        "train_counter_3 = []\n",
        "test_losses_3 = []\n",
        "test_counter_3 = [i*len(train_loader.dataset) for i in range(0,n_epochs)]"
      ],
      "execution_count": 0,
      "outputs": [
        {
          "output_type": "stream",
          "text": [
            "Net_1(\n",
            "  (conv1): Conv2d(1, 10, kernel_size=(5, 5), stride=(1, 1))\n",
            "  (conv2): Conv2d(10, 20, kernel_size=(5, 5), stride=(1, 1))\n",
            "  (conv2_drop): Dropout2d(p=0.1, inplace=False)\n",
            "  (fc1): Linear(in_features=320, out_features=50, bias=True)\n",
            "  (fc2): Linear(in_features=50, out_features=10, bias=True)\n",
            ")\n",
            "Net_2(\n",
            "  (conv1): Conv2d(1, 10, kernel_size=(5, 5), stride=(1, 1))\n",
            "  (conv2): Conv2d(10, 20, kernel_size=(5, 5), stride=(1, 1))\n",
            "  (conv2_drop): Dropout2d(p=0.5, inplace=False)\n",
            "  (fc1): Linear(in_features=320, out_features=50, bias=True)\n",
            "  (fc2): Linear(in_features=50, out_features=10, bias=True)\n",
            ")\n",
            "Net_3(\n",
            "  (conv1): Conv2d(1, 10, kernel_size=(5, 5), stride=(1, 1))\n",
            "  (conv2): Conv2d(10, 20, kernel_size=(5, 5), stride=(1, 1))\n",
            "  (conv2_drop): Dropout2d(p=0.9, inplace=False)\n",
            "  (fc1): Linear(in_features=320, out_features=50, bias=True)\n",
            "  (fc2): Linear(in_features=50, out_features=10, bias=True)\n",
            ")\n"
          ],
          "name": "stdout"
        }
      ]
    },
    {
      "cell_type": "code",
      "metadata": {
        "id": "_61DG1vAc7LZ",
        "colab_type": "code",
        "colab": {}
      },
      "source": [
        "def train_1(epoch):\n",
        "    network_1.train()\n",
        "    for batch_idx, (data, target) in enumerate(train_loader):\n",
        "        optimizer_1.zero_grad()\n",
        "        output = network_1(data)\n",
        "        loss = loss_function_1(output, target)\n",
        "        loss.backward()\n",
        "        optimizer_1.step()\n",
        "        if batch_idx % log_interval == 0:\n",
        "            print('Train Epoch: {} [{}/{} ({:.0f}%)]\\tLoss: {:.6f}'.format(\n",
        "            epoch, batch_idx * len(data), len(train_loader.dataset),\n",
        "            100. * batch_idx / len(train_loader), loss.item()))\n",
        "        train_losses_1.append(loss.item())\n",
        "        train_counter_1.append(\n",
        "            (batch_idx*64) + ((epoch-1)*len(train_loader.dataset)))\n",
        "        torch.save(network_1.state_dict(), 'mode_1_' + str(epoch) + '.pth')\n",
        "        torch.save(optimizer_1.state_dict(), 'optimizer_1_' + str(epoch) + '.pth')"
      ],
      "execution_count": 0,
      "outputs": []
    },
    {
      "cell_type": "code",
      "metadata": {
        "id": "oA8SI2oMc7Lc",
        "colab_type": "code",
        "colab": {}
      },
      "source": [
        "def train_2(epoch):\n",
        "    network_2.train()\n",
        "    for batch_idx, (data, target) in enumerate(train_loader):\n",
        "        optimizer_2.zero_grad()\n",
        "        output = network_2(data)\n",
        "        loss = loss_function_2(output, target)\n",
        "        loss.backward()\n",
        "        optimizer_2.step()\n",
        "        if batch_idx % log_interval == 0:\n",
        "            print('Train Epoch: {} [{}/{} ({:.0f}%)]\\tLoss: {:.6f}'.format(\n",
        "            epoch, batch_idx * len(data), len(train_loader.dataset),\n",
        "            100. * batch_idx / len(train_loader), loss.item()))\n",
        "        train_losses_2.append(loss.item())\n",
        "        train_counter_2.append(\n",
        "            (batch_idx*64) + ((epoch-1)*len(train_loader.dataset)))\n",
        "        torch.save(network_2.state_dict(), 'mode_2_' + str(epoch) + '.pth')\n",
        "        torch.save(optimizer_2.state_dict(), 'optimizer_2_' + str(epoch) + '.pth')"
      ],
      "execution_count": 0,
      "outputs": []
    },
    {
      "cell_type": "code",
      "metadata": {
        "id": "p7Sq3LENc7Le",
        "colab_type": "code",
        "colab": {}
      },
      "source": [
        "def train_3(epoch):\n",
        "    network_3.train()\n",
        "    for batch_idx, (data, target) in enumerate(train_loader):\n",
        "        optimizer_3.zero_grad()\n",
        "        output = network_3(data)\n",
        "        loss = loss_function_2(output, target)\n",
        "        loss.backward()\n",
        "        optimizer_3.step()\n",
        "        if batch_idx % log_interval == 0:\n",
        "            print('Train Epoch: {} [{}/{} ({:.0f}%)]\\tLoss: {:.6f}'.format(\n",
        "            epoch, batch_idx * len(data), len(train_loader.dataset),\n",
        "            100. * batch_idx / len(train_loader), loss.item()))\n",
        "        train_losses_3.append(loss.item())\n",
        "        train_counter_3.append(\n",
        "            (batch_idx*64) + ((epoch-1)*len(train_loader.dataset)))\n",
        "        torch.save(network_3.state_dict(), 'mode_3_' + str(epoch) + '.pth')\n",
        "        torch.save(optimizer_3.state_dict(), 'optimizer_3_' + str(epoch) + '.pth')"
      ],
      "execution_count": 0,
      "outputs": []
    },
    {
      "cell_type": "code",
      "metadata": {
        "id": "k6MvIPgJc7Lf",
        "colab_type": "code",
        "colab": {}
      },
      "source": [
        "test_accuracy_1 = []\n",
        "def test_1():\n",
        "    network_1.eval()\n",
        "    test_loss = 0\n",
        "    correct = 0\n",
        "    with torch.no_grad():\n",
        "        for data, target in test_loader:\n",
        "            output = network_1(data)\n",
        "            test_loss += loss_function_1(output, target).item()\n",
        "            pred = output.data.max(1, keepdim=True)[1]\n",
        "            correct += pred.eq(target.data.view_as(pred)).sum()\n",
        "        test_loss /= len(test_loader.dataset)\n",
        "        test_losses_1.append(test_loss)\n",
        "        print('\\nTest set: Avg. loss: {:.4f}, Accuracy: {}/{} ({:.0f}%)\\n'.format(\n",
        "        test_loss, correct, len(test_loader.dataset),\n",
        "        100. * correct / len(test_loader.dataset)))\n",
        "        test_accuracy_1.append(100. * correct / len(test_loader.dataset))"
      ],
      "execution_count": 0,
      "outputs": []
    },
    {
      "cell_type": "code",
      "metadata": {
        "id": "dgx5DYEYc7Lg",
        "colab_type": "code",
        "colab": {}
      },
      "source": [
        "test_accuracy_2 = []\n",
        "def test_2():\n",
        "    network_2.eval()\n",
        "    test_loss = 0\n",
        "    correct = 0\n",
        "    with torch.no_grad():\n",
        "        for data, target in test_loader:\n",
        "            output = network_2(data)\n",
        "            test_loss += loss_function_2(output, target, size_average=False).item()\n",
        "            pred = output.data.max(1, keepdim=True)[1]\n",
        "            correct += pred.eq(target.data.view_as(pred)).sum()\n",
        "        test_loss /= len(test_loader.dataset)\n",
        "        test_losses_2.append(test_loss)\n",
        "        print('\\nTest set: Avg. loss: {:.4f}, Accuracy: {}/{} ({:.0f}%)\\n'.format(\n",
        "        test_loss, correct, len(test_loader.dataset),\n",
        "        100. * correct / len(test_loader.dataset)))\n",
        "        test_accuracy_2.append(100. * correct / len(test_loader.dataset))"
      ],
      "execution_count": 0,
      "outputs": []
    },
    {
      "cell_type": "code",
      "metadata": {
        "id": "nzO__Olwc7Li",
        "colab_type": "code",
        "colab": {}
      },
      "source": [
        "test_accuracy_3 = []\n",
        "def test_3():\n",
        "    network_3.eval()\n",
        "    test_loss = 0\n",
        "    correct = 0\n",
        "    with torch.no_grad():\n",
        "        for data, target in test_loader:\n",
        "            output = network_3(data)\n",
        "            test_loss += loss_function_2(output, target, size_average=False).item()\n",
        "            pred = output.data.max(1, keepdim=True)[1]\n",
        "            correct += pred.eq(target.data.view_as(pred)).sum()\n",
        "        test_loss /= len(test_loader.dataset)\n",
        "        test_losses_3.append(test_loss)\n",
        "        print('\\nTest set: Avg. loss: {:.4f}, Accuracy: {}/{} ({:.0f}%)\\n'.format(\n",
        "        test_loss, correct, len(test_loader.dataset),\n",
        "        100. * correct / len(test_loader.dataset)))\n",
        "        test_accuracy_3.append(100. * correct / len(test_loader.dataset))"
      ],
      "execution_count": 0,
      "outputs": []
    },
    {
      "cell_type": "code",
      "metadata": {
        "id": "1puoNIdtc7Lk",
        "colab_type": "code",
        "outputId": "6f37d272-52fe-40ff-de37-11e51ce61562",
        "colab": {}
      },
      "source": [
        "print(\"Training & Testing on CNN Model 1 - Adam as Optimizer & Dropout = 0.1\")\n",
        "for epoch in range(1, n_epochs + 1):\n",
        "    train_1(epoch)\n",
        "    test_1()\n",
        "    \n",
        "print(\"Training & Testing on CNN Model 2 - SGD as Optimizer & Dropout = 0.5\")\n",
        "for epoch in range(1, n_epochs + 1):  \n",
        "    train_2(epoch)\n",
        "    test_2()\n",
        "    \n",
        "print(\"Training & Testing on CNN Model 2 - SGD as Optimizer & Dropout = 0.9\")\n",
        "for epoch in range(1, n_epochs + 1):  \n",
        "    train_3(epoch)\n",
        "    test_3()"
      ],
      "execution_count": 0,
      "outputs": [
        {
          "output_type": "stream",
          "text": [
            "Training & Testing on CNN Model 1 - Adam as Optimizer & Dropout = 0.1\n"
          ],
          "name": "stdout"
        },
        {
          "output_type": "stream",
          "text": [
            "C:\\Users\\agarw\\AppData\\Roaming\\Python\\Python37\\site-packages\\ipykernel_launcher.py:18: UserWarning: Implicit dimension choice for log_softmax has been deprecated. Change the call to include dim=X as an argument.\n"
          ],
          "name": "stderr"
        },
        {
          "output_type": "stream",
          "text": [
            "Train Epoch: 1 [0/60000 (0%)]\tLoss: 2.292933\n",
            "Train Epoch: 1 [640/60000 (1%)]\tLoss: 1.919890\n",
            "Train Epoch: 1 [1280/60000 (2%)]\tLoss: 1.695652\n",
            "Train Epoch: 1 [1920/60000 (3%)]\tLoss: 1.195018\n",
            "Train Epoch: 1 [2560/60000 (4%)]\tLoss: 0.776031\n",
            "Train Epoch: 1 [3200/60000 (5%)]\tLoss: 0.761919\n",
            "Train Epoch: 1 [3840/60000 (6%)]\tLoss: 1.026225\n",
            "Train Epoch: 1 [4480/60000 (7%)]\tLoss: 0.779877\n",
            "Train Epoch: 1 [5120/60000 (9%)]\tLoss: 0.608266\n",
            "Train Epoch: 1 [5760/60000 (10%)]\tLoss: 0.781585\n",
            "Train Epoch: 1 [6400/60000 (11%)]\tLoss: 0.394283\n",
            "Train Epoch: 1 [7040/60000 (12%)]\tLoss: 0.888395\n",
            "Train Epoch: 1 [7680/60000 (13%)]\tLoss: 1.171117\n",
            "Train Epoch: 1 [8320/60000 (14%)]\tLoss: 0.499001\n",
            "Train Epoch: 1 [8960/60000 (15%)]\tLoss: 0.536358\n",
            "Train Epoch: 1 [9600/60000 (16%)]\tLoss: 0.802395\n",
            "Train Epoch: 1 [10240/60000 (17%)]\tLoss: 0.605799\n",
            "Train Epoch: 1 [10880/60000 (18%)]\tLoss: 0.727692\n",
            "Train Epoch: 1 [11520/60000 (19%)]\tLoss: 0.483125\n",
            "Train Epoch: 1 [12160/60000 (20%)]\tLoss: 0.349446\n",
            "Train Epoch: 1 [12800/60000 (21%)]\tLoss: 0.264466\n",
            "Train Epoch: 1 [13440/60000 (22%)]\tLoss: 0.472843\n",
            "Train Epoch: 1 [14080/60000 (23%)]\tLoss: 0.483548\n",
            "Train Epoch: 1 [14720/60000 (25%)]\tLoss: 0.533353\n",
            "Train Epoch: 1 [15360/60000 (26%)]\tLoss: 0.573324\n",
            "Train Epoch: 1 [16000/60000 (27%)]\tLoss: 0.321210\n",
            "Train Epoch: 1 [16640/60000 (28%)]\tLoss: 0.673450\n",
            "Train Epoch: 1 [17280/60000 (29%)]\tLoss: 0.331879\n",
            "Train Epoch: 1 [17920/60000 (30%)]\tLoss: 0.301026\n",
            "Train Epoch: 1 [18560/60000 (31%)]\tLoss: 0.774554\n",
            "Train Epoch: 1 [19200/60000 (32%)]\tLoss: 0.338458\n",
            "Train Epoch: 1 [19840/60000 (33%)]\tLoss: 0.468339\n",
            "Train Epoch: 1 [20480/60000 (34%)]\tLoss: 0.177780\n",
            "Train Epoch: 1 [21120/60000 (35%)]\tLoss: 0.613110\n",
            "Train Epoch: 1 [21760/60000 (36%)]\tLoss: 0.310100\n",
            "Train Epoch: 1 [22400/60000 (37%)]\tLoss: 0.334589\n",
            "Train Epoch: 1 [23040/60000 (38%)]\tLoss: 0.610613\n",
            "Train Epoch: 1 [23680/60000 (39%)]\tLoss: 0.319153\n",
            "Train Epoch: 1 [24320/60000 (41%)]\tLoss: 0.457154\n",
            "Train Epoch: 1 [24960/60000 (42%)]\tLoss: 0.372581\n",
            "Train Epoch: 1 [25600/60000 (43%)]\tLoss: 0.207294\n",
            "Train Epoch: 1 [26240/60000 (44%)]\tLoss: 0.628368\n",
            "Train Epoch: 1 [26880/60000 (45%)]\tLoss: 0.520720\n",
            "Train Epoch: 1 [27520/60000 (46%)]\tLoss: 0.427790\n",
            "Train Epoch: 1 [28160/60000 (47%)]\tLoss: 0.238173\n",
            "Train Epoch: 1 [28800/60000 (48%)]\tLoss: 0.522811\n",
            "Train Epoch: 1 [29440/60000 (49%)]\tLoss: 0.289323\n",
            "Train Epoch: 1 [30080/60000 (50%)]\tLoss: 0.184332\n",
            "Train Epoch: 1 [30720/60000 (51%)]\tLoss: 0.335130\n",
            "Train Epoch: 1 [31360/60000 (52%)]\tLoss: 0.295619\n",
            "Train Epoch: 1 [32000/60000 (53%)]\tLoss: 0.178850\n",
            "Train Epoch: 1 [32640/60000 (54%)]\tLoss: 0.350167\n",
            "Train Epoch: 1 [33280/60000 (55%)]\tLoss: 0.068551\n",
            "Train Epoch: 1 [33920/60000 (57%)]\tLoss: 0.464630\n",
            "Train Epoch: 1 [34560/60000 (58%)]\tLoss: 0.520411\n",
            "Train Epoch: 1 [35200/60000 (59%)]\tLoss: 0.437785\n",
            "Train Epoch: 1 [35840/60000 (60%)]\tLoss: 0.246931\n",
            "Train Epoch: 1 [36480/60000 (61%)]\tLoss: 0.270792\n",
            "Train Epoch: 1 [37120/60000 (62%)]\tLoss: 0.403146\n",
            "Train Epoch: 1 [37760/60000 (63%)]\tLoss: 0.637715\n",
            "Train Epoch: 1 [38400/60000 (64%)]\tLoss: 0.275301\n",
            "Train Epoch: 1 [39040/60000 (65%)]\tLoss: 0.352089\n",
            "Train Epoch: 1 [39680/60000 (66%)]\tLoss: 0.285964\n",
            "Train Epoch: 1 [40320/60000 (67%)]\tLoss: 0.364591\n",
            "Train Epoch: 1 [40960/60000 (68%)]\tLoss: 0.262318\n",
            "Train Epoch: 1 [41600/60000 (69%)]\tLoss: 0.461581\n",
            "Train Epoch: 1 [42240/60000 (70%)]\tLoss: 0.268097\n",
            "Train Epoch: 1 [42880/60000 (71%)]\tLoss: 0.370270\n",
            "Train Epoch: 1 [43520/60000 (72%)]\tLoss: 0.548610\n",
            "Train Epoch: 1 [44160/60000 (74%)]\tLoss: 0.335827\n",
            "Train Epoch: 1 [44800/60000 (75%)]\tLoss: 0.425971\n",
            "Train Epoch: 1 [45440/60000 (76%)]\tLoss: 0.183544\n",
            "Train Epoch: 1 [46080/60000 (77%)]\tLoss: 0.412414\n",
            "Train Epoch: 1 [46720/60000 (78%)]\tLoss: 0.220170\n",
            "Train Epoch: 1 [47360/60000 (79%)]\tLoss: 0.322956\n",
            "Train Epoch: 1 [48000/60000 (80%)]\tLoss: 0.195513\n",
            "Train Epoch: 1 [48640/60000 (81%)]\tLoss: 0.197780\n",
            "Train Epoch: 1 [49280/60000 (82%)]\tLoss: 0.431840\n",
            "Train Epoch: 1 [49920/60000 (83%)]\tLoss: 0.457700\n",
            "Train Epoch: 1 [50560/60000 (84%)]\tLoss: 0.321060\n",
            "Train Epoch: 1 [51200/60000 (85%)]\tLoss: 0.445735\n",
            "Train Epoch: 1 [51840/60000 (86%)]\tLoss: 0.520182\n",
            "Train Epoch: 1 [52480/60000 (87%)]\tLoss: 0.264663\n",
            "Train Epoch: 1 [53120/60000 (88%)]\tLoss: 0.469309\n",
            "Train Epoch: 1 [53760/60000 (90%)]\tLoss: 0.279815\n",
            "Train Epoch: 1 [54400/60000 (91%)]\tLoss: 0.261627\n",
            "Train Epoch: 1 [55040/60000 (92%)]\tLoss: 0.169159\n",
            "Train Epoch: 1 [55680/60000 (93%)]\tLoss: 0.346514\n",
            "Train Epoch: 1 [56320/60000 (94%)]\tLoss: 0.368984\n",
            "Train Epoch: 1 [56960/60000 (95%)]\tLoss: 0.188296\n",
            "Train Epoch: 1 [57600/60000 (96%)]\tLoss: 0.263828\n",
            "Train Epoch: 1 [58240/60000 (97%)]\tLoss: 0.295571\n",
            "Train Epoch: 1 [58880/60000 (98%)]\tLoss: 0.521544\n",
            "Train Epoch: 1 [59520/60000 (99%)]\tLoss: 0.227083\n",
            "\n",
            "Test set: Avg. loss: 0.0001, Accuracy: 9681/10000 (97%)\n",
            "\n",
            "Train Epoch: 2 [0/60000 (0%)]\tLoss: 0.410327\n",
            "Train Epoch: 2 [640/60000 (1%)]\tLoss: 0.322548\n",
            "Train Epoch: 2 [1280/60000 (2%)]\tLoss: 0.305734\n",
            "Train Epoch: 2 [1920/60000 (3%)]\tLoss: 0.430911\n",
            "Train Epoch: 2 [2560/60000 (4%)]\tLoss: 0.122276\n",
            "Train Epoch: 2 [3200/60000 (5%)]\tLoss: 0.164292\n",
            "Train Epoch: 2 [3840/60000 (6%)]\tLoss: 0.392532\n",
            "Train Epoch: 2 [4480/60000 (7%)]\tLoss: 0.192087\n",
            "Train Epoch: 2 [5120/60000 (9%)]\tLoss: 0.243953\n",
            "Train Epoch: 2 [5760/60000 (10%)]\tLoss: 0.553521\n",
            "Train Epoch: 2 [6400/60000 (11%)]\tLoss: 0.265255\n",
            "Train Epoch: 2 [7040/60000 (12%)]\tLoss: 0.160649\n",
            "Train Epoch: 2 [7680/60000 (13%)]\tLoss: 0.473474\n",
            "Train Epoch: 2 [8320/60000 (14%)]\tLoss: 0.161769\n",
            "Train Epoch: 2 [8960/60000 (15%)]\tLoss: 0.448078\n",
            "Train Epoch: 2 [9600/60000 (16%)]\tLoss: 0.246134\n",
            "Train Epoch: 2 [10240/60000 (17%)]\tLoss: 0.329445\n",
            "Train Epoch: 2 [10880/60000 (18%)]\tLoss: 0.356862\n",
            "Train Epoch: 2 [11520/60000 (19%)]\tLoss: 0.323534\n",
            "Train Epoch: 2 [12160/60000 (20%)]\tLoss: 0.245464\n",
            "Train Epoch: 2 [12800/60000 (21%)]\tLoss: 0.261020\n",
            "Train Epoch: 2 [13440/60000 (22%)]\tLoss: 0.334427\n",
            "Train Epoch: 2 [14080/60000 (23%)]\tLoss: 0.312648\n",
            "Train Epoch: 2 [14720/60000 (25%)]\tLoss: 0.475813\n",
            "Train Epoch: 2 [15360/60000 (26%)]\tLoss: 0.318297\n",
            "Train Epoch: 2 [16000/60000 (27%)]\tLoss: 0.222167\n",
            "Train Epoch: 2 [16640/60000 (28%)]\tLoss: 0.285066\n",
            "Train Epoch: 2 [17280/60000 (29%)]\tLoss: 0.335456\n",
            "Train Epoch: 2 [17920/60000 (30%)]\tLoss: 0.302123\n",
            "Train Epoch: 2 [18560/60000 (31%)]\tLoss: 0.304294\n",
            "Train Epoch: 2 [19200/60000 (32%)]\tLoss: 0.357001\n",
            "Train Epoch: 2 [19840/60000 (33%)]\tLoss: 0.202388\n",
            "Train Epoch: 2 [20480/60000 (34%)]\tLoss: 0.261585\n",
            "Train Epoch: 2 [21120/60000 (35%)]\tLoss: 0.361498\n",
            "Train Epoch: 2 [21760/60000 (36%)]\tLoss: 0.212451\n",
            "Train Epoch: 2 [22400/60000 (37%)]\tLoss: 0.362747\n",
            "Train Epoch: 2 [23040/60000 (38%)]\tLoss: 0.453135\n",
            "Train Epoch: 2 [23680/60000 (39%)]\tLoss: 0.288452\n",
            "Train Epoch: 2 [24320/60000 (41%)]\tLoss: 0.315543\n",
            "Train Epoch: 2 [24960/60000 (42%)]\tLoss: 0.237775\n",
            "Train Epoch: 2 [25600/60000 (43%)]\tLoss: 0.178120\n",
            "Train Epoch: 2 [26240/60000 (44%)]\tLoss: 0.256967\n",
            "Train Epoch: 2 [26880/60000 (45%)]\tLoss: 0.344895\n",
            "Train Epoch: 2 [27520/60000 (46%)]\tLoss: 0.268575\n",
            "Train Epoch: 2 [28160/60000 (47%)]\tLoss: 0.299875\n",
            "Train Epoch: 2 [28800/60000 (48%)]\tLoss: 0.276380\n",
            "Train Epoch: 2 [29440/60000 (49%)]\tLoss: 0.735867\n",
            "Train Epoch: 2 [30080/60000 (50%)]\tLoss: 0.321389\n",
            "Train Epoch: 2 [30720/60000 (51%)]\tLoss: 0.303274\n",
            "Train Epoch: 2 [31360/60000 (52%)]\tLoss: 0.434665\n",
            "Train Epoch: 2 [32000/60000 (53%)]\tLoss: 0.394557\n",
            "Train Epoch: 2 [32640/60000 (54%)]\tLoss: 0.154804\n",
            "Train Epoch: 2 [33280/60000 (55%)]\tLoss: 0.370307\n",
            "Train Epoch: 2 [33920/60000 (57%)]\tLoss: 0.130393\n",
            "Train Epoch: 2 [34560/60000 (58%)]\tLoss: 0.254071\n",
            "Train Epoch: 2 [35200/60000 (59%)]\tLoss: 0.178955\n",
            "Train Epoch: 2 [35840/60000 (60%)]\tLoss: 0.389065\n",
            "Train Epoch: 2 [36480/60000 (61%)]\tLoss: 0.088975\n",
            "Train Epoch: 2 [37120/60000 (62%)]\tLoss: 0.151140\n",
            "Train Epoch: 2 [37760/60000 (63%)]\tLoss: 0.085200\n",
            "Train Epoch: 2 [38400/60000 (64%)]\tLoss: 0.115799\n",
            "Train Epoch: 2 [39040/60000 (65%)]\tLoss: 0.098233\n",
            "Train Epoch: 2 [39680/60000 (66%)]\tLoss: 0.469272\n",
            "Train Epoch: 2 [40320/60000 (67%)]\tLoss: 0.268418\n",
            "Train Epoch: 2 [40960/60000 (68%)]\tLoss: 0.330055\n",
            "Train Epoch: 2 [41600/60000 (69%)]\tLoss: 0.371140\n",
            "Train Epoch: 2 [42240/60000 (70%)]\tLoss: 0.267711\n",
            "Train Epoch: 2 [42880/60000 (71%)]\tLoss: 0.215466\n",
            "Train Epoch: 2 [43520/60000 (72%)]\tLoss: 0.487627\n",
            "Train Epoch: 2 [44160/60000 (74%)]\tLoss: 0.380338\n"
          ],
          "name": "stdout"
        },
        {
          "output_type": "stream",
          "text": [
            "Train Epoch: 2 [44800/60000 (75%)]\tLoss: 0.389493\n",
            "Train Epoch: 2 [45440/60000 (76%)]\tLoss: 0.488625\n",
            "Train Epoch: 2 [46080/60000 (77%)]\tLoss: 0.285879\n",
            "Train Epoch: 2 [46720/60000 (78%)]\tLoss: 0.198636\n",
            "Train Epoch: 2 [47360/60000 (79%)]\tLoss: 0.386156\n",
            "Train Epoch: 2 [48000/60000 (80%)]\tLoss: 0.282181\n",
            "Train Epoch: 2 [48640/60000 (81%)]\tLoss: 0.248372\n",
            "Train Epoch: 2 [49280/60000 (82%)]\tLoss: 0.190819\n",
            "Train Epoch: 2 [49920/60000 (83%)]\tLoss: 0.333795\n",
            "Train Epoch: 2 [50560/60000 (84%)]\tLoss: 0.448873\n",
            "Train Epoch: 2 [51200/60000 (85%)]\tLoss: 0.195284\n",
            "Train Epoch: 2 [51840/60000 (86%)]\tLoss: 0.670428\n",
            "Train Epoch: 2 [52480/60000 (87%)]\tLoss: 0.395394\n",
            "Train Epoch: 2 [53120/60000 (88%)]\tLoss: 0.285377\n",
            "Train Epoch: 2 [53760/60000 (90%)]\tLoss: 0.336917\n",
            "Train Epoch: 2 [54400/60000 (91%)]\tLoss: 0.129739\n",
            "Train Epoch: 2 [55040/60000 (92%)]\tLoss: 0.149968\n",
            "Train Epoch: 2 [55680/60000 (93%)]\tLoss: 0.123252\n",
            "Train Epoch: 2 [56320/60000 (94%)]\tLoss: 0.124268\n",
            "Train Epoch: 2 [56960/60000 (95%)]\tLoss: 0.308120\n",
            "Train Epoch: 2 [57600/60000 (96%)]\tLoss: 0.100874\n",
            "Train Epoch: 2 [58240/60000 (97%)]\tLoss: 0.493281\n",
            "Train Epoch: 2 [58880/60000 (98%)]\tLoss: 0.145153\n",
            "Train Epoch: 2 [59520/60000 (99%)]\tLoss: 0.230121\n",
            "\n",
            "Test set: Avg. loss: 0.0001, Accuracy: 9688/10000 (97%)\n",
            "\n",
            "Train Epoch: 3 [0/60000 (0%)]\tLoss: 0.180087\n",
            "Train Epoch: 3 [640/60000 (1%)]\tLoss: 0.186291\n",
            "Train Epoch: 3 [1280/60000 (2%)]\tLoss: 0.173034\n",
            "Train Epoch: 3 [1920/60000 (3%)]\tLoss: 0.099488\n",
            "Train Epoch: 3 [2560/60000 (4%)]\tLoss: 0.101392\n",
            "Train Epoch: 3 [3200/60000 (5%)]\tLoss: 0.096812\n",
            "Train Epoch: 3 [3840/60000 (6%)]\tLoss: 0.313802\n",
            "Train Epoch: 3 [4480/60000 (7%)]\tLoss: 0.209501\n",
            "Train Epoch: 3 [5120/60000 (9%)]\tLoss: 0.541845\n",
            "Train Epoch: 3 [5760/60000 (10%)]\tLoss: 0.282905\n",
            "Train Epoch: 3 [6400/60000 (11%)]\tLoss: 0.192874\n",
            "Train Epoch: 3 [7040/60000 (12%)]\tLoss: 0.120053\n",
            "Train Epoch: 3 [7680/60000 (13%)]\tLoss: 0.398516\n",
            "Train Epoch: 3 [8320/60000 (14%)]\tLoss: 0.226904\n",
            "Train Epoch: 3 [8960/60000 (15%)]\tLoss: 0.457392\n",
            "Train Epoch: 3 [9600/60000 (16%)]\tLoss: 0.262182\n",
            "Train Epoch: 3 [10240/60000 (17%)]\tLoss: 0.302218\n",
            "Train Epoch: 3 [10880/60000 (18%)]\tLoss: 0.212773\n",
            "Train Epoch: 3 [11520/60000 (19%)]\tLoss: 0.237909\n",
            "Train Epoch: 3 [12160/60000 (20%)]\tLoss: 0.371847\n",
            "Train Epoch: 3 [12800/60000 (21%)]\tLoss: 0.131841\n",
            "Train Epoch: 3 [13440/60000 (22%)]\tLoss: 0.322121\n",
            "Train Epoch: 3 [14080/60000 (23%)]\tLoss: 0.271161\n",
            "Train Epoch: 3 [14720/60000 (25%)]\tLoss: 0.253542\n",
            "Train Epoch: 3 [15360/60000 (26%)]\tLoss: 0.225447\n",
            "Train Epoch: 3 [16000/60000 (27%)]\tLoss: 0.233431\n",
            "Train Epoch: 3 [16640/60000 (28%)]\tLoss: 0.221482\n",
            "Train Epoch: 3 [17280/60000 (29%)]\tLoss: 0.204033\n",
            "Train Epoch: 3 [17920/60000 (30%)]\tLoss: 0.529247\n",
            "Train Epoch: 3 [18560/60000 (31%)]\tLoss: 0.090179\n",
            "Train Epoch: 3 [19200/60000 (32%)]\tLoss: 0.211191\n",
            "Train Epoch: 3 [19840/60000 (33%)]\tLoss: 0.324227\n",
            "Train Epoch: 3 [20480/60000 (34%)]\tLoss: 0.322305\n",
            "Train Epoch: 3 [21120/60000 (35%)]\tLoss: 0.170870\n",
            "Train Epoch: 3 [21760/60000 (36%)]\tLoss: 0.320492\n",
            "Train Epoch: 3 [22400/60000 (37%)]\tLoss: 0.198707\n",
            "Train Epoch: 3 [23040/60000 (38%)]\tLoss: 0.532890\n",
            "Train Epoch: 3 [23680/60000 (39%)]\tLoss: 0.226276\n",
            "Train Epoch: 3 [24320/60000 (41%)]\tLoss: 0.260739\n",
            "Train Epoch: 3 [24960/60000 (42%)]\tLoss: 0.298987\n",
            "Train Epoch: 3 [25600/60000 (43%)]\tLoss: 0.282594\n",
            "Train Epoch: 3 [26240/60000 (44%)]\tLoss: 0.584484\n",
            "Train Epoch: 3 [26880/60000 (45%)]\tLoss: 0.253345\n",
            "Train Epoch: 3 [27520/60000 (46%)]\tLoss: 0.289729\n",
            "Train Epoch: 3 [28160/60000 (47%)]\tLoss: 0.266523\n",
            "Train Epoch: 3 [28800/60000 (48%)]\tLoss: 0.224298\n",
            "Train Epoch: 3 [29440/60000 (49%)]\tLoss: 0.224010\n",
            "Train Epoch: 3 [30080/60000 (50%)]\tLoss: 0.405105\n",
            "Train Epoch: 3 [30720/60000 (51%)]\tLoss: 0.430027\n",
            "Train Epoch: 3 [31360/60000 (52%)]\tLoss: 0.537786\n",
            "Train Epoch: 3 [32000/60000 (53%)]\tLoss: 0.201345\n",
            "Train Epoch: 3 [32640/60000 (54%)]\tLoss: 0.451016\n",
            "Train Epoch: 3 [33280/60000 (55%)]\tLoss: 0.177953\n",
            "Train Epoch: 3 [33920/60000 (57%)]\tLoss: 0.558702\n",
            "Train Epoch: 3 [34560/60000 (58%)]\tLoss: 0.160897\n",
            "Train Epoch: 3 [35200/60000 (59%)]\tLoss: 0.281689\n",
            "Train Epoch: 3 [35840/60000 (60%)]\tLoss: 0.425175\n",
            "Train Epoch: 3 [36480/60000 (61%)]\tLoss: 0.299011\n",
            "Train Epoch: 3 [37120/60000 (62%)]\tLoss: 0.294836\n",
            "Train Epoch: 3 [37760/60000 (63%)]\tLoss: 0.321275\n",
            "Train Epoch: 3 [38400/60000 (64%)]\tLoss: 0.496227\n",
            "Train Epoch: 3 [39040/60000 (65%)]\tLoss: 0.204428\n",
            "Train Epoch: 3 [39680/60000 (66%)]\tLoss: 0.183803\n",
            "Train Epoch: 3 [40320/60000 (67%)]\tLoss: 0.178076\n",
            "Train Epoch: 3 [40960/60000 (68%)]\tLoss: 0.298184\n",
            "Train Epoch: 3 [41600/60000 (69%)]\tLoss: 0.289308\n",
            "Train Epoch: 3 [42240/60000 (70%)]\tLoss: 0.339571\n",
            "Train Epoch: 3 [42880/60000 (71%)]\tLoss: 0.230131\n",
            "Train Epoch: 3 [43520/60000 (72%)]\tLoss: 0.332493\n",
            "Train Epoch: 3 [44160/60000 (74%)]\tLoss: 0.334718\n",
            "Train Epoch: 3 [44800/60000 (75%)]\tLoss: 0.164795\n",
            "Train Epoch: 3 [45440/60000 (76%)]\tLoss: 0.330895\n",
            "Train Epoch: 3 [46080/60000 (77%)]\tLoss: 0.141545\n",
            "Train Epoch: 3 [46720/60000 (78%)]\tLoss: 0.367517\n",
            "Train Epoch: 3 [47360/60000 (79%)]\tLoss: 0.191964\n",
            "Train Epoch: 3 [48000/60000 (80%)]\tLoss: 0.247739\n",
            "Train Epoch: 3 [48640/60000 (81%)]\tLoss: 0.388370\n",
            "Train Epoch: 3 [49280/60000 (82%)]\tLoss: 0.179693\n",
            "Train Epoch: 3 [49920/60000 (83%)]\tLoss: 0.316773\n",
            "Train Epoch: 3 [50560/60000 (84%)]\tLoss: 0.275893\n",
            "Train Epoch: 3 [51200/60000 (85%)]\tLoss: 0.267992\n",
            "Train Epoch: 3 [51840/60000 (86%)]\tLoss: 0.221851\n",
            "Train Epoch: 3 [52480/60000 (87%)]\tLoss: 0.288145\n",
            "Train Epoch: 3 [53120/60000 (88%)]\tLoss: 0.216570\n",
            "Train Epoch: 3 [53760/60000 (90%)]\tLoss: 0.097466\n",
            "Train Epoch: 3 [54400/60000 (91%)]\tLoss: 0.200918\n",
            "Train Epoch: 3 [55040/60000 (92%)]\tLoss: 0.143392\n",
            "Train Epoch: 3 [55680/60000 (93%)]\tLoss: 0.434074\n",
            "Train Epoch: 3 [56320/60000 (94%)]\tLoss: 0.398053\n",
            "Train Epoch: 3 [56960/60000 (95%)]\tLoss: 0.253405\n",
            "Train Epoch: 3 [57600/60000 (96%)]\tLoss: 0.170074\n",
            "Train Epoch: 3 [58240/60000 (97%)]\tLoss: 0.384190\n",
            "Train Epoch: 3 [58880/60000 (98%)]\tLoss: 0.461625\n",
            "Train Epoch: 3 [59520/60000 (99%)]\tLoss: 0.253323\n",
            "\n",
            "Test set: Avg. loss: 0.0001, Accuracy: 9732/10000 (97%)\n",
            "\n",
            "Train Epoch: 4 [0/60000 (0%)]\tLoss: 0.174532\n",
            "Train Epoch: 4 [640/60000 (1%)]\tLoss: 0.131415\n",
            "Train Epoch: 4 [1280/60000 (2%)]\tLoss: 0.166497\n",
            "Train Epoch: 4 [1920/60000 (3%)]\tLoss: 0.145030\n",
            "Train Epoch: 4 [2560/60000 (4%)]\tLoss: 0.426391\n",
            "Train Epoch: 4 [3200/60000 (5%)]\tLoss: 0.164894\n",
            "Train Epoch: 4 [3840/60000 (6%)]\tLoss: 0.131396\n",
            "Train Epoch: 4 [4480/60000 (7%)]\tLoss: 0.277918\n",
            "Train Epoch: 4 [5120/60000 (9%)]\tLoss: 0.444871\n",
            "Train Epoch: 4 [5760/60000 (10%)]\tLoss: 0.300073\n",
            "Train Epoch: 4 [6400/60000 (11%)]\tLoss: 0.129951\n",
            "Train Epoch: 4 [7040/60000 (12%)]\tLoss: 0.508696\n",
            "Train Epoch: 4 [7680/60000 (13%)]\tLoss: 0.330923\n",
            "Train Epoch: 4 [8320/60000 (14%)]\tLoss: 0.264514\n",
            "Train Epoch: 4 [8960/60000 (15%)]\tLoss: 0.219381\n",
            "Train Epoch: 4 [9600/60000 (16%)]\tLoss: 0.221482\n",
            "Train Epoch: 4 [10240/60000 (17%)]\tLoss: 0.343124\n",
            "Train Epoch: 4 [10880/60000 (18%)]\tLoss: 0.527532\n",
            "Train Epoch: 4 [11520/60000 (19%)]\tLoss: 0.465669\n",
            "Train Epoch: 4 [12160/60000 (20%)]\tLoss: 0.250503\n",
            "Train Epoch: 4 [12800/60000 (21%)]\tLoss: 0.295457\n",
            "Train Epoch: 4 [13440/60000 (22%)]\tLoss: 0.197643\n",
            "Train Epoch: 4 [14080/60000 (23%)]\tLoss: 0.267124\n",
            "Train Epoch: 4 [14720/60000 (25%)]\tLoss: 0.231851\n",
            "Train Epoch: 4 [15360/60000 (26%)]\tLoss: 0.190617\n",
            "Train Epoch: 4 [16000/60000 (27%)]\tLoss: 0.227293\n",
            "Train Epoch: 4 [16640/60000 (28%)]\tLoss: 0.069619\n",
            "Train Epoch: 4 [17280/60000 (29%)]\tLoss: 0.464397\n",
            "Train Epoch: 4 [17920/60000 (30%)]\tLoss: 0.315576\n",
            "Train Epoch: 4 [18560/60000 (31%)]\tLoss: 0.170677\n",
            "Train Epoch: 4 [19200/60000 (32%)]\tLoss: 0.189640\n",
            "Train Epoch: 4 [19840/60000 (33%)]\tLoss: 0.170118\n",
            "Train Epoch: 4 [20480/60000 (34%)]\tLoss: 0.183933\n",
            "Train Epoch: 4 [21120/60000 (35%)]\tLoss: 0.289032\n",
            "Train Epoch: 4 [21760/60000 (36%)]\tLoss: 0.174845\n",
            "Train Epoch: 4 [22400/60000 (37%)]\tLoss: 0.171762\n",
            "Train Epoch: 4 [23040/60000 (38%)]\tLoss: 0.290077\n",
            "Train Epoch: 4 [23680/60000 (39%)]\tLoss: 0.156972\n",
            "Train Epoch: 4 [24320/60000 (41%)]\tLoss: 0.236190\n",
            "Train Epoch: 4 [24960/60000 (42%)]\tLoss: 0.245775\n",
            "Train Epoch: 4 [25600/60000 (43%)]\tLoss: 0.212624\n",
            "Train Epoch: 4 [26240/60000 (44%)]\tLoss: 0.278899\n",
            "Train Epoch: 4 [26880/60000 (45%)]\tLoss: 0.207328\n",
            "Train Epoch: 4 [27520/60000 (46%)]\tLoss: 0.332353\n",
            "Train Epoch: 4 [28160/60000 (47%)]\tLoss: 0.307372\n"
          ],
          "name": "stdout"
        },
        {
          "output_type": "stream",
          "text": [
            "Train Epoch: 4 [28800/60000 (48%)]\tLoss: 0.344183\n",
            "Train Epoch: 4 [29440/60000 (49%)]\tLoss: 0.109485\n",
            "Train Epoch: 4 [30080/60000 (50%)]\tLoss: 0.153023\n",
            "Train Epoch: 4 [30720/60000 (51%)]\tLoss: 0.283053\n",
            "Train Epoch: 4 [31360/60000 (52%)]\tLoss: 0.353761\n",
            "Train Epoch: 4 [32000/60000 (53%)]\tLoss: 0.171392\n",
            "Train Epoch: 4 [32640/60000 (54%)]\tLoss: 0.265232\n",
            "Train Epoch: 4 [33280/60000 (55%)]\tLoss: 0.171654\n",
            "Train Epoch: 4 [33920/60000 (57%)]\tLoss: 0.158035\n",
            "Train Epoch: 4 [34560/60000 (58%)]\tLoss: 0.262880\n",
            "Train Epoch: 4 [35200/60000 (59%)]\tLoss: 0.319055\n",
            "Train Epoch: 4 [35840/60000 (60%)]\tLoss: 0.138189\n",
            "Train Epoch: 4 [36480/60000 (61%)]\tLoss: 0.290992\n",
            "Train Epoch: 4 [37120/60000 (62%)]\tLoss: 0.248777\n",
            "Train Epoch: 4 [37760/60000 (63%)]\tLoss: 0.432276\n",
            "Train Epoch: 4 [38400/60000 (64%)]\tLoss: 0.284677\n",
            "Train Epoch: 4 [39040/60000 (65%)]\tLoss: 0.316089\n",
            "Train Epoch: 4 [39680/60000 (66%)]\tLoss: 0.346293\n",
            "Train Epoch: 4 [40320/60000 (67%)]\tLoss: 0.325325\n",
            "Train Epoch: 4 [40960/60000 (68%)]\tLoss: 0.071722\n",
            "Train Epoch: 4 [41600/60000 (69%)]\tLoss: 0.263746\n",
            "Train Epoch: 4 [42240/60000 (70%)]\tLoss: 0.299487\n",
            "Train Epoch: 4 [42880/60000 (71%)]\tLoss: 0.199500\n",
            "Train Epoch: 4 [43520/60000 (72%)]\tLoss: 0.347394\n",
            "Train Epoch: 4 [44160/60000 (74%)]\tLoss: 0.481685\n",
            "Train Epoch: 4 [44800/60000 (75%)]\tLoss: 0.298719\n",
            "Train Epoch: 4 [45440/60000 (76%)]\tLoss: 0.250948\n",
            "Train Epoch: 4 [46080/60000 (77%)]\tLoss: 0.076946\n",
            "Train Epoch: 4 [46720/60000 (78%)]\tLoss: 0.473915\n",
            "Train Epoch: 4 [47360/60000 (79%)]\tLoss: 0.310402\n",
            "Train Epoch: 4 [48000/60000 (80%)]\tLoss: 0.314356\n",
            "Train Epoch: 4 [48640/60000 (81%)]\tLoss: 0.264536\n",
            "Train Epoch: 4 [49280/60000 (82%)]\tLoss: 0.171840\n",
            "Train Epoch: 4 [49920/60000 (83%)]\tLoss: 0.167551\n",
            "Train Epoch: 4 [50560/60000 (84%)]\tLoss: 0.149304\n",
            "Train Epoch: 4 [51200/60000 (85%)]\tLoss: 0.235596\n",
            "Train Epoch: 4 [51840/60000 (86%)]\tLoss: 0.389517\n",
            "Train Epoch: 4 [52480/60000 (87%)]\tLoss: 0.199105\n",
            "Train Epoch: 4 [53120/60000 (88%)]\tLoss: 0.330093\n",
            "Train Epoch: 4 [53760/60000 (90%)]\tLoss: 0.301458\n",
            "Train Epoch: 4 [54400/60000 (91%)]\tLoss: 0.305651\n",
            "Train Epoch: 4 [55040/60000 (92%)]\tLoss: 0.187444\n",
            "Train Epoch: 4 [55680/60000 (93%)]\tLoss: 0.616220\n",
            "Train Epoch: 4 [56320/60000 (94%)]\tLoss: 0.246327\n",
            "Train Epoch: 4 [56960/60000 (95%)]\tLoss: 0.331378\n",
            "Train Epoch: 4 [57600/60000 (96%)]\tLoss: 0.055843\n",
            "Train Epoch: 4 [58240/60000 (97%)]\tLoss: 0.211649\n",
            "Train Epoch: 4 [58880/60000 (98%)]\tLoss: 0.325226\n",
            "Train Epoch: 4 [59520/60000 (99%)]\tLoss: 0.284428\n",
            "\n",
            "Test set: Avg. loss: 0.0001, Accuracy: 9712/10000 (97%)\n",
            "\n",
            "Train Epoch: 5 [0/60000 (0%)]\tLoss: 0.241150\n",
            "Train Epoch: 5 [640/60000 (1%)]\tLoss: 0.097980\n",
            "Train Epoch: 5 [1280/60000 (2%)]\tLoss: 0.305176\n",
            "Train Epoch: 5 [1920/60000 (3%)]\tLoss: 0.041972\n",
            "Train Epoch: 5 [2560/60000 (4%)]\tLoss: 0.149484\n",
            "Train Epoch: 5 [3200/60000 (5%)]\tLoss: 0.234324\n",
            "Train Epoch: 5 [3840/60000 (6%)]\tLoss: 0.138297\n",
            "Train Epoch: 5 [4480/60000 (7%)]\tLoss: 0.248961\n",
            "Train Epoch: 5 [5120/60000 (9%)]\tLoss: 0.207662\n",
            "Train Epoch: 5 [5760/60000 (10%)]\tLoss: 0.284472\n",
            "Train Epoch: 5 [6400/60000 (11%)]\tLoss: 0.138510\n",
            "Train Epoch: 5 [7040/60000 (12%)]\tLoss: 0.302289\n",
            "Train Epoch: 5 [7680/60000 (13%)]\tLoss: 0.425952\n",
            "Train Epoch: 5 [8320/60000 (14%)]\tLoss: 0.319389\n",
            "Train Epoch: 5 [8960/60000 (15%)]\tLoss: 0.185646\n",
            "Train Epoch: 5 [9600/60000 (16%)]\tLoss: 0.427831\n",
            "Train Epoch: 5 [10240/60000 (17%)]\tLoss: 0.381416\n",
            "Train Epoch: 5 [10880/60000 (18%)]\tLoss: 0.211900\n",
            "Train Epoch: 5 [11520/60000 (19%)]\tLoss: 0.299640\n",
            "Train Epoch: 5 [12160/60000 (20%)]\tLoss: 0.287042\n",
            "Train Epoch: 5 [12800/60000 (21%)]\tLoss: 0.196274\n",
            "Train Epoch: 5 [13440/60000 (22%)]\tLoss: 0.520800\n",
            "Train Epoch: 5 [14080/60000 (23%)]\tLoss: 0.200307\n",
            "Train Epoch: 5 [14720/60000 (25%)]\tLoss: 0.274185\n",
            "Train Epoch: 5 [15360/60000 (26%)]\tLoss: 0.298287\n",
            "Train Epoch: 5 [16000/60000 (27%)]\tLoss: 0.236545\n",
            "Train Epoch: 5 [16640/60000 (28%)]\tLoss: 0.329907\n",
            "Train Epoch: 5 [17280/60000 (29%)]\tLoss: 0.331874\n",
            "Train Epoch: 5 [17920/60000 (30%)]\tLoss: 0.294206\n",
            "Train Epoch: 5 [18560/60000 (31%)]\tLoss: 0.477302\n",
            "Train Epoch: 5 [19200/60000 (32%)]\tLoss: 0.185228\n",
            "Train Epoch: 5 [19840/60000 (33%)]\tLoss: 0.200137\n",
            "Train Epoch: 5 [20480/60000 (34%)]\tLoss: 0.171271\n",
            "Train Epoch: 5 [21120/60000 (35%)]\tLoss: 0.526218\n",
            "Train Epoch: 5 [21760/60000 (36%)]\tLoss: 0.344275\n",
            "Train Epoch: 5 [22400/60000 (37%)]\tLoss: 0.283073\n",
            "Train Epoch: 5 [23040/60000 (38%)]\tLoss: 0.130598\n",
            "Train Epoch: 5 [23680/60000 (39%)]\tLoss: 0.342479\n",
            "Train Epoch: 5 [24320/60000 (41%)]\tLoss: 0.304942\n",
            "Train Epoch: 5 [24960/60000 (42%)]\tLoss: 0.159822\n",
            "Train Epoch: 5 [25600/60000 (43%)]\tLoss: 0.099440\n",
            "Train Epoch: 5 [26240/60000 (44%)]\tLoss: 0.325528\n",
            "Train Epoch: 5 [26880/60000 (45%)]\tLoss: 0.261693\n",
            "Train Epoch: 5 [27520/60000 (46%)]\tLoss: 0.247791\n",
            "Train Epoch: 5 [28160/60000 (47%)]\tLoss: 0.361214\n",
            "Train Epoch: 5 [28800/60000 (48%)]\tLoss: 0.065065\n",
            "Train Epoch: 5 [29440/60000 (49%)]\tLoss: 0.301510\n",
            "Train Epoch: 5 [30080/60000 (50%)]\tLoss: 0.483906\n",
            "Train Epoch: 5 [30720/60000 (51%)]\tLoss: 0.175868\n",
            "Train Epoch: 5 [31360/60000 (52%)]\tLoss: 0.286258\n",
            "Train Epoch: 5 [32000/60000 (53%)]\tLoss: 0.268977\n",
            "Train Epoch: 5 [32640/60000 (54%)]\tLoss: 0.081818\n",
            "Train Epoch: 5 [33280/60000 (55%)]\tLoss: 0.118350\n",
            "Train Epoch: 5 [33920/60000 (57%)]\tLoss: 0.102349\n",
            "Train Epoch: 5 [34560/60000 (58%)]\tLoss: 0.315626\n",
            "Train Epoch: 5 [35200/60000 (59%)]\tLoss: 0.478960\n",
            "Train Epoch: 5 [35840/60000 (60%)]\tLoss: 0.101537\n",
            "Train Epoch: 5 [36480/60000 (61%)]\tLoss: 0.194977\n",
            "Train Epoch: 5 [37120/60000 (62%)]\tLoss: 0.241008\n",
            "Train Epoch: 5 [37760/60000 (63%)]\tLoss: 0.270897\n",
            "Train Epoch: 5 [38400/60000 (64%)]\tLoss: 0.542065\n",
            "Train Epoch: 5 [39040/60000 (65%)]\tLoss: 0.232424\n",
            "Train Epoch: 5 [39680/60000 (66%)]\tLoss: 0.338730\n",
            "Train Epoch: 5 [40320/60000 (67%)]\tLoss: 0.403818\n",
            "Train Epoch: 5 [40960/60000 (68%)]\tLoss: 0.327839\n",
            "Train Epoch: 5 [41600/60000 (69%)]\tLoss: 0.208793\n",
            "Train Epoch: 5 [42240/60000 (70%)]\tLoss: 0.284342\n",
            "Train Epoch: 5 [42880/60000 (71%)]\tLoss: 0.359571\n",
            "Train Epoch: 5 [43520/60000 (72%)]\tLoss: 0.330429\n",
            "Train Epoch: 5 [44160/60000 (74%)]\tLoss: 0.116668\n",
            "Train Epoch: 5 [44800/60000 (75%)]\tLoss: 0.164178\n",
            "Train Epoch: 5 [45440/60000 (76%)]\tLoss: 0.195986\n",
            "Train Epoch: 5 [46080/60000 (77%)]\tLoss: 0.127776\n",
            "Train Epoch: 5 [46720/60000 (78%)]\tLoss: 0.421710\n",
            "Train Epoch: 5 [47360/60000 (79%)]\tLoss: 0.314797\n",
            "Train Epoch: 5 [48000/60000 (80%)]\tLoss: 0.313033\n",
            "Train Epoch: 5 [48640/60000 (81%)]\tLoss: 0.108104\n",
            "Train Epoch: 5 [49280/60000 (82%)]\tLoss: 0.352820\n",
            "Train Epoch: 5 [49920/60000 (83%)]\tLoss: 0.161290\n",
            "Train Epoch: 5 [50560/60000 (84%)]\tLoss: 0.284753\n",
            "Train Epoch: 5 [51200/60000 (85%)]\tLoss: 0.220651\n",
            "Train Epoch: 5 [51840/60000 (86%)]\tLoss: 0.301437\n",
            "Train Epoch: 5 [52480/60000 (87%)]\tLoss: 0.116851\n",
            "Train Epoch: 5 [53120/60000 (88%)]\tLoss: 0.152214\n",
            "Train Epoch: 5 [53760/60000 (90%)]\tLoss: 0.203398\n",
            "Train Epoch: 5 [54400/60000 (91%)]\tLoss: 0.253029\n",
            "Train Epoch: 5 [55040/60000 (92%)]\tLoss: 0.176009\n",
            "Train Epoch: 5 [55680/60000 (93%)]\tLoss: 0.186185\n",
            "Train Epoch: 5 [56320/60000 (94%)]\tLoss: 0.179800\n",
            "Train Epoch: 5 [56960/60000 (95%)]\tLoss: 0.178694\n",
            "Train Epoch: 5 [57600/60000 (96%)]\tLoss: 0.152943\n",
            "Train Epoch: 5 [58240/60000 (97%)]\tLoss: 0.085410\n",
            "Train Epoch: 5 [58880/60000 (98%)]\tLoss: 0.336555\n",
            "Train Epoch: 5 [59520/60000 (99%)]\tLoss: 0.376562\n",
            "\n",
            "Test set: Avg. loss: 0.0001, Accuracy: 9755/10000 (98%)\n",
            "\n",
            "Training & Testing on CNN Model 2 - SGD as Optimizer & Dropout = 0.5\n",
            "Train Epoch: 1 [0/60000 (0%)]\tLoss: 2.353197\n"
          ],
          "name": "stdout"
        },
        {
          "output_type": "stream",
          "text": [
            "C:\\Users\\agarw\\AppData\\Roaming\\Python\\Python37\\site-packages\\ipykernel_launcher.py:37: UserWarning: Implicit dimension choice for log_softmax has been deprecated. Change the call to include dim=X as an argument.\n"
          ],
          "name": "stderr"
        },
        {
          "output_type": "stream",
          "text": [
            "Train Epoch: 1 [640/60000 (1%)]\tLoss: 2.280854\n",
            "Train Epoch: 1 [1280/60000 (2%)]\tLoss: 2.259353\n",
            "Train Epoch: 1 [1920/60000 (3%)]\tLoss: 2.221901\n",
            "Train Epoch: 1 [2560/60000 (4%)]\tLoss: 2.136423\n",
            "Train Epoch: 1 [3200/60000 (5%)]\tLoss: 2.127253\n",
            "Train Epoch: 1 [3840/60000 (6%)]\tLoss: 2.072015\n",
            "Train Epoch: 1 [4480/60000 (7%)]\tLoss: 1.894501\n",
            "Train Epoch: 1 [5120/60000 (9%)]\tLoss: 1.990166\n",
            "Train Epoch: 1 [5760/60000 (10%)]\tLoss: 1.847935\n",
            "Train Epoch: 1 [6400/60000 (11%)]\tLoss: 1.625875\n",
            "Train Epoch: 1 [7040/60000 (12%)]\tLoss: 1.587813\n",
            "Train Epoch: 1 [7680/60000 (13%)]\tLoss: 1.670049\n",
            "Train Epoch: 1 [8320/60000 (14%)]\tLoss: 1.318312\n",
            "Train Epoch: 1 [8960/60000 (15%)]\tLoss: 1.447737\n",
            "Train Epoch: 1 [9600/60000 (16%)]\tLoss: 1.199918\n",
            "Train Epoch: 1 [10240/60000 (17%)]\tLoss: 1.183497\n",
            "Train Epoch: 1 [10880/60000 (18%)]\tLoss: 1.302779\n",
            "Train Epoch: 1 [11520/60000 (19%)]\tLoss: 0.844772\n",
            "Train Epoch: 1 [12160/60000 (20%)]\tLoss: 0.917073\n",
            "Train Epoch: 1 [12800/60000 (21%)]\tLoss: 0.935682\n",
            "Train Epoch: 1 [13440/60000 (22%)]\tLoss: 1.217859\n",
            "Train Epoch: 1 [14080/60000 (23%)]\tLoss: 0.926826\n",
            "Train Epoch: 1 [14720/60000 (25%)]\tLoss: 1.024636\n",
            "Train Epoch: 1 [15360/60000 (26%)]\tLoss: 1.003863\n",
            "Train Epoch: 1 [16000/60000 (27%)]\tLoss: 0.793912\n",
            "Train Epoch: 1 [16640/60000 (28%)]\tLoss: 0.878791\n",
            "Train Epoch: 1 [17280/60000 (29%)]\tLoss: 0.668778\n",
            "Train Epoch: 1 [17920/60000 (30%)]\tLoss: 0.751838\n",
            "Train Epoch: 1 [18560/60000 (31%)]\tLoss: 1.197673\n",
            "Train Epoch: 1 [19200/60000 (32%)]\tLoss: 0.768548\n",
            "Train Epoch: 1 [19840/60000 (33%)]\tLoss: 0.958556\n",
            "Train Epoch: 1 [20480/60000 (34%)]\tLoss: 0.847572\n",
            "Train Epoch: 1 [21120/60000 (35%)]\tLoss: 0.812707\n",
            "Train Epoch: 1 [21760/60000 (36%)]\tLoss: 0.697891\n",
            "Train Epoch: 1 [22400/60000 (37%)]\tLoss: 0.802681\n",
            "Train Epoch: 1 [23040/60000 (38%)]\tLoss: 0.580559\n",
            "Train Epoch: 1 [23680/60000 (39%)]\tLoss: 0.463248\n",
            "Train Epoch: 1 [24320/60000 (41%)]\tLoss: 0.466669\n",
            "Train Epoch: 1 [24960/60000 (42%)]\tLoss: 0.518794\n",
            "Train Epoch: 1 [25600/60000 (43%)]\tLoss: 0.518219\n",
            "Train Epoch: 1 [26240/60000 (44%)]\tLoss: 0.647446\n",
            "Train Epoch: 1 [26880/60000 (45%)]\tLoss: 0.559467\n",
            "Train Epoch: 1 [27520/60000 (46%)]\tLoss: 0.592417\n",
            "Train Epoch: 1 [28160/60000 (47%)]\tLoss: 0.531374\n",
            "Train Epoch: 1 [28800/60000 (48%)]\tLoss: 0.360263\n",
            "Train Epoch: 1 [29440/60000 (49%)]\tLoss: 0.685996\n",
            "Train Epoch: 1 [30080/60000 (50%)]\tLoss: 0.624013\n",
            "Train Epoch: 1 [30720/60000 (51%)]\tLoss: 0.631184\n",
            "Train Epoch: 1 [31360/60000 (52%)]\tLoss: 0.454974\n",
            "Train Epoch: 1 [32000/60000 (53%)]\tLoss: 0.508579\n",
            "Train Epoch: 1 [32640/60000 (54%)]\tLoss: 0.963949\n",
            "Train Epoch: 1 [33280/60000 (55%)]\tLoss: 0.675012\n",
            "Train Epoch: 1 [33920/60000 (57%)]\tLoss: 0.688653\n",
            "Train Epoch: 1 [34560/60000 (58%)]\tLoss: 0.752791\n",
            "Train Epoch: 1 [35200/60000 (59%)]\tLoss: 0.534981\n",
            "Train Epoch: 1 [35840/60000 (60%)]\tLoss: 0.534503\n",
            "Train Epoch: 1 [36480/60000 (61%)]\tLoss: 0.506990\n",
            "Train Epoch: 1 [37120/60000 (62%)]\tLoss: 0.616149\n",
            "Train Epoch: 1 [37760/60000 (63%)]\tLoss: 0.669387\n",
            "Train Epoch: 1 [38400/60000 (64%)]\tLoss: 0.594194\n",
            "Train Epoch: 1 [39040/60000 (65%)]\tLoss: 0.389365\n",
            "Train Epoch: 1 [39680/60000 (66%)]\tLoss: 0.781210\n",
            "Train Epoch: 1 [40320/60000 (67%)]\tLoss: 0.553330\n",
            "Train Epoch: 1 [40960/60000 (68%)]\tLoss: 0.591935\n",
            "Train Epoch: 1 [41600/60000 (69%)]\tLoss: 0.533210\n",
            "Train Epoch: 1 [42240/60000 (70%)]\tLoss: 0.503304\n",
            "Train Epoch: 1 [42880/60000 (71%)]\tLoss: 0.483996\n",
            "Train Epoch: 1 [43520/60000 (72%)]\tLoss: 0.434291\n",
            "Train Epoch: 1 [44160/60000 (74%)]\tLoss: 0.685837\n",
            "Train Epoch: 1 [44800/60000 (75%)]\tLoss: 0.501082\n",
            "Train Epoch: 1 [45440/60000 (76%)]\tLoss: 0.440840\n",
            "Train Epoch: 1 [46080/60000 (77%)]\tLoss: 0.792081\n",
            "Train Epoch: 1 [46720/60000 (78%)]\tLoss: 0.361441\n",
            "Train Epoch: 1 [47360/60000 (79%)]\tLoss: 0.429526\n",
            "Train Epoch: 1 [48000/60000 (80%)]\tLoss: 0.743806\n",
            "Train Epoch: 1 [48640/60000 (81%)]\tLoss: 0.521620\n",
            "Train Epoch: 1 [49280/60000 (82%)]\tLoss: 0.370513\n",
            "Train Epoch: 1 [49920/60000 (83%)]\tLoss: 0.393959\n",
            "Train Epoch: 1 [50560/60000 (84%)]\tLoss: 0.354307\n",
            "Train Epoch: 1 [51200/60000 (85%)]\tLoss: 0.362201\n",
            "Train Epoch: 1 [51840/60000 (86%)]\tLoss: 0.517953\n",
            "Train Epoch: 1 [52480/60000 (87%)]\tLoss: 0.386153\n",
            "Train Epoch: 1 [53120/60000 (88%)]\tLoss: 0.451554\n",
            "Train Epoch: 1 [53760/60000 (90%)]\tLoss: 0.491137\n",
            "Train Epoch: 1 [54400/60000 (91%)]\tLoss: 0.468645\n",
            "Train Epoch: 1 [55040/60000 (92%)]\tLoss: 0.625664\n",
            "Train Epoch: 1 [55680/60000 (93%)]\tLoss: 0.577576\n",
            "Train Epoch: 1 [56320/60000 (94%)]\tLoss: 0.423863\n",
            "Train Epoch: 1 [56960/60000 (95%)]\tLoss: 0.445717\n",
            "Train Epoch: 1 [57600/60000 (96%)]\tLoss: 0.367345\n",
            "Train Epoch: 1 [58240/60000 (97%)]\tLoss: 0.364724\n",
            "Train Epoch: 1 [58880/60000 (98%)]\tLoss: 0.506954\n",
            "Train Epoch: 1 [59520/60000 (99%)]\tLoss: 0.571819\n"
          ],
          "name": "stdout"
        },
        {
          "output_type": "stream",
          "text": [
            "C:\\Users\\agarw\\.conda\\envs\\cysecml\\lib\\site-packages\\torch\\nn\\_reduction.py:43: UserWarning: size_average and reduce args will be deprecated, please use reduction='sum' instead.\n",
            "  warnings.warn(warning.format(ret))\n"
          ],
          "name": "stderr"
        },
        {
          "output_type": "stream",
          "text": [
            "\n",
            "Test set: Avg. loss: 0.1962, Accuracy: 9424/10000 (94%)\n",
            "\n",
            "Train Epoch: 2 [0/60000 (0%)]\tLoss: 0.340694\n",
            "Train Epoch: 2 [640/60000 (1%)]\tLoss: 0.470427\n",
            "Train Epoch: 2 [1280/60000 (2%)]\tLoss: 0.424039\n",
            "Train Epoch: 2 [1920/60000 (3%)]\tLoss: 0.422702\n",
            "Train Epoch: 2 [2560/60000 (4%)]\tLoss: 0.390378\n",
            "Train Epoch: 2 [3200/60000 (5%)]\tLoss: 0.543611\n",
            "Train Epoch: 2 [3840/60000 (6%)]\tLoss: 0.548837\n",
            "Train Epoch: 2 [4480/60000 (7%)]\tLoss: 0.545766\n",
            "Train Epoch: 2 [5120/60000 (9%)]\tLoss: 0.536714\n",
            "Train Epoch: 2 [5760/60000 (10%)]\tLoss: 0.531553\n",
            "Train Epoch: 2 [6400/60000 (11%)]\tLoss: 0.477741\n",
            "Train Epoch: 2 [7040/60000 (12%)]\tLoss: 0.256106\n",
            "Train Epoch: 2 [7680/60000 (13%)]\tLoss: 0.371331\n",
            "Train Epoch: 2 [8320/60000 (14%)]\tLoss: 0.409845\n",
            "Train Epoch: 2 [8960/60000 (15%)]\tLoss: 0.272623\n",
            "Train Epoch: 2 [9600/60000 (16%)]\tLoss: 0.435167\n",
            "Train Epoch: 2 [10240/60000 (17%)]\tLoss: 0.540059\n",
            "Train Epoch: 2 [10880/60000 (18%)]\tLoss: 0.454178\n",
            "Train Epoch: 2 [11520/60000 (19%)]\tLoss: 0.323249\n",
            "Train Epoch: 2 [12160/60000 (20%)]\tLoss: 0.738367\n",
            "Train Epoch: 2 [12800/60000 (21%)]\tLoss: 0.428626\n",
            "Train Epoch: 2 [13440/60000 (22%)]\tLoss: 0.424191\n",
            "Train Epoch: 2 [14080/60000 (23%)]\tLoss: 0.255595\n",
            "Train Epoch: 2 [14720/60000 (25%)]\tLoss: 0.332127\n",
            "Train Epoch: 2 [15360/60000 (26%)]\tLoss: 0.406327\n",
            "Train Epoch: 2 [16000/60000 (27%)]\tLoss: 0.239624\n",
            "Train Epoch: 2 [16640/60000 (28%)]\tLoss: 0.618981\n",
            "Train Epoch: 2 [17280/60000 (29%)]\tLoss: 0.292956\n",
            "Train Epoch: 2 [17920/60000 (30%)]\tLoss: 0.443202\n",
            "Train Epoch: 2 [18560/60000 (31%)]\tLoss: 0.476263\n",
            "Train Epoch: 2 [19200/60000 (32%)]\tLoss: 0.599800\n",
            "Train Epoch: 2 [19840/60000 (33%)]\tLoss: 0.273257\n",
            "Train Epoch: 2 [20480/60000 (34%)]\tLoss: 0.379352\n",
            "Train Epoch: 2 [21120/60000 (35%)]\tLoss: 0.296954\n",
            "Train Epoch: 2 [21760/60000 (36%)]\tLoss: 0.570606\n",
            "Train Epoch: 2 [22400/60000 (37%)]\tLoss: 0.415131\n",
            "Train Epoch: 2 [23040/60000 (38%)]\tLoss: 0.453488\n",
            "Train Epoch: 2 [23680/60000 (39%)]\tLoss: 0.379795\n",
            "Train Epoch: 2 [24320/60000 (41%)]\tLoss: 0.382821\n",
            "Train Epoch: 2 [24960/60000 (42%)]\tLoss: 0.264091\n",
            "Train Epoch: 2 [25600/60000 (43%)]\tLoss: 0.311188\n",
            "Train Epoch: 2 [26240/60000 (44%)]\tLoss: 0.407527\n",
            "Train Epoch: 2 [26880/60000 (45%)]\tLoss: 0.323298\n",
            "Train Epoch: 2 [27520/60000 (46%)]\tLoss: 0.262615\n",
            "Train Epoch: 2 [28160/60000 (47%)]\tLoss: 0.451584\n",
            "Train Epoch: 2 [28800/60000 (48%)]\tLoss: 0.269731\n",
            "Train Epoch: 2 [29440/60000 (49%)]\tLoss: 0.498218\n",
            "Train Epoch: 2 [30080/60000 (50%)]\tLoss: 0.354210\n",
            "Train Epoch: 2 [30720/60000 (51%)]\tLoss: 0.369854\n",
            "Train Epoch: 2 [31360/60000 (52%)]\tLoss: 0.671724\n",
            "Train Epoch: 2 [32000/60000 (53%)]\tLoss: 0.310601\n",
            "Train Epoch: 2 [32640/60000 (54%)]\tLoss: 0.508853\n",
            "Train Epoch: 2 [33280/60000 (55%)]\tLoss: 0.549410\n",
            "Train Epoch: 2 [33920/60000 (57%)]\tLoss: 0.245446\n",
            "Train Epoch: 2 [34560/60000 (58%)]\tLoss: 0.345171\n",
            "Train Epoch: 2 [35200/60000 (59%)]\tLoss: 0.255621\n",
            "Train Epoch: 2 [35840/60000 (60%)]\tLoss: 0.574844\n",
            "Train Epoch: 2 [36480/60000 (61%)]\tLoss: 0.374436\n",
            "Train Epoch: 2 [37120/60000 (62%)]\tLoss: 0.248268\n",
            "Train Epoch: 2 [37760/60000 (63%)]\tLoss: 0.331978\n",
            "Train Epoch: 2 [38400/60000 (64%)]\tLoss: 0.487591\n",
            "Train Epoch: 2 [39040/60000 (65%)]\tLoss: 0.303576\n",
            "Train Epoch: 2 [39680/60000 (66%)]\tLoss: 0.465153\n",
            "Train Epoch: 2 [40320/60000 (67%)]\tLoss: 0.380934\n",
            "Train Epoch: 2 [40960/60000 (68%)]\tLoss: 0.239163\n",
            "Train Epoch: 2 [41600/60000 (69%)]\tLoss: 0.174905\n",
            "Train Epoch: 2 [42240/60000 (70%)]\tLoss: 0.233251\n",
            "Train Epoch: 2 [42880/60000 (71%)]\tLoss: 0.287001\n",
            "Train Epoch: 2 [43520/60000 (72%)]\tLoss: 0.242454\n",
            "Train Epoch: 2 [44160/60000 (74%)]\tLoss: 0.267328\n",
            "Train Epoch: 2 [44800/60000 (75%)]\tLoss: 0.511646\n",
            "Train Epoch: 2 [45440/60000 (76%)]\tLoss: 0.145318\n",
            "Train Epoch: 2 [46080/60000 (77%)]\tLoss: 0.217865\n",
            "Train Epoch: 2 [46720/60000 (78%)]\tLoss: 0.331573\n",
            "Train Epoch: 2 [47360/60000 (79%)]\tLoss: 0.259522\n",
            "Train Epoch: 2 [48000/60000 (80%)]\tLoss: 0.303220\n",
            "Train Epoch: 2 [48640/60000 (81%)]\tLoss: 0.235564\n",
            "Train Epoch: 2 [49280/60000 (82%)]\tLoss: 0.238323\n",
            "Train Epoch: 2 [49920/60000 (83%)]\tLoss: 0.485118\n",
            "Train Epoch: 2 [50560/60000 (84%)]\tLoss: 0.374062\n",
            "Train Epoch: 2 [51200/60000 (85%)]\tLoss: 0.351010\n",
            "Train Epoch: 2 [51840/60000 (86%)]\tLoss: 0.306266\n",
            "Train Epoch: 2 [52480/60000 (87%)]\tLoss: 0.266315\n",
            "Train Epoch: 2 [53120/60000 (88%)]\tLoss: 0.295326\n",
            "Train Epoch: 2 [53760/60000 (90%)]\tLoss: 0.251206\n",
            "Train Epoch: 2 [54400/60000 (91%)]\tLoss: 0.363358\n",
            "Train Epoch: 2 [55040/60000 (92%)]\tLoss: 0.175432\n",
            "Train Epoch: 2 [55680/60000 (93%)]\tLoss: 0.389100\n",
            "Train Epoch: 2 [56320/60000 (94%)]\tLoss: 0.577988\n",
            "Train Epoch: 2 [56960/60000 (95%)]\tLoss: 0.724120\n",
            "Train Epoch: 2 [57600/60000 (96%)]\tLoss: 0.262179\n",
            "Train Epoch: 2 [58240/60000 (97%)]\tLoss: 0.347867\n",
            "Train Epoch: 2 [58880/60000 (98%)]\tLoss: 0.279098\n",
            "Train Epoch: 2 [59520/60000 (99%)]\tLoss: 0.193459\n",
            "\n",
            "Test set: Avg. loss: 0.1246, Accuracy: 9611/10000 (96%)\n",
            "\n",
            "Train Epoch: 3 [0/60000 (0%)]\tLoss: 0.328187\n",
            "Train Epoch: 3 [640/60000 (1%)]\tLoss: 0.354185\n",
            "Train Epoch: 3 [1280/60000 (2%)]\tLoss: 0.466363\n",
            "Train Epoch: 3 [1920/60000 (3%)]\tLoss: 0.273887\n",
            "Train Epoch: 3 [2560/60000 (4%)]\tLoss: 0.125217\n",
            "Train Epoch: 3 [3200/60000 (5%)]\tLoss: 0.184869\n",
            "Train Epoch: 3 [3840/60000 (6%)]\tLoss: 0.208032\n",
            "Train Epoch: 3 [4480/60000 (7%)]\tLoss: 0.318684\n",
            "Train Epoch: 3 [5120/60000 (9%)]\tLoss: 0.076860\n",
            "Train Epoch: 3 [5760/60000 (10%)]\tLoss: 0.155791\n",
            "Train Epoch: 3 [6400/60000 (11%)]\tLoss: 0.349906\n",
            "Train Epoch: 3 [7040/60000 (12%)]\tLoss: 0.351111\n",
            "Train Epoch: 3 [7680/60000 (13%)]\tLoss: 0.189341\n",
            "Train Epoch: 3 [8320/60000 (14%)]\tLoss: 0.228096\n",
            "Train Epoch: 3 [8960/60000 (15%)]\tLoss: 0.662250\n",
            "Train Epoch: 3 [9600/60000 (16%)]\tLoss: 0.151703\n",
            "Train Epoch: 3 [10240/60000 (17%)]\tLoss: 0.594574\n",
            "Train Epoch: 3 [10880/60000 (18%)]\tLoss: 0.428700\n",
            "Train Epoch: 3 [11520/60000 (19%)]\tLoss: 0.340319\n",
            "Train Epoch: 3 [12160/60000 (20%)]\tLoss: 0.379805\n",
            "Train Epoch: 3 [12800/60000 (21%)]\tLoss: 0.328985\n",
            "Train Epoch: 3 [13440/60000 (22%)]\tLoss: 0.367797\n",
            "Train Epoch: 3 [14080/60000 (23%)]\tLoss: 0.366998\n",
            "Train Epoch: 3 [14720/60000 (25%)]\tLoss: 0.284131\n",
            "Train Epoch: 3 [15360/60000 (26%)]\tLoss: 0.405859\n",
            "Train Epoch: 3 [16000/60000 (27%)]\tLoss: 0.341902\n",
            "Train Epoch: 3 [16640/60000 (28%)]\tLoss: 0.364659\n",
            "Train Epoch: 3 [17280/60000 (29%)]\tLoss: 0.251495\n",
            "Train Epoch: 3 [17920/60000 (30%)]\tLoss: 0.156881\n",
            "Train Epoch: 3 [18560/60000 (31%)]\tLoss: 0.392245\n",
            "Train Epoch: 3 [19200/60000 (32%)]\tLoss: 0.252073\n",
            "Train Epoch: 3 [19840/60000 (33%)]\tLoss: 0.265950\n",
            "Train Epoch: 3 [20480/60000 (34%)]\tLoss: 0.307443\n",
            "Train Epoch: 3 [21120/60000 (35%)]\tLoss: 0.162882\n",
            "Train Epoch: 3 [21760/60000 (36%)]\tLoss: 0.202480\n",
            "Train Epoch: 3 [22400/60000 (37%)]\tLoss: 0.348244\n",
            "Train Epoch: 3 [23040/60000 (38%)]\tLoss: 0.225115\n",
            "Train Epoch: 3 [23680/60000 (39%)]\tLoss: 0.385801\n",
            "Train Epoch: 3 [24320/60000 (41%)]\tLoss: 0.136942\n",
            "Train Epoch: 3 [24960/60000 (42%)]\tLoss: 0.409147\n",
            "Train Epoch: 3 [25600/60000 (43%)]\tLoss: 0.318795\n",
            "Train Epoch: 3 [26240/60000 (44%)]\tLoss: 0.290943\n",
            "Train Epoch: 3 [26880/60000 (45%)]\tLoss: 0.239591\n",
            "Train Epoch: 3 [27520/60000 (46%)]\tLoss: 0.341930\n",
            "Train Epoch: 3 [28160/60000 (47%)]\tLoss: 0.519511\n",
            "Train Epoch: 3 [28800/60000 (48%)]\tLoss: 0.093406\n",
            "Train Epoch: 3 [29440/60000 (49%)]\tLoss: 0.234471\n",
            "Train Epoch: 3 [30080/60000 (50%)]\tLoss: 0.126394\n",
            "Train Epoch: 3 [30720/60000 (51%)]\tLoss: 0.147196\n",
            "Train Epoch: 3 [31360/60000 (52%)]\tLoss: 0.487782\n",
            "Train Epoch: 3 [32000/60000 (53%)]\tLoss: 0.277758\n",
            "Train Epoch: 3 [32640/60000 (54%)]\tLoss: 0.325510\n",
            "Train Epoch: 3 [33280/60000 (55%)]\tLoss: 0.299175\n",
            "Train Epoch: 3 [33920/60000 (57%)]\tLoss: 0.476906\n",
            "Train Epoch: 3 [34560/60000 (58%)]\tLoss: 0.239092\n",
            "Train Epoch: 3 [35200/60000 (59%)]\tLoss: 0.301999\n",
            "Train Epoch: 3 [35840/60000 (60%)]\tLoss: 0.408583\n",
            "Train Epoch: 3 [36480/60000 (61%)]\tLoss: 0.218607\n",
            "Train Epoch: 3 [37120/60000 (62%)]\tLoss: 0.212500\n",
            "Train Epoch: 3 [37760/60000 (63%)]\tLoss: 0.400941\n",
            "Train Epoch: 3 [38400/60000 (64%)]\tLoss: 0.407187\n",
            "Train Epoch: 3 [39040/60000 (65%)]\tLoss: 0.210484\n",
            "Train Epoch: 3 [39680/60000 (66%)]\tLoss: 0.166342\n",
            "Train Epoch: 3 [40320/60000 (67%)]\tLoss: 0.431582\n",
            "Train Epoch: 3 [40960/60000 (68%)]\tLoss: 0.465251\n",
            "Train Epoch: 3 [41600/60000 (69%)]\tLoss: 0.368309\n",
            "Train Epoch: 3 [42240/60000 (70%)]\tLoss: 0.206430\n",
            "Train Epoch: 3 [42880/60000 (71%)]\tLoss: 0.278642\n",
            "Train Epoch: 3 [43520/60000 (72%)]\tLoss: 0.124723\n"
          ],
          "name": "stdout"
        },
        {
          "output_type": "stream",
          "text": [
            "Train Epoch: 3 [44160/60000 (74%)]\tLoss: 0.404941\n",
            "Train Epoch: 3 [44800/60000 (75%)]\tLoss: 0.087258\n",
            "Train Epoch: 3 [45440/60000 (76%)]\tLoss: 0.267221\n",
            "Train Epoch: 3 [46080/60000 (77%)]\tLoss: 0.433854\n",
            "Train Epoch: 3 [46720/60000 (78%)]\tLoss: 0.241508\n",
            "Train Epoch: 3 [47360/60000 (79%)]\tLoss: 0.123521\n",
            "Train Epoch: 3 [48000/60000 (80%)]\tLoss: 0.248533\n",
            "Train Epoch: 3 [48640/60000 (81%)]\tLoss: 0.267234\n",
            "Train Epoch: 3 [49280/60000 (82%)]\tLoss: 0.181642\n",
            "Train Epoch: 3 [49920/60000 (83%)]\tLoss: 0.214379\n",
            "Train Epoch: 3 [50560/60000 (84%)]\tLoss: 0.278219\n",
            "Train Epoch: 3 [51200/60000 (85%)]\tLoss: 0.366293\n",
            "Train Epoch: 3 [51840/60000 (86%)]\tLoss: 0.455593\n",
            "Train Epoch: 3 [52480/60000 (87%)]\tLoss: 0.262464\n",
            "Train Epoch: 3 [53120/60000 (88%)]\tLoss: 0.518418\n",
            "Train Epoch: 3 [53760/60000 (90%)]\tLoss: 0.267575\n",
            "Train Epoch: 3 [54400/60000 (91%)]\tLoss: 0.325490\n",
            "Train Epoch: 3 [55040/60000 (92%)]\tLoss: 0.194737\n",
            "Train Epoch: 3 [55680/60000 (93%)]\tLoss: 0.144239\n",
            "Train Epoch: 3 [56320/60000 (94%)]\tLoss: 0.375613\n",
            "Train Epoch: 3 [56960/60000 (95%)]\tLoss: 0.204034\n",
            "Train Epoch: 3 [57600/60000 (96%)]\tLoss: 0.230062\n",
            "Train Epoch: 3 [58240/60000 (97%)]\tLoss: 0.294752\n",
            "Train Epoch: 3 [58880/60000 (98%)]\tLoss: 0.224603\n",
            "Train Epoch: 3 [59520/60000 (99%)]\tLoss: 0.286318\n",
            "\n",
            "Test set: Avg. loss: 0.1011, Accuracy: 9693/10000 (97%)\n",
            "\n",
            "Train Epoch: 4 [0/60000 (0%)]\tLoss: 0.177455\n",
            "Train Epoch: 4 [640/60000 (1%)]\tLoss: 0.281959\n",
            "Train Epoch: 4 [1280/60000 (2%)]\tLoss: 0.289486\n",
            "Train Epoch: 4 [1920/60000 (3%)]\tLoss: 0.250046\n",
            "Train Epoch: 4 [2560/60000 (4%)]\tLoss: 0.329237\n",
            "Train Epoch: 4 [3200/60000 (5%)]\tLoss: 0.146428\n",
            "Train Epoch: 4 [3840/60000 (6%)]\tLoss: 0.463893\n",
            "Train Epoch: 4 [4480/60000 (7%)]\tLoss: 0.162044\n",
            "Train Epoch: 4 [5120/60000 (9%)]\tLoss: 0.302846\n",
            "Train Epoch: 4 [5760/60000 (10%)]\tLoss: 0.270061\n",
            "Train Epoch: 4 [6400/60000 (11%)]\tLoss: 0.222045\n",
            "Train Epoch: 4 [7040/60000 (12%)]\tLoss: 0.424719\n",
            "Train Epoch: 4 [7680/60000 (13%)]\tLoss: 0.150930\n",
            "Train Epoch: 4 [8320/60000 (14%)]\tLoss: 0.072496\n",
            "Train Epoch: 4 [8960/60000 (15%)]\tLoss: 0.524776\n",
            "Train Epoch: 4 [9600/60000 (16%)]\tLoss: 0.300545\n",
            "Train Epoch: 4 [10240/60000 (17%)]\tLoss: 0.438672\n",
            "Train Epoch: 4 [10880/60000 (18%)]\tLoss: 0.380058\n",
            "Train Epoch: 4 [11520/60000 (19%)]\tLoss: 0.243346\n",
            "Train Epoch: 4 [12160/60000 (20%)]\tLoss: 0.398879\n",
            "Train Epoch: 4 [12800/60000 (21%)]\tLoss: 0.131279\n",
            "Train Epoch: 4 [13440/60000 (22%)]\tLoss: 0.282583\n",
            "Train Epoch: 4 [14080/60000 (23%)]\tLoss: 0.304498\n",
            "Train Epoch: 4 [14720/60000 (25%)]\tLoss: 0.323120\n",
            "Train Epoch: 4 [15360/60000 (26%)]\tLoss: 0.233922\n",
            "Train Epoch: 4 [16000/60000 (27%)]\tLoss: 0.235143\n",
            "Train Epoch: 4 [16640/60000 (28%)]\tLoss: 0.164429\n",
            "Train Epoch: 4 [17280/60000 (29%)]\tLoss: 0.317568\n",
            "Train Epoch: 4 [17920/60000 (30%)]\tLoss: 0.197345\n",
            "Train Epoch: 4 [18560/60000 (31%)]\tLoss: 0.245289\n",
            "Train Epoch: 4 [19200/60000 (32%)]\tLoss: 0.554430\n",
            "Train Epoch: 4 [19840/60000 (33%)]\tLoss: 0.597149\n",
            "Train Epoch: 4 [20480/60000 (34%)]\tLoss: 0.194305\n",
            "Train Epoch: 4 [21120/60000 (35%)]\tLoss: 0.207587\n",
            "Train Epoch: 4 [21760/60000 (36%)]\tLoss: 0.270067\n",
            "Train Epoch: 4 [22400/60000 (37%)]\tLoss: 0.372738\n",
            "Train Epoch: 4 [23040/60000 (38%)]\tLoss: 0.190561\n",
            "Train Epoch: 4 [23680/60000 (39%)]\tLoss: 0.147113\n",
            "Train Epoch: 4 [24320/60000 (41%)]\tLoss: 0.293855\n",
            "Train Epoch: 4 [24960/60000 (42%)]\tLoss: 0.141872\n",
            "Train Epoch: 4 [25600/60000 (43%)]\tLoss: 0.221991\n",
            "Train Epoch: 4 [26240/60000 (44%)]\tLoss: 0.386206\n",
            "Train Epoch: 4 [26880/60000 (45%)]\tLoss: 0.362246\n",
            "Train Epoch: 4 [27520/60000 (46%)]\tLoss: 0.592946\n",
            "Train Epoch: 4 [28160/60000 (47%)]\tLoss: 0.347937\n",
            "Train Epoch: 4 [28800/60000 (48%)]\tLoss: 0.388625\n",
            "Train Epoch: 4 [29440/60000 (49%)]\tLoss: 0.396997\n",
            "Train Epoch: 4 [30080/60000 (50%)]\tLoss: 0.613602\n",
            "Train Epoch: 4 [30720/60000 (51%)]\tLoss: 0.407200\n",
            "Train Epoch: 4 [31360/60000 (52%)]\tLoss: 0.164390\n",
            "Train Epoch: 4 [32000/60000 (53%)]\tLoss: 0.148123\n",
            "Train Epoch: 4 [32640/60000 (54%)]\tLoss: 0.142539\n",
            "Train Epoch: 4 [33280/60000 (55%)]\tLoss: 0.212582\n",
            "Train Epoch: 4 [33920/60000 (57%)]\tLoss: 0.411820\n",
            "Train Epoch: 4 [34560/60000 (58%)]\tLoss: 0.136657\n",
            "Train Epoch: 4 [35200/60000 (59%)]\tLoss: 0.161976\n",
            "Train Epoch: 4 [35840/60000 (60%)]\tLoss: 0.208119\n",
            "Train Epoch: 4 [36480/60000 (61%)]\tLoss: 0.345292\n",
            "Train Epoch: 4 [37120/60000 (62%)]\tLoss: 0.212208\n",
            "Train Epoch: 4 [37760/60000 (63%)]\tLoss: 0.326405\n",
            "Train Epoch: 4 [38400/60000 (64%)]\tLoss: 0.412542\n",
            "Train Epoch: 4 [39040/60000 (65%)]\tLoss: 0.184622\n",
            "Train Epoch: 4 [39680/60000 (66%)]\tLoss: 0.286394\n",
            "Train Epoch: 4 [40320/60000 (67%)]\tLoss: 0.239779\n",
            "Train Epoch: 4 [40960/60000 (68%)]\tLoss: 0.191971\n",
            "Train Epoch: 4 [41600/60000 (69%)]\tLoss: 0.250196\n",
            "Train Epoch: 4 [42240/60000 (70%)]\tLoss: 0.156325\n",
            "Train Epoch: 4 [42880/60000 (71%)]\tLoss: 0.136181\n",
            "Train Epoch: 4 [43520/60000 (72%)]\tLoss: 0.178610\n",
            "Train Epoch: 4 [44160/60000 (74%)]\tLoss: 0.316161\n",
            "Train Epoch: 4 [44800/60000 (75%)]\tLoss: 0.188143\n",
            "Train Epoch: 4 [45440/60000 (76%)]\tLoss: 0.515992\n",
            "Train Epoch: 4 [46080/60000 (77%)]\tLoss: 0.335701\n",
            "Train Epoch: 4 [46720/60000 (78%)]\tLoss: 0.155029\n",
            "Train Epoch: 4 [47360/60000 (79%)]\tLoss: 0.172484\n",
            "Train Epoch: 4 [48000/60000 (80%)]\tLoss: 0.324581\n",
            "Train Epoch: 4 [48640/60000 (81%)]\tLoss: 0.162636\n",
            "Train Epoch: 4 [49280/60000 (82%)]\tLoss: 0.486308\n",
            "Train Epoch: 4 [49920/60000 (83%)]\tLoss: 0.272877\n",
            "Train Epoch: 4 [50560/60000 (84%)]\tLoss: 0.259175\n",
            "Train Epoch: 4 [51200/60000 (85%)]\tLoss: 0.121481\n",
            "Train Epoch: 4 [51840/60000 (86%)]\tLoss: 0.192322\n",
            "Train Epoch: 4 [52480/60000 (87%)]\tLoss: 0.312494\n",
            "Train Epoch: 4 [53120/60000 (88%)]\tLoss: 0.184013\n",
            "Train Epoch: 4 [53760/60000 (90%)]\tLoss: 0.210719\n",
            "Train Epoch: 4 [54400/60000 (91%)]\tLoss: 0.351245\n",
            "Train Epoch: 4 [55040/60000 (92%)]\tLoss: 0.351495\n",
            "Train Epoch: 4 [55680/60000 (93%)]\tLoss: 0.157673\n",
            "Train Epoch: 4 [56320/60000 (94%)]\tLoss: 0.184819\n",
            "Train Epoch: 4 [56960/60000 (95%)]\tLoss: 0.238669\n",
            "Train Epoch: 4 [57600/60000 (96%)]\tLoss: 0.245823\n",
            "Train Epoch: 4 [58240/60000 (97%)]\tLoss: 0.401536\n",
            "Train Epoch: 4 [58880/60000 (98%)]\tLoss: 0.211654\n",
            "Train Epoch: 4 [59520/60000 (99%)]\tLoss: 0.202970\n",
            "\n",
            "Test set: Avg. loss: 0.0852, Accuracy: 9725/10000 (97%)\n",
            "\n",
            "Train Epoch: 5 [0/60000 (0%)]\tLoss: 0.303990\n",
            "Train Epoch: 5 [640/60000 (1%)]\tLoss: 0.267056\n",
            "Train Epoch: 5 [1280/60000 (2%)]\tLoss: 0.299772\n",
            "Train Epoch: 5 [1920/60000 (3%)]\tLoss: 0.342007\n",
            "Train Epoch: 5 [2560/60000 (4%)]\tLoss: 0.146602\n",
            "Train Epoch: 5 [3200/60000 (5%)]\tLoss: 0.255066\n",
            "Train Epoch: 5 [3840/60000 (6%)]\tLoss: 0.293902\n",
            "Train Epoch: 5 [4480/60000 (7%)]\tLoss: 0.272489\n",
            "Train Epoch: 5 [5120/60000 (9%)]\tLoss: 0.276769\n",
            "Train Epoch: 5 [5760/60000 (10%)]\tLoss: 0.094460\n",
            "Train Epoch: 5 [6400/60000 (11%)]\tLoss: 0.262826\n",
            "Train Epoch: 5 [7040/60000 (12%)]\tLoss: 0.180079\n",
            "Train Epoch: 5 [7680/60000 (13%)]\tLoss: 0.160136\n",
            "Train Epoch: 5 [8320/60000 (14%)]\tLoss: 0.220869\n",
            "Train Epoch: 5 [8960/60000 (15%)]\tLoss: 0.485617\n",
            "Train Epoch: 5 [9600/60000 (16%)]\tLoss: 0.227457\n",
            "Train Epoch: 5 [10240/60000 (17%)]\tLoss: 0.255052\n",
            "Train Epoch: 5 [10880/60000 (18%)]\tLoss: 0.288377\n",
            "Train Epoch: 5 [11520/60000 (19%)]\tLoss: 0.285182\n",
            "Train Epoch: 5 [12160/60000 (20%)]\tLoss: 0.499524\n",
            "Train Epoch: 5 [12800/60000 (21%)]\tLoss: 0.265676\n",
            "Train Epoch: 5 [13440/60000 (22%)]\tLoss: 0.195792\n",
            "Train Epoch: 5 [14080/60000 (23%)]\tLoss: 0.265297\n",
            "Train Epoch: 5 [14720/60000 (25%)]\tLoss: 0.078523\n",
            "Train Epoch: 5 [15360/60000 (26%)]\tLoss: 0.218684\n",
            "Train Epoch: 5 [16000/60000 (27%)]\tLoss: 0.298020\n",
            "Train Epoch: 5 [16640/60000 (28%)]\tLoss: 0.452861\n",
            "Train Epoch: 5 [17280/60000 (29%)]\tLoss: 0.164603\n",
            "Train Epoch: 5 [17920/60000 (30%)]\tLoss: 0.201604\n",
            "Train Epoch: 5 [18560/60000 (31%)]\tLoss: 0.223252\n",
            "Train Epoch: 5 [19200/60000 (32%)]\tLoss: 0.117418\n",
            "Train Epoch: 5 [19840/60000 (33%)]\tLoss: 0.145921\n",
            "Train Epoch: 5 [20480/60000 (34%)]\tLoss: 0.198732\n",
            "Train Epoch: 5 [21120/60000 (35%)]\tLoss: 0.229869\n",
            "Train Epoch: 5 [21760/60000 (36%)]\tLoss: 0.288209\n",
            "Train Epoch: 5 [22400/60000 (37%)]\tLoss: 0.192350\n",
            "Train Epoch: 5 [23040/60000 (38%)]\tLoss: 0.302767\n",
            "Train Epoch: 5 [23680/60000 (39%)]\tLoss: 0.236060\n",
            "Train Epoch: 5 [24320/60000 (41%)]\tLoss: 0.258340\n",
            "Train Epoch: 5 [24960/60000 (42%)]\tLoss: 0.128418\n",
            "Train Epoch: 5 [25600/60000 (43%)]\tLoss: 0.236163\n",
            "Train Epoch: 5 [26240/60000 (44%)]\tLoss: 0.337081\n",
            "Train Epoch: 5 [26880/60000 (45%)]\tLoss: 0.144897\n",
            "Train Epoch: 5 [27520/60000 (46%)]\tLoss: 0.089081\n"
          ],
          "name": "stdout"
        },
        {
          "output_type": "stream",
          "text": [
            "Train Epoch: 5 [28160/60000 (47%)]\tLoss: 0.150737\n",
            "Train Epoch: 5 [28800/60000 (48%)]\tLoss: 0.100284\n",
            "Train Epoch: 5 [29440/60000 (49%)]\tLoss: 0.310928\n",
            "Train Epoch: 5 [30080/60000 (50%)]\tLoss: 0.179671\n",
            "Train Epoch: 5 [30720/60000 (51%)]\tLoss: 0.270913\n",
            "Train Epoch: 5 [31360/60000 (52%)]\tLoss: 0.125127\n",
            "Train Epoch: 5 [32000/60000 (53%)]\tLoss: 0.291543\n",
            "Train Epoch: 5 [32640/60000 (54%)]\tLoss: 0.124498\n",
            "Train Epoch: 5 [33280/60000 (55%)]\tLoss: 0.242045\n",
            "Train Epoch: 5 [33920/60000 (57%)]\tLoss: 0.915052\n",
            "Train Epoch: 5 [34560/60000 (58%)]\tLoss: 0.313663\n",
            "Train Epoch: 5 [35200/60000 (59%)]\tLoss: 0.172465\n",
            "Train Epoch: 5 [35840/60000 (60%)]\tLoss: 0.220746\n",
            "Train Epoch: 5 [36480/60000 (61%)]\tLoss: 0.128189\n",
            "Train Epoch: 5 [37120/60000 (62%)]\tLoss: 0.196264\n",
            "Train Epoch: 5 [37760/60000 (63%)]\tLoss: 0.086316\n",
            "Train Epoch: 5 [38400/60000 (64%)]\tLoss: 0.193234\n",
            "Train Epoch: 5 [39040/60000 (65%)]\tLoss: 0.068352\n",
            "Train Epoch: 5 [39680/60000 (66%)]\tLoss: 0.241551\n",
            "Train Epoch: 5 [40320/60000 (67%)]\tLoss: 0.323948\n",
            "Train Epoch: 5 [40960/60000 (68%)]\tLoss: 0.093014\n",
            "Train Epoch: 5 [41600/60000 (69%)]\tLoss: 0.188021\n",
            "Train Epoch: 5 [42240/60000 (70%)]\tLoss: 0.140147\n",
            "Train Epoch: 5 [42880/60000 (71%)]\tLoss: 0.370798\n",
            "Train Epoch: 5 [43520/60000 (72%)]\tLoss: 0.175443\n",
            "Train Epoch: 5 [44160/60000 (74%)]\tLoss: 0.284926\n",
            "Train Epoch: 5 [44800/60000 (75%)]\tLoss: 0.399968\n",
            "Train Epoch: 5 [45440/60000 (76%)]\tLoss: 0.216951\n",
            "Train Epoch: 5 [46080/60000 (77%)]\tLoss: 0.229428\n",
            "Train Epoch: 5 [46720/60000 (78%)]\tLoss: 0.195066\n",
            "Train Epoch: 5 [47360/60000 (79%)]\tLoss: 0.133661\n",
            "Train Epoch: 5 [48000/60000 (80%)]\tLoss: 0.253157\n",
            "Train Epoch: 5 [48640/60000 (81%)]\tLoss: 0.242300\n",
            "Train Epoch: 5 [49280/60000 (82%)]\tLoss: 0.238802\n",
            "Train Epoch: 5 [49920/60000 (83%)]\tLoss: 0.220246\n",
            "Train Epoch: 5 [50560/60000 (84%)]\tLoss: 0.211930\n",
            "Train Epoch: 5 [51200/60000 (85%)]\tLoss: 0.277118\n",
            "Train Epoch: 5 [51840/60000 (86%)]\tLoss: 0.186426\n",
            "Train Epoch: 5 [52480/60000 (87%)]\tLoss: 0.174716\n",
            "Train Epoch: 5 [53120/60000 (88%)]\tLoss: 0.178291\n",
            "Train Epoch: 5 [53760/60000 (90%)]\tLoss: 0.292855\n",
            "Train Epoch: 5 [54400/60000 (91%)]\tLoss: 0.550129\n",
            "Train Epoch: 5 [55040/60000 (92%)]\tLoss: 0.214038\n",
            "Train Epoch: 5 [55680/60000 (93%)]\tLoss: 0.130449\n",
            "Train Epoch: 5 [56320/60000 (94%)]\tLoss: 0.509063\n",
            "Train Epoch: 5 [56960/60000 (95%)]\tLoss: 0.219551\n",
            "Train Epoch: 5 [57600/60000 (96%)]\tLoss: 0.437060\n",
            "Train Epoch: 5 [58240/60000 (97%)]\tLoss: 0.059947\n",
            "Train Epoch: 5 [58880/60000 (98%)]\tLoss: 0.457621\n",
            "Train Epoch: 5 [59520/60000 (99%)]\tLoss: 0.213215\n",
            "\n",
            "Test set: Avg. loss: 0.0750, Accuracy: 9760/10000 (98%)\n",
            "\n",
            "Training & Testing on CNN Model 2 - SGD as Optimizer & Dropout = 0.9\n",
            "Train Epoch: 1 [0/60000 (0%)]\tLoss: 2.381471\n"
          ],
          "name": "stdout"
        },
        {
          "output_type": "stream",
          "text": [
            "C:\\Users\\agarw\\AppData\\Roaming\\Python\\Python37\\site-packages\\ipykernel_launcher.py:56: UserWarning: Implicit dimension choice for log_softmax has been deprecated. Change the call to include dim=X as an argument.\n"
          ],
          "name": "stderr"
        },
        {
          "output_type": "stream",
          "text": [
            "Train Epoch: 1 [640/60000 (1%)]\tLoss: 2.344465\n",
            "Train Epoch: 1 [1280/60000 (2%)]\tLoss: 2.346409\n",
            "Train Epoch: 1 [1920/60000 (3%)]\tLoss: 2.273077\n",
            "Train Epoch: 1 [2560/60000 (4%)]\tLoss: 2.329205\n",
            "Train Epoch: 1 [3200/60000 (5%)]\tLoss: 2.254250\n",
            "Train Epoch: 1 [3840/60000 (6%)]\tLoss: 2.263475\n",
            "Train Epoch: 1 [4480/60000 (7%)]\tLoss: 2.263486\n",
            "Train Epoch: 1 [5120/60000 (9%)]\tLoss: 2.258866\n",
            "Train Epoch: 1 [5760/60000 (10%)]\tLoss: 2.222758\n",
            "Train Epoch: 1 [6400/60000 (11%)]\tLoss: 2.240734\n",
            "Train Epoch: 1 [7040/60000 (12%)]\tLoss: 2.240013\n",
            "Train Epoch: 1 [7680/60000 (13%)]\tLoss: 2.266492\n",
            "Train Epoch: 1 [8320/60000 (14%)]\tLoss: 2.242810\n",
            "Train Epoch: 1 [8960/60000 (15%)]\tLoss: 2.214152\n",
            "Train Epoch: 1 [9600/60000 (16%)]\tLoss: 2.165596\n",
            "Train Epoch: 1 [10240/60000 (17%)]\tLoss: 2.108884\n",
            "Train Epoch: 1 [10880/60000 (18%)]\tLoss: 2.169003\n",
            "Train Epoch: 1 [11520/60000 (19%)]\tLoss: 2.147803\n",
            "Train Epoch: 1 [12160/60000 (20%)]\tLoss: 2.122511\n",
            "Train Epoch: 1 [12800/60000 (21%)]\tLoss: 2.130161\n",
            "Train Epoch: 1 [13440/60000 (22%)]\tLoss: 1.923330\n",
            "Train Epoch: 1 [14080/60000 (23%)]\tLoss: 2.130138\n",
            "Train Epoch: 1 [14720/60000 (25%)]\tLoss: 2.143777\n",
            "Train Epoch: 1 [15360/60000 (26%)]\tLoss: 1.880233\n",
            "Train Epoch: 1 [16000/60000 (27%)]\tLoss: 2.003615\n",
            "Train Epoch: 1 [16640/60000 (28%)]\tLoss: 1.851403\n",
            "Train Epoch: 1 [17280/60000 (29%)]\tLoss: 1.828214\n",
            "Train Epoch: 1 [17920/60000 (30%)]\tLoss: 1.535100\n",
            "Train Epoch: 1 [18560/60000 (31%)]\tLoss: 1.744034\n",
            "Train Epoch: 1 [19200/60000 (32%)]\tLoss: 1.964160\n",
            "Train Epoch: 1 [19840/60000 (33%)]\tLoss: 1.744569\n",
            "Train Epoch: 1 [20480/60000 (34%)]\tLoss: 1.735082\n",
            "Train Epoch: 1 [21120/60000 (35%)]\tLoss: 1.689820\n",
            "Train Epoch: 1 [21760/60000 (36%)]\tLoss: 1.356433\n",
            "Train Epoch: 1 [22400/60000 (37%)]\tLoss: 1.579209\n",
            "Train Epoch: 1 [23040/60000 (38%)]\tLoss: 1.553740\n",
            "Train Epoch: 1 [23680/60000 (39%)]\tLoss: 1.559166\n",
            "Train Epoch: 1 [24320/60000 (41%)]\tLoss: 1.313390\n",
            "Train Epoch: 1 [24960/60000 (42%)]\tLoss: 1.607279\n",
            "Train Epoch: 1 [25600/60000 (43%)]\tLoss: 1.389973\n",
            "Train Epoch: 1 [26240/60000 (44%)]\tLoss: 1.362302\n",
            "Train Epoch: 1 [26880/60000 (45%)]\tLoss: 1.576835\n",
            "Train Epoch: 1 [27520/60000 (46%)]\tLoss: 1.411448\n",
            "Train Epoch: 1 [28160/60000 (47%)]\tLoss: 1.488796\n",
            "Train Epoch: 1 [28800/60000 (48%)]\tLoss: 1.660534\n",
            "Train Epoch: 1 [29440/60000 (49%)]\tLoss: 1.519986\n",
            "Train Epoch: 1 [30080/60000 (50%)]\tLoss: 1.277490\n",
            "Train Epoch: 1 [30720/60000 (51%)]\tLoss: 1.472448\n",
            "Train Epoch: 1 [31360/60000 (52%)]\tLoss: 1.312891\n",
            "Train Epoch: 1 [32000/60000 (53%)]\tLoss: 1.495867\n",
            "Train Epoch: 1 [32640/60000 (54%)]\tLoss: 1.394796\n",
            "Train Epoch: 1 [33280/60000 (55%)]\tLoss: 1.592963\n",
            "Train Epoch: 1 [33920/60000 (57%)]\tLoss: 1.499461\n",
            "Train Epoch: 1 [34560/60000 (58%)]\tLoss: 1.361798\n",
            "Train Epoch: 1 [35200/60000 (59%)]\tLoss: 1.324562\n",
            "Train Epoch: 1 [35840/60000 (60%)]\tLoss: 1.250875\n",
            "Train Epoch: 1 [36480/60000 (61%)]\tLoss: 1.127134\n",
            "Train Epoch: 1 [37120/60000 (62%)]\tLoss: 1.385514\n",
            "Train Epoch: 1 [37760/60000 (63%)]\tLoss: 1.668794\n",
            "Train Epoch: 1 [38400/60000 (64%)]\tLoss: 1.446767\n",
            "Train Epoch: 1 [39040/60000 (65%)]\tLoss: 1.672459\n",
            "Train Epoch: 1 [39680/60000 (66%)]\tLoss: 1.298732\n",
            "Train Epoch: 1 [40320/60000 (67%)]\tLoss: 1.228421\n",
            "Train Epoch: 1 [40960/60000 (68%)]\tLoss: 1.461879\n",
            "Train Epoch: 1 [41600/60000 (69%)]\tLoss: 1.287652\n",
            "Train Epoch: 1 [42240/60000 (70%)]\tLoss: 1.394649\n",
            "Train Epoch: 1 [42880/60000 (71%)]\tLoss: 1.315484\n",
            "Train Epoch: 1 [43520/60000 (72%)]\tLoss: 1.017871\n",
            "Train Epoch: 1 [44160/60000 (74%)]\tLoss: 1.407645\n",
            "Train Epoch: 1 [44800/60000 (75%)]\tLoss: 1.492136\n",
            "Train Epoch: 1 [45440/60000 (76%)]\tLoss: 1.265700\n",
            "Train Epoch: 1 [46080/60000 (77%)]\tLoss: 1.379234\n",
            "Train Epoch: 1 [46720/60000 (78%)]\tLoss: 1.133973\n",
            "Train Epoch: 1 [47360/60000 (79%)]\tLoss: 1.243584\n",
            "Train Epoch: 1 [48000/60000 (80%)]\tLoss: 1.191299\n",
            "Train Epoch: 1 [48640/60000 (81%)]\tLoss: 1.227939\n",
            "Train Epoch: 1 [49280/60000 (82%)]\tLoss: 1.369386\n",
            "Train Epoch: 1 [49920/60000 (83%)]\tLoss: 1.286848\n",
            "Train Epoch: 1 [50560/60000 (84%)]\tLoss: 1.437317\n",
            "Train Epoch: 1 [51200/60000 (85%)]\tLoss: 1.297141\n",
            "Train Epoch: 1 [51840/60000 (86%)]\tLoss: 1.666383\n",
            "Train Epoch: 1 [52480/60000 (87%)]\tLoss: 1.199757\n",
            "Train Epoch: 1 [53120/60000 (88%)]\tLoss: 1.029985\n",
            "Train Epoch: 1 [53760/60000 (90%)]\tLoss: 1.421355\n",
            "Train Epoch: 1 [54400/60000 (91%)]\tLoss: 1.241949\n",
            "Train Epoch: 1 [55040/60000 (92%)]\tLoss: 1.187258\n",
            "Train Epoch: 1 [55680/60000 (93%)]\tLoss: 1.234359\n",
            "Train Epoch: 1 [56320/60000 (94%)]\tLoss: 1.209095\n",
            "Train Epoch: 1 [56960/60000 (95%)]\tLoss: 1.223659\n",
            "Train Epoch: 1 [57600/60000 (96%)]\tLoss: 1.216782\n",
            "Train Epoch: 1 [58240/60000 (97%)]\tLoss: 1.308145\n",
            "Train Epoch: 1 [58880/60000 (98%)]\tLoss: 1.253123\n",
            "Train Epoch: 1 [59520/60000 (99%)]\tLoss: 1.523283\n",
            "\n",
            "Test set: Avg. loss: 0.5097, Accuracy: 9096/10000 (91%)\n",
            "\n",
            "Train Epoch: 2 [0/60000 (0%)]\tLoss: 1.259275\n",
            "Train Epoch: 2 [640/60000 (1%)]\tLoss: 1.105499\n",
            "Train Epoch: 2 [1280/60000 (2%)]\tLoss: 1.375443\n",
            "Train Epoch: 2 [1920/60000 (3%)]\tLoss: 1.269737\n",
            "Train Epoch: 2 [2560/60000 (4%)]\tLoss: 0.998187\n",
            "Train Epoch: 2 [3200/60000 (5%)]\tLoss: 1.027982\n",
            "Train Epoch: 2 [3840/60000 (6%)]\tLoss: 1.241723\n",
            "Train Epoch: 2 [4480/60000 (7%)]\tLoss: 1.385032\n",
            "Train Epoch: 2 [5120/60000 (9%)]\tLoss: 1.149205\n",
            "Train Epoch: 2 [5760/60000 (10%)]\tLoss: 1.107642\n",
            "Train Epoch: 2 [6400/60000 (11%)]\tLoss: 1.819900\n",
            "Train Epoch: 2 [7040/60000 (12%)]\tLoss: 0.999593\n",
            "Train Epoch: 2 [7680/60000 (13%)]\tLoss: 1.081657\n",
            "Train Epoch: 2 [8320/60000 (14%)]\tLoss: 1.301392\n",
            "Train Epoch: 2 [8960/60000 (15%)]\tLoss: 1.041664\n",
            "Train Epoch: 2 [9600/60000 (16%)]\tLoss: 0.989042\n",
            "Train Epoch: 2 [10240/60000 (17%)]\tLoss: 0.927129\n",
            "Train Epoch: 2 [10880/60000 (18%)]\tLoss: 1.100426\n",
            "Train Epoch: 2 [11520/60000 (19%)]\tLoss: 1.054949\n",
            "Train Epoch: 2 [12160/60000 (20%)]\tLoss: 0.887182\n",
            "Train Epoch: 2 [12800/60000 (21%)]\tLoss: 0.935440\n",
            "Train Epoch: 2 [13440/60000 (22%)]\tLoss: 0.905870\n",
            "Train Epoch: 2 [14080/60000 (23%)]\tLoss: 0.909789\n",
            "Train Epoch: 2 [14720/60000 (25%)]\tLoss: 1.026086\n",
            "Train Epoch: 2 [15360/60000 (26%)]\tLoss: 1.385094\n",
            "Train Epoch: 2 [16000/60000 (27%)]\tLoss: 1.093245\n",
            "Train Epoch: 2 [16640/60000 (28%)]\tLoss: 0.898084\n",
            "Train Epoch: 2 [17280/60000 (29%)]\tLoss: 0.903538\n",
            "Train Epoch: 2 [17920/60000 (30%)]\tLoss: 1.067858\n",
            "Train Epoch: 2 [18560/60000 (31%)]\tLoss: 0.912676\n",
            "Train Epoch: 2 [19200/60000 (32%)]\tLoss: 0.977834\n",
            "Train Epoch: 2 [19840/60000 (33%)]\tLoss: 1.061864\n",
            "Train Epoch: 2 [20480/60000 (34%)]\tLoss: 0.999031\n",
            "Train Epoch: 2 [21120/60000 (35%)]\tLoss: 1.200104\n",
            "Train Epoch: 2 [21760/60000 (36%)]\tLoss: 0.937676\n",
            "Train Epoch: 2 [22400/60000 (37%)]\tLoss: 0.870489\n",
            "Train Epoch: 2 [23040/60000 (38%)]\tLoss: 1.168151\n",
            "Train Epoch: 2 [23680/60000 (39%)]\tLoss: 1.172455\n",
            "Train Epoch: 2 [24320/60000 (41%)]\tLoss: 1.088268\n",
            "Train Epoch: 2 [24960/60000 (42%)]\tLoss: 1.243951\n",
            "Train Epoch: 2 [25600/60000 (43%)]\tLoss: 0.920695\n",
            "Train Epoch: 2 [26240/60000 (44%)]\tLoss: 1.032875\n",
            "Train Epoch: 2 [26880/60000 (45%)]\tLoss: 1.002878\n",
            "Train Epoch: 2 [27520/60000 (46%)]\tLoss: 1.088807\n",
            "Train Epoch: 2 [28160/60000 (47%)]\tLoss: 1.324039\n",
            "Train Epoch: 2 [28800/60000 (48%)]\tLoss: 0.831667\n",
            "Train Epoch: 2 [29440/60000 (49%)]\tLoss: 1.142015\n",
            "Train Epoch: 2 [30080/60000 (50%)]\tLoss: 1.168703\n",
            "Train Epoch: 2 [30720/60000 (51%)]\tLoss: 1.158458\n",
            "Train Epoch: 2 [31360/60000 (52%)]\tLoss: 0.905963\n",
            "Train Epoch: 2 [32000/60000 (53%)]\tLoss: 0.968062\n",
            "Train Epoch: 2 [32640/60000 (54%)]\tLoss: 1.047219\n",
            "Train Epoch: 2 [33280/60000 (55%)]\tLoss: 1.017315\n",
            "Train Epoch: 2 [33920/60000 (57%)]\tLoss: 1.185586\n",
            "Train Epoch: 2 [34560/60000 (58%)]\tLoss: 0.945377\n",
            "Train Epoch: 2 [35200/60000 (59%)]\tLoss: 0.846818\n",
            "Train Epoch: 2 [35840/60000 (60%)]\tLoss: 1.002633\n",
            "Train Epoch: 2 [36480/60000 (61%)]\tLoss: 1.004568\n",
            "Train Epoch: 2 [37120/60000 (62%)]\tLoss: 1.005914\n",
            "Train Epoch: 2 [37760/60000 (63%)]\tLoss: 1.039619\n",
            "Train Epoch: 2 [38400/60000 (64%)]\tLoss: 1.001230\n",
            "Train Epoch: 2 [39040/60000 (65%)]\tLoss: 1.056454\n",
            "Train Epoch: 2 [39680/60000 (66%)]\tLoss: 1.296010\n",
            "Train Epoch: 2 [40320/60000 (67%)]\tLoss: 0.996689\n",
            "Train Epoch: 2 [40960/60000 (68%)]\tLoss: 0.769681\n",
            "Train Epoch: 2 [41600/60000 (69%)]\tLoss: 0.853446\n",
            "Train Epoch: 2 [42240/60000 (70%)]\tLoss: 0.848166\n",
            "Train Epoch: 2 [42880/60000 (71%)]\tLoss: 1.031640\n",
            "Train Epoch: 2 [43520/60000 (72%)]\tLoss: 1.000227\n",
            "Train Epoch: 2 [44160/60000 (74%)]\tLoss: 0.962093\n",
            "Train Epoch: 2 [44800/60000 (75%)]\tLoss: 0.825340\n"
          ],
          "name": "stdout"
        },
        {
          "output_type": "stream",
          "text": [
            "Train Epoch: 2 [45440/60000 (76%)]\tLoss: 0.910605\n",
            "Train Epoch: 2 [46080/60000 (77%)]\tLoss: 0.846173\n",
            "Train Epoch: 2 [46720/60000 (78%)]\tLoss: 0.956355\n",
            "Train Epoch: 2 [47360/60000 (79%)]\tLoss: 1.052609\n",
            "Train Epoch: 2 [48000/60000 (80%)]\tLoss: 0.833843\n",
            "Train Epoch: 2 [48640/60000 (81%)]\tLoss: 1.126201\n",
            "Train Epoch: 2 [49280/60000 (82%)]\tLoss: 0.929563\n",
            "Train Epoch: 2 [49920/60000 (83%)]\tLoss: 0.813094\n",
            "Train Epoch: 2 [50560/60000 (84%)]\tLoss: 0.891126\n",
            "Train Epoch: 2 [51200/60000 (85%)]\tLoss: 1.195555\n",
            "Train Epoch: 2 [51840/60000 (86%)]\tLoss: 0.885515\n",
            "Train Epoch: 2 [52480/60000 (87%)]\tLoss: 0.851081\n",
            "Train Epoch: 2 [53120/60000 (88%)]\tLoss: 1.104273\n",
            "Train Epoch: 2 [53760/60000 (90%)]\tLoss: 1.124505\n",
            "Train Epoch: 2 [54400/60000 (91%)]\tLoss: 0.978125\n",
            "Train Epoch: 2 [55040/60000 (92%)]\tLoss: 0.846541\n",
            "Train Epoch: 2 [55680/60000 (93%)]\tLoss: 0.723836\n",
            "Train Epoch: 2 [56320/60000 (94%)]\tLoss: 1.104850\n",
            "Train Epoch: 2 [56960/60000 (95%)]\tLoss: 0.969532\n",
            "Train Epoch: 2 [57600/60000 (96%)]\tLoss: 0.852902\n",
            "Train Epoch: 2 [58240/60000 (97%)]\tLoss: 0.768810\n",
            "Train Epoch: 2 [58880/60000 (98%)]\tLoss: 0.899978\n",
            "Train Epoch: 2 [59520/60000 (99%)]\tLoss: 1.125433\n",
            "\n",
            "Test set: Avg. loss: 0.2688, Accuracy: 9380/10000 (94%)\n",
            "\n",
            "Train Epoch: 3 [0/60000 (0%)]\tLoss: 0.854394\n",
            "Train Epoch: 3 [640/60000 (1%)]\tLoss: 0.840892\n",
            "Train Epoch: 3 [1280/60000 (2%)]\tLoss: 0.847738\n",
            "Train Epoch: 3 [1920/60000 (3%)]\tLoss: 1.372840\n",
            "Train Epoch: 3 [2560/60000 (4%)]\tLoss: 0.949834\n",
            "Train Epoch: 3 [3200/60000 (5%)]\tLoss: 1.258336\n",
            "Train Epoch: 3 [3840/60000 (6%)]\tLoss: 0.810934\n",
            "Train Epoch: 3 [4480/60000 (7%)]\tLoss: 0.768795\n",
            "Train Epoch: 3 [5120/60000 (9%)]\tLoss: 0.779718\n",
            "Train Epoch: 3 [5760/60000 (10%)]\tLoss: 1.326766\n",
            "Train Epoch: 3 [6400/60000 (11%)]\tLoss: 0.832151\n",
            "Train Epoch: 3 [7040/60000 (12%)]\tLoss: 0.819461\n",
            "Train Epoch: 3 [7680/60000 (13%)]\tLoss: 0.752911\n",
            "Train Epoch: 3 [8320/60000 (14%)]\tLoss: 0.961654\n",
            "Train Epoch: 3 [8960/60000 (15%)]\tLoss: 0.900050\n",
            "Train Epoch: 3 [9600/60000 (16%)]\tLoss: 1.105793\n",
            "Train Epoch: 3 [10240/60000 (17%)]\tLoss: 1.059269\n",
            "Train Epoch: 3 [10880/60000 (18%)]\tLoss: 1.086478\n",
            "Train Epoch: 3 [11520/60000 (19%)]\tLoss: 1.395427\n",
            "Train Epoch: 3 [12160/60000 (20%)]\tLoss: 0.856465\n",
            "Train Epoch: 3 [12800/60000 (21%)]\tLoss: 1.138779\n",
            "Train Epoch: 3 [13440/60000 (22%)]\tLoss: 1.052140\n",
            "Train Epoch: 3 [14080/60000 (23%)]\tLoss: 0.810381\n",
            "Train Epoch: 3 [14720/60000 (25%)]\tLoss: 0.710775\n",
            "Train Epoch: 3 [15360/60000 (26%)]\tLoss: 1.015037\n",
            "Train Epoch: 3 [16000/60000 (27%)]\tLoss: 1.024466\n",
            "Train Epoch: 3 [16640/60000 (28%)]\tLoss: 1.167967\n",
            "Train Epoch: 3 [17280/60000 (29%)]\tLoss: 0.804534\n",
            "Train Epoch: 3 [17920/60000 (30%)]\tLoss: 1.036912\n",
            "Train Epoch: 3 [18560/60000 (31%)]\tLoss: 0.823340\n",
            "Train Epoch: 3 [19200/60000 (32%)]\tLoss: 0.763278\n",
            "Train Epoch: 3 [19840/60000 (33%)]\tLoss: 0.833762\n",
            "Train Epoch: 3 [20480/60000 (34%)]\tLoss: 0.871754\n",
            "Train Epoch: 3 [21120/60000 (35%)]\tLoss: 0.953342\n",
            "Train Epoch: 3 [21760/60000 (36%)]\tLoss: 0.870536\n",
            "Train Epoch: 3 [22400/60000 (37%)]\tLoss: 0.915381\n",
            "Train Epoch: 3 [23040/60000 (38%)]\tLoss: 0.718067\n",
            "Train Epoch: 3 [23680/60000 (39%)]\tLoss: 1.209779\n",
            "Train Epoch: 3 [24320/60000 (41%)]\tLoss: 0.927715\n",
            "Train Epoch: 3 [24960/60000 (42%)]\tLoss: 0.610846\n",
            "Train Epoch: 3 [25600/60000 (43%)]\tLoss: 0.836607\n",
            "Train Epoch: 3 [26240/60000 (44%)]\tLoss: 0.933905\n",
            "Train Epoch: 3 [26880/60000 (45%)]\tLoss: 0.892528\n",
            "Train Epoch: 3 [27520/60000 (46%)]\tLoss: 0.893222\n",
            "Train Epoch: 3 [28160/60000 (47%)]\tLoss: 1.134239\n",
            "Train Epoch: 3 [28800/60000 (48%)]\tLoss: 0.900586\n",
            "Train Epoch: 3 [29440/60000 (49%)]\tLoss: 0.862723\n",
            "Train Epoch: 3 [30080/60000 (50%)]\tLoss: 0.836766\n",
            "Train Epoch: 3 [30720/60000 (51%)]\tLoss: 0.984701\n",
            "Train Epoch: 3 [31360/60000 (52%)]\tLoss: 0.704588\n",
            "Train Epoch: 3 [32000/60000 (53%)]\tLoss: 0.829844\n",
            "Train Epoch: 3 [32640/60000 (54%)]\tLoss: 0.890493\n",
            "Train Epoch: 3 [33280/60000 (55%)]\tLoss: 0.972534\n",
            "Train Epoch: 3 [33920/60000 (57%)]\tLoss: 0.870385\n",
            "Train Epoch: 3 [34560/60000 (58%)]\tLoss: 0.821705\n",
            "Train Epoch: 3 [35200/60000 (59%)]\tLoss: 0.790913\n",
            "Train Epoch: 3 [35840/60000 (60%)]\tLoss: 0.830853\n",
            "Train Epoch: 3 [36480/60000 (61%)]\tLoss: 0.809887\n",
            "Train Epoch: 3 [37120/60000 (62%)]\tLoss: 1.011150\n",
            "Train Epoch: 3 [37760/60000 (63%)]\tLoss: 0.777025\n",
            "Train Epoch: 3 [38400/60000 (64%)]\tLoss: 1.142313\n",
            "Train Epoch: 3 [39040/60000 (65%)]\tLoss: 1.052699\n",
            "Train Epoch: 3 [39680/60000 (66%)]\tLoss: 0.874761\n",
            "Train Epoch: 3 [40320/60000 (67%)]\tLoss: 0.781114\n",
            "Train Epoch: 3 [40960/60000 (68%)]\tLoss: 0.822590\n",
            "Train Epoch: 3 [41600/60000 (69%)]\tLoss: 1.198040\n",
            "Train Epoch: 3 [42240/60000 (70%)]\tLoss: 0.860357\n",
            "Train Epoch: 3 [42880/60000 (71%)]\tLoss: 0.799414\n",
            "Train Epoch: 3 [43520/60000 (72%)]\tLoss: 0.776004\n",
            "Train Epoch: 3 [44160/60000 (74%)]\tLoss: 0.742290\n",
            "Train Epoch: 3 [44800/60000 (75%)]\tLoss: 0.879793\n",
            "Train Epoch: 3 [45440/60000 (76%)]\tLoss: 0.941654\n",
            "Train Epoch: 3 [46080/60000 (77%)]\tLoss: 0.687349\n",
            "Train Epoch: 3 [46720/60000 (78%)]\tLoss: 0.855562\n",
            "Train Epoch: 3 [47360/60000 (79%)]\tLoss: 0.861343\n",
            "Train Epoch: 3 [48000/60000 (80%)]\tLoss: 1.083266\n",
            "Train Epoch: 3 [48640/60000 (81%)]\tLoss: 1.006799\n",
            "Train Epoch: 3 [49280/60000 (82%)]\tLoss: 1.155979\n",
            "Train Epoch: 3 [49920/60000 (83%)]\tLoss: 0.848312\n",
            "Train Epoch: 3 [50560/60000 (84%)]\tLoss: 0.977626\n",
            "Train Epoch: 3 [51200/60000 (85%)]\tLoss: 1.052911\n",
            "Train Epoch: 3 [51840/60000 (86%)]\tLoss: 1.419487\n",
            "Train Epoch: 3 [52480/60000 (87%)]\tLoss: 0.589411\n",
            "Train Epoch: 3 [53120/60000 (88%)]\tLoss: 0.773635\n",
            "Train Epoch: 3 [53760/60000 (90%)]\tLoss: 0.941984\n",
            "Train Epoch: 3 [54400/60000 (91%)]\tLoss: 0.661978\n",
            "Train Epoch: 3 [55040/60000 (92%)]\tLoss: 0.981863\n",
            "Train Epoch: 3 [55680/60000 (93%)]\tLoss: 0.974732\n",
            "Train Epoch: 3 [56320/60000 (94%)]\tLoss: 0.792036\n",
            "Train Epoch: 3 [56960/60000 (95%)]\tLoss: 0.627723\n",
            "Train Epoch: 3 [57600/60000 (96%)]\tLoss: 0.746130\n",
            "Train Epoch: 3 [58240/60000 (97%)]\tLoss: 1.081460\n",
            "Train Epoch: 3 [58880/60000 (98%)]\tLoss: 0.890400\n",
            "Train Epoch: 3 [59520/60000 (99%)]\tLoss: 0.818722\n",
            "\n",
            "Test set: Avg. loss: 0.2229, Accuracy: 9456/10000 (95%)\n",
            "\n",
            "Train Epoch: 4 [0/60000 (0%)]\tLoss: 1.010931\n",
            "Train Epoch: 4 [640/60000 (1%)]\tLoss: 0.833803\n",
            "Train Epoch: 4 [1280/60000 (2%)]\tLoss: 1.092224\n",
            "Train Epoch: 4 [1920/60000 (3%)]\tLoss: 1.209134\n",
            "Train Epoch: 4 [2560/60000 (4%)]\tLoss: 0.867639\n",
            "Train Epoch: 4 [3200/60000 (5%)]\tLoss: 1.051086\n",
            "Train Epoch: 4 [3840/60000 (6%)]\tLoss: 0.810803\n",
            "Train Epoch: 4 [4480/60000 (7%)]\tLoss: 1.111734\n",
            "Train Epoch: 4 [5120/60000 (9%)]\tLoss: 0.709059\n",
            "Train Epoch: 4 [5760/60000 (10%)]\tLoss: 0.701671\n",
            "Train Epoch: 4 [6400/60000 (11%)]\tLoss: 0.792309\n",
            "Train Epoch: 4 [7040/60000 (12%)]\tLoss: 0.735376\n",
            "Train Epoch: 4 [7680/60000 (13%)]\tLoss: 0.645071\n",
            "Train Epoch: 4 [8320/60000 (14%)]\tLoss: 0.826199\n",
            "Train Epoch: 4 [8960/60000 (15%)]\tLoss: 1.019536\n",
            "Train Epoch: 4 [9600/60000 (16%)]\tLoss: 0.675761\n",
            "Train Epoch: 4 [10240/60000 (17%)]\tLoss: 1.027442\n",
            "Train Epoch: 4 [10880/60000 (18%)]\tLoss: 0.673217\n",
            "Train Epoch: 4 [11520/60000 (19%)]\tLoss: 0.583973\n",
            "Train Epoch: 4 [12160/60000 (20%)]\tLoss: 0.651977\n",
            "Train Epoch: 4 [12800/60000 (21%)]\tLoss: 0.911643\n",
            "Train Epoch: 4 [13440/60000 (22%)]\tLoss: 0.720454\n",
            "Train Epoch: 4 [14080/60000 (23%)]\tLoss: 0.671820\n",
            "Train Epoch: 4 [14720/60000 (25%)]\tLoss: 0.972637\n",
            "Train Epoch: 4 [15360/60000 (26%)]\tLoss: 1.069995\n",
            "Train Epoch: 4 [16000/60000 (27%)]\tLoss: 0.891449\n",
            "Train Epoch: 4 [16640/60000 (28%)]\tLoss: 0.870130\n",
            "Train Epoch: 4 [17280/60000 (29%)]\tLoss: 1.137498\n",
            "Train Epoch: 4 [17920/60000 (30%)]\tLoss: 0.787550\n",
            "Train Epoch: 4 [18560/60000 (31%)]\tLoss: 1.102335\n",
            "Train Epoch: 4 [19200/60000 (32%)]\tLoss: 0.775797\n",
            "Train Epoch: 4 [19840/60000 (33%)]\tLoss: 0.780042\n",
            "Train Epoch: 4 [20480/60000 (34%)]\tLoss: 0.656060\n",
            "Train Epoch: 4 [21120/60000 (35%)]\tLoss: 0.985354\n",
            "Train Epoch: 4 [21760/60000 (36%)]\tLoss: 0.738965\n",
            "Train Epoch: 4 [22400/60000 (37%)]\tLoss: 0.858796\n",
            "Train Epoch: 4 [23040/60000 (38%)]\tLoss: 0.721742\n",
            "Train Epoch: 4 [23680/60000 (39%)]\tLoss: 0.888921\n",
            "Train Epoch: 4 [24320/60000 (41%)]\tLoss: 0.740185\n",
            "Train Epoch: 4 [24960/60000 (42%)]\tLoss: 0.615835\n",
            "Train Epoch: 4 [25600/60000 (43%)]\tLoss: 0.893174\n",
            "Train Epoch: 4 [26240/60000 (44%)]\tLoss: 0.658368\n",
            "Train Epoch: 4 [26880/60000 (45%)]\tLoss: 0.653776\n",
            "Train Epoch: 4 [27520/60000 (46%)]\tLoss: 0.719020\n",
            "Train Epoch: 4 [28160/60000 (47%)]\tLoss: 0.620898\n",
            "Train Epoch: 4 [28800/60000 (48%)]\tLoss: 0.724372\n"
          ],
          "name": "stdout"
        },
        {
          "output_type": "stream",
          "text": [
            "Train Epoch: 4 [29440/60000 (49%)]\tLoss: 1.010093\n",
            "Train Epoch: 4 [30080/60000 (50%)]\tLoss: 0.944981\n",
            "Train Epoch: 4 [30720/60000 (51%)]\tLoss: 0.890001\n",
            "Train Epoch: 4 [31360/60000 (52%)]\tLoss: 0.862270\n",
            "Train Epoch: 4 [32000/60000 (53%)]\tLoss: 0.878573\n",
            "Train Epoch: 4 [32640/60000 (54%)]\tLoss: 0.579370\n",
            "Train Epoch: 4 [33280/60000 (55%)]\tLoss: 0.837413\n",
            "Train Epoch: 4 [33920/60000 (57%)]\tLoss: 0.739731\n",
            "Train Epoch: 4 [34560/60000 (58%)]\tLoss: 1.042060\n",
            "Train Epoch: 4 [35200/60000 (59%)]\tLoss: 0.630591\n",
            "Train Epoch: 4 [35840/60000 (60%)]\tLoss: 1.001281\n",
            "Train Epoch: 4 [36480/60000 (61%)]\tLoss: 0.924714\n",
            "Train Epoch: 4 [37120/60000 (62%)]\tLoss: 0.972424\n",
            "Train Epoch: 4 [37760/60000 (63%)]\tLoss: 0.782045\n",
            "Train Epoch: 4 [38400/60000 (64%)]\tLoss: 0.837844\n",
            "Train Epoch: 4 [39040/60000 (65%)]\tLoss: 0.860831\n",
            "Train Epoch: 4 [39680/60000 (66%)]\tLoss: 0.818228\n",
            "Train Epoch: 4 [40320/60000 (67%)]\tLoss: 0.849206\n",
            "Train Epoch: 4 [40960/60000 (68%)]\tLoss: 1.076013\n",
            "Train Epoch: 4 [41600/60000 (69%)]\tLoss: 0.989999\n",
            "Train Epoch: 4 [42240/60000 (70%)]\tLoss: 0.900768\n",
            "Train Epoch: 4 [42880/60000 (71%)]\tLoss: 0.796110\n",
            "Train Epoch: 4 [43520/60000 (72%)]\tLoss: 0.979664\n",
            "Train Epoch: 4 [44160/60000 (74%)]\tLoss: 1.022893\n",
            "Train Epoch: 4 [44800/60000 (75%)]\tLoss: 0.921364\n",
            "Train Epoch: 4 [45440/60000 (76%)]\tLoss: 1.083457\n",
            "Train Epoch: 4 [46080/60000 (77%)]\tLoss: 0.914493\n",
            "Train Epoch: 4 [46720/60000 (78%)]\tLoss: 1.027882\n",
            "Train Epoch: 4 [47360/60000 (79%)]\tLoss: 0.955198\n",
            "Train Epoch: 4 [48000/60000 (80%)]\tLoss: 1.097321\n",
            "Train Epoch: 4 [48640/60000 (81%)]\tLoss: 0.643489\n",
            "Train Epoch: 4 [49280/60000 (82%)]\tLoss: 0.996491\n",
            "Train Epoch: 4 [49920/60000 (83%)]\tLoss: 1.160111\n",
            "Train Epoch: 4 [50560/60000 (84%)]\tLoss: 0.624446\n",
            "Train Epoch: 4 [51200/60000 (85%)]\tLoss: 0.988177\n",
            "Train Epoch: 4 [51840/60000 (86%)]\tLoss: 0.543381\n",
            "Train Epoch: 4 [52480/60000 (87%)]\tLoss: 0.826190\n",
            "Train Epoch: 4 [53120/60000 (88%)]\tLoss: 0.893269\n",
            "Train Epoch: 4 [53760/60000 (90%)]\tLoss: 0.689221\n",
            "Train Epoch: 4 [54400/60000 (91%)]\tLoss: 0.964920\n",
            "Train Epoch: 4 [55040/60000 (92%)]\tLoss: 0.544254\n",
            "Train Epoch: 4 [55680/60000 (93%)]\tLoss: 0.819306\n",
            "Train Epoch: 4 [56320/60000 (94%)]\tLoss: 0.668389\n",
            "Train Epoch: 4 [56960/60000 (95%)]\tLoss: 0.718125\n",
            "Train Epoch: 4 [57600/60000 (96%)]\tLoss: 0.667326\n",
            "Train Epoch: 4 [58240/60000 (97%)]\tLoss: 1.052995\n",
            "Train Epoch: 4 [58880/60000 (98%)]\tLoss: 0.928603\n",
            "Train Epoch: 4 [59520/60000 (99%)]\tLoss: 1.183205\n",
            "\n",
            "Test set: Avg. loss: 0.1772, Accuracy: 9512/10000 (95%)\n",
            "\n",
            "Train Epoch: 5 [0/60000 (0%)]\tLoss: 0.777420\n",
            "Train Epoch: 5 [640/60000 (1%)]\tLoss: 0.718390\n",
            "Train Epoch: 5 [1280/60000 (2%)]\tLoss: 0.591367\n",
            "Train Epoch: 5 [1920/60000 (3%)]\tLoss: 0.702852\n",
            "Train Epoch: 5 [2560/60000 (4%)]\tLoss: 0.596198\n",
            "Train Epoch: 5 [3200/60000 (5%)]\tLoss: 0.729369\n",
            "Train Epoch: 5 [3840/60000 (6%)]\tLoss: 0.644853\n",
            "Train Epoch: 5 [4480/60000 (7%)]\tLoss: 0.763995\n",
            "Train Epoch: 5 [5120/60000 (9%)]\tLoss: 0.811753\n",
            "Train Epoch: 5 [5760/60000 (10%)]\tLoss: 1.010199\n",
            "Train Epoch: 5 [6400/60000 (11%)]\tLoss: 0.889670\n",
            "Train Epoch: 5 [7040/60000 (12%)]\tLoss: 0.870434\n",
            "Train Epoch: 5 [7680/60000 (13%)]\tLoss: 0.696271\n",
            "Train Epoch: 5 [8320/60000 (14%)]\tLoss: 0.742267\n",
            "Train Epoch: 5 [8960/60000 (15%)]\tLoss: 0.494704\n",
            "Train Epoch: 5 [9600/60000 (16%)]\tLoss: 0.692614\n",
            "Train Epoch: 5 [10240/60000 (17%)]\tLoss: 0.720428\n",
            "Train Epoch: 5 [10880/60000 (18%)]\tLoss: 0.803563\n",
            "Train Epoch: 5 [11520/60000 (19%)]\tLoss: 0.600864\n",
            "Train Epoch: 5 [12160/60000 (20%)]\tLoss: 0.586157\n",
            "Train Epoch: 5 [12800/60000 (21%)]\tLoss: 0.844416\n",
            "Train Epoch: 5 [13440/60000 (22%)]\tLoss: 0.775237\n",
            "Train Epoch: 5 [14080/60000 (23%)]\tLoss: 0.830264\n",
            "Train Epoch: 5 [14720/60000 (25%)]\tLoss: 0.799613\n",
            "Train Epoch: 5 [15360/60000 (26%)]\tLoss: 0.846144\n",
            "Train Epoch: 5 [16000/60000 (27%)]\tLoss: 0.696081\n",
            "Train Epoch: 5 [16640/60000 (28%)]\tLoss: 0.544981\n",
            "Train Epoch: 5 [17280/60000 (29%)]\tLoss: 0.780797\n",
            "Train Epoch: 5 [17920/60000 (30%)]\tLoss: 0.642216\n",
            "Train Epoch: 5 [18560/60000 (31%)]\tLoss: 0.625890\n",
            "Train Epoch: 5 [19200/60000 (32%)]\tLoss: 1.048386\n",
            "Train Epoch: 5 [19840/60000 (33%)]\tLoss: 0.668571\n",
            "Train Epoch: 5 [20480/60000 (34%)]\tLoss: 0.832359\n",
            "Train Epoch: 5 [21120/60000 (35%)]\tLoss: 0.811921\n",
            "Train Epoch: 5 [21760/60000 (36%)]\tLoss: 0.593176\n",
            "Train Epoch: 5 [22400/60000 (37%)]\tLoss: 0.686811\n",
            "Train Epoch: 5 [23040/60000 (38%)]\tLoss: 0.921917\n",
            "Train Epoch: 5 [23680/60000 (39%)]\tLoss: 0.833947\n",
            "Train Epoch: 5 [24320/60000 (41%)]\tLoss: 0.952020\n",
            "Train Epoch: 5 [24960/60000 (42%)]\tLoss: 0.746570\n",
            "Train Epoch: 5 [25600/60000 (43%)]\tLoss: 0.829632\n",
            "Train Epoch: 5 [26240/60000 (44%)]\tLoss: 0.736528\n",
            "Train Epoch: 5 [26880/60000 (45%)]\tLoss: 0.642904\n",
            "Train Epoch: 5 [27520/60000 (46%)]\tLoss: 0.688553\n",
            "Train Epoch: 5 [28160/60000 (47%)]\tLoss: 0.625575\n",
            "Train Epoch: 5 [28800/60000 (48%)]\tLoss: 0.831566\n",
            "Train Epoch: 5 [29440/60000 (49%)]\tLoss: 0.404569\n",
            "Train Epoch: 5 [30080/60000 (50%)]\tLoss: 0.805930\n",
            "Train Epoch: 5 [30720/60000 (51%)]\tLoss: 0.927528\n",
            "Train Epoch: 5 [31360/60000 (52%)]\tLoss: 0.532182\n",
            "Train Epoch: 5 [32000/60000 (53%)]\tLoss: 0.611092\n",
            "Train Epoch: 5 [32640/60000 (54%)]\tLoss: 1.026030\n",
            "Train Epoch: 5 [33280/60000 (55%)]\tLoss: 0.625092\n",
            "Train Epoch: 5 [33920/60000 (57%)]\tLoss: 0.786906\n",
            "Train Epoch: 5 [34560/60000 (58%)]\tLoss: 0.572856\n",
            "Train Epoch: 5 [35200/60000 (59%)]\tLoss: 0.753643\n",
            "Train Epoch: 5 [35840/60000 (60%)]\tLoss: 0.719476\n",
            "Train Epoch: 5 [36480/60000 (61%)]\tLoss: 1.004532\n",
            "Train Epoch: 5 [37120/60000 (62%)]\tLoss: 0.815085\n",
            "Train Epoch: 5 [37760/60000 (63%)]\tLoss: 0.827553\n",
            "Train Epoch: 5 [38400/60000 (64%)]\tLoss: 0.803693\n",
            "Train Epoch: 5 [39040/60000 (65%)]\tLoss: 0.651858\n",
            "Train Epoch: 5 [39680/60000 (66%)]\tLoss: 0.623559\n",
            "Train Epoch: 5 [40320/60000 (67%)]\tLoss: 1.015476\n",
            "Train Epoch: 5 [40960/60000 (68%)]\tLoss: 0.616720\n",
            "Train Epoch: 5 [41600/60000 (69%)]\tLoss: 0.764135\n",
            "Train Epoch: 5 [42240/60000 (70%)]\tLoss: 0.850877\n",
            "Train Epoch: 5 [42880/60000 (71%)]\tLoss: 0.714359\n",
            "Train Epoch: 5 [43520/60000 (72%)]\tLoss: 1.051563\n",
            "Train Epoch: 5 [44160/60000 (74%)]\tLoss: 0.803543\n",
            "Train Epoch: 5 [44800/60000 (75%)]\tLoss: 0.635653\n",
            "Train Epoch: 5 [45440/60000 (76%)]\tLoss: 1.082853\n",
            "Train Epoch: 5 [46080/60000 (77%)]\tLoss: 0.884999\n",
            "Train Epoch: 5 [46720/60000 (78%)]\tLoss: 0.851766\n",
            "Train Epoch: 5 [47360/60000 (79%)]\tLoss: 1.078342\n",
            "Train Epoch: 5 [48000/60000 (80%)]\tLoss: 0.862042\n",
            "Train Epoch: 5 [48640/60000 (81%)]\tLoss: 1.164070\n",
            "Train Epoch: 5 [49280/60000 (82%)]\tLoss: 0.787017\n",
            "Train Epoch: 5 [49920/60000 (83%)]\tLoss: 0.778604\n",
            "Train Epoch: 5 [50560/60000 (84%)]\tLoss: 0.716035\n",
            "Train Epoch: 5 [51200/60000 (85%)]\tLoss: 0.837921\n",
            "Train Epoch: 5 [51840/60000 (86%)]\tLoss: 0.905942\n",
            "Train Epoch: 5 [52480/60000 (87%)]\tLoss: 0.701074\n",
            "Train Epoch: 5 [53120/60000 (88%)]\tLoss: 0.959608\n",
            "Train Epoch: 5 [53760/60000 (90%)]\tLoss: 0.634286\n",
            "Train Epoch: 5 [54400/60000 (91%)]\tLoss: 0.721726\n",
            "Train Epoch: 5 [55040/60000 (92%)]\tLoss: 0.847017\n",
            "Train Epoch: 5 [55680/60000 (93%)]\tLoss: 0.749319\n",
            "Train Epoch: 5 [56320/60000 (94%)]\tLoss: 0.857072\n",
            "Train Epoch: 5 [56960/60000 (95%)]\tLoss: 0.820715\n",
            "Train Epoch: 5 [57600/60000 (96%)]\tLoss: 0.768490\n",
            "Train Epoch: 5 [58240/60000 (97%)]\tLoss: 0.819836\n",
            "Train Epoch: 5 [58880/60000 (98%)]\tLoss: 0.760722\n",
            "Train Epoch: 5 [59520/60000 (99%)]\tLoss: 0.803744\n",
            "\n",
            "Test set: Avg. loss: 0.1825, Accuracy: 9569/10000 (96%)\n",
            "\n"
          ],
          "name": "stdout"
        }
      ]
    },
    {
      "cell_type": "markdown",
      "metadata": {
        "id": "HwlRX2Ckc7Ll",
        "colab_type": "text"
      },
      "source": [
        "### 2.3.5: Evaluation\n",
        "\n",
        "  * Loss curves: Epoch vs loss\n",
        "  * Accuracy curves: Epoch vs accuracy over val/test set\n",
        "  * Final accuracy numbers"
      ]
    },
    {
      "cell_type": "code",
      "metadata": {
        "id": "QGx5KIlWc7Lm",
        "colab_type": "code",
        "outputId": "19c2ee26-3b59-4485-b9f7-2e63531ce8ef",
        "colab": {}
      },
      "source": [
        "plt.plot(train_counter_1, train_losses_1, color='blue')\n",
        "plt.plot(test_counter_1, test_losses_1, color='red')\n",
        "plt.legend(['Loss Per Epoch - Optimizer 1 (Adam), Dropout = 0.1 ', 'Test Loss'], loc='upper right')\n",
        "plt.xlabel('#Training Data Processed')\n",
        "plt.ylabel('CrossEntropy Loss')\n",
        "plt.show()\n",
        "\n",
        "plt.plot(train_counter_2, train_losses_2, color='blue')\n",
        "plt.plot(test_counter_2, test_losses_2, color='red')\n",
        "plt.legend(['Loss Per Epoch - Optimizer 2 (SGD), Dropout = 0.5 ', 'Test Loss'], loc='upper right')\n",
        "plt.xlabel('#Training Data Processed')\n",
        "plt.ylabel('Negative Log Likelihood Loss')\n",
        "plt.show()\n",
        "\n",
        "plt.plot(train_counter_3, train_losses_3, color='blue')\n",
        "plt.plot(test_counter_3, test_losses_3, color='red')\n",
        "plt.legend(['Loss Per Epoch - Optimizer 2 (SGD), Dropout = 0.9 ', 'Test Loss'], loc='upper right')\n",
        "plt.xlabel('#Training Data Processed')\n",
        "plt.ylabel('Negative Log Likelihood Loss')\n",
        "plt.show()"
      ],
      "execution_count": 0,
      "outputs": [
        {
          "output_type": "display_data",
          "data": {
            "image/png": "[encoded data removed]",
            "text/plain": [
              "<Figure size 432x288 with 1 Axes>"
            ]
          },
          "metadata": {
            "tags": [],
            "needs_background": "light"
          }
        },
        {
          "output_type": "display_data",
          "data": {
            "image/png": "[encoded data removed]",
            "text/plain": [
              "<Figure size 432x288 with 1 Axes>"
            ]
          },
          "metadata": {
            "tags": [],
            "needs_background": "light"
          }
        },
        {
          "output_type": "display_data",
          "data": {
            "image/png": "[encoded data removed]",
            "text/plain": [
              "<Figure size 432x288 with 1 Axes>"
            ]
          },
          "metadata": {
            "tags": [],
            "needs_background": "light"
          }
        }
      ]
    },
    {
      "cell_type": "code",
      "metadata": {
        "id": "0Nxc_RLnc7Ln",
        "colab_type": "code",
        "outputId": "534c4ea2-fee4-4eb9-b99f-27de4b3e412a",
        "colab": {}
      },
      "source": [
        "for index in range(0, len(test_accuracy_1)):\n",
        "    test_accuracy_1[index] = test_accuracy_1[index].item() / 100.0\n",
        "plot_scores([1,2,3,4,5], test_accuracy_1, title=\"CNN - Optimizer 1 (Adam)\", x_label='#Epochs', y_label='Accuracy')\n",
        "\n",
        "for index in range(0, len(test_accuracy_2)):\n",
        "    test_accuracy_2[index] = test_accuracy_2[index].item() / 100.0\n",
        "plot_scores([1,2,3,4,5], test_accuracy_2, title=\"CNN - Optimizer 2 (SGD)\", x_label='#Epochs', y_label='Accuracy')\n",
        "\n",
        "for index in range(0, len(test_accuracy_3)):\n",
        "    test_accuracy_3[index] = test_accuracy_3[index].item() / 100.0\n",
        "plot_scores([1,2,3,4,5], test_accuracy_3, title=\"CNN - Optimizer 2 (SGD)\", x_label='#Epochs', y_label='Accuracy')\n",
        "    \n",
        "with torch.no_grad():\n",
        "    output_1 = network_1(x_eval)\n",
        "\n",
        "fig_1 = plt.figure()\n",
        "for i in range(9):\n",
        "    plt.subplot(3,3,i+1)\n",
        "    plt.tight_layout()\n",
        "    plt.imshow(x_eval[i][0], cmap='gray', interpolation='none')\n",
        "    plt.title(\"Prediction: {}\".format(output_1.data.max(1, keepdim=True)[1][i].item()))\n",
        "    plt.xticks([])\n",
        "    plt.yticks([])\n",
        "    \n",
        "with torch.no_grad():\n",
        "    output_2 = network_2(x_eval)\n",
        "\n",
        "fig_2 = plt.figure()\n",
        "for i in range(9):\n",
        "    plt.subplot(3,3,i+1)\n",
        "    plt.tight_layout()\n",
        "    plt.imshow(x_eval[i][0], cmap='gray', interpolation='none')\n",
        "    plt.title(\"Prediction: {}\".format(output_2.data.max(1, keepdim=True)[1][i].item()))\n",
        "    plt.xticks([])\n",
        "    plt.yticks([])\n",
        "    \n",
        "with torch.no_grad():\n",
        "    output_3 = network_3(x_eval)\n",
        "\n",
        "fig_3 = plt.figure()\n",
        "for i in range(9):\n",
        "    plt.subplot(3,3,i+1)\n",
        "    plt.tight_layout()\n",
        "    plt.imshow(x_eval[i][0], cmap='gray', interpolation='none')\n",
        "    plt.title(\"Prediction: {}\".format(output_3.data.max(1, keepdim=True)[1][i].item()))\n",
        "    plt.xticks([])\n",
        "    plt.yticks([])"
      ],
      "execution_count": 0,
      "outputs": [
        {
          "output_type": "stream",
          "text": [
            "C:\\Users\\agarw\\AppData\\Roaming\\Python\\Python37\\site-packages\\ipykernel_launcher.py:18: UserWarning: Implicit dimension choice for log_softmax has been deprecated. Change the call to include dim=X as an argument.\n",
            "C:\\Users\\agarw\\AppData\\Roaming\\Python\\Python37\\site-packages\\ipykernel_launcher.py:37: UserWarning: Implicit dimension choice for log_softmax has been deprecated. Change the call to include dim=X as an argument.\n",
            "C:\\Users\\agarw\\AppData\\Roaming\\Python\\Python37\\site-packages\\ipykernel_launcher.py:56: UserWarning: Implicit dimension choice for log_softmax has been deprecated. Change the call to include dim=X as an argument.\n"
          ],
          "name": "stderr"
        },
        {
          "output_type": "display_data",
          "data": {
            "image/png": "[encoded data removed]",
            "text/plain": [
              "<Figure size 432x288 with 1 Axes>"
            ]
          },
          "metadata": {
            "tags": [],
            "needs_background": "light"
          }
        },
        {
          "output_type": "display_data",
          "data": {
            "image/png": "[encoded data removed]",
            "text/plain": [
              "<Figure size 432x288 with 1 Axes>"
            ]
          },
          "metadata": {
            "tags": [],
            "needs_background": "light"
          }
        },
        {
          "output_type": "display_data",
          "data": {
            "image/png": "[encoded data removed]",
            "text/plain": [
              "<Figure size 432x288 with 1 Axes>"
            ]
          },
          "metadata": {
            "tags": [],
            "needs_background": "light"
          }
        },
        {
          "output_type": "display_data",
          "data": {
            "image/png": "[encoded data removed]",
            "text/plain": [
              "<Figure size 432x288 with 9 Axes>"
            ]
          },
          "metadata": {
            "tags": []
          }
        },
        {
          "output_type": "display_data",
          "data": {
            "image/png": "[encoded data removed]",
            "text/plain": [
              "<Figure size 432x288 with 9 Axes>"
            ]
          },
          "metadata": {
            "tags": []
          }
        },
        {
          "output_type": "display_data",
          "data": {
            "image/png": "[encoded data removed]",
            "text/plain": [
              "<Figure size 432x288 with 9 Axes>"
            ]
          },
          "metadata": {
            "tags": []
          }
        }
      ]
    },
    {
      "cell_type": "code",
      "metadata": {
        "id": "oigtRLjSc7Lo",
        "colab_type": "code",
        "colab": {}
      },
      "source": [
        "loadedNetwork = Net_2()\n",
        "loadedOptimizer = optim.SGD(network_2.parameters(), lr=learning_rate, momentum=momentum)\n",
        "\n",
        "loadedNetwork.load_state_dict(torch.load(\"mode_2_5.pth\"))\n",
        "loadedOptimizer.load_state_dict(torch.load(\"optimizer_2_5.pth\"))"
      ],
      "execution_count": 0,
      "outputs": []
    },
    {
      "cell_type": "code",
      "metadata": {
        "id": "x4o4Ub83c7Lq",
        "colab_type": "code",
        "outputId": "86ec3430-d7b5-4e53-d2c5-2a9aa4720e44",
        "colab": {}
      },
      "source": [
        "with torch.no_grad():\n",
        "    train_output = loadedNetwork(x_train)\n",
        "    \n",
        "train_softmax = torch.exp(train_output).cpu()\n",
        "train_prob = list(train_softmax.numpy())\n",
        "train_predictions = np.argmax(train_prob, axis=1)\n",
        "\n",
        "print('Training Set Accuracy in % : ', metrics.accuracy_score(y_train, train_predictions)*100)\n",
        "\n",
        "with torch.no_grad():\n",
        "    test_output = loadedNetwork(x_test)\n",
        "    \n",
        "test_softmax = torch.exp(test_output).cpu()\n",
        "test_prob = list(test_softmax.numpy())\n",
        "test_predictions = np.argmax(test_prob, axis=1)\n",
        "\n",
        "print('Test Set Accuracy in % : ', metrics.accuracy_score(y_test, test_predictions)*100)"
      ],
      "execution_count": 0,
      "outputs": [
        {
          "output_type": "stream",
          "text": [
            "Training Set Accuracy in % :  93.75\n",
            "Test Set Accuracy in % :  92.60000000000001\n"
          ],
          "name": "stdout"
        },
        {
          "output_type": "stream",
          "text": [
            "C:\\Users\\agarw\\AppData\\Roaming\\Python\\Python37\\site-packages\\ipykernel_launcher.py:37: UserWarning: Implicit dimension choice for log_softmax has been deprecated. Change the call to include dim=X as an argument.\n"
          ],
          "name": "stderr"
        }
      ]
    },
    {
      "cell_type": "code",
      "metadata": {
        "id": "7_H-HvqUc7Ls",
        "colab_type": "code",
        "outputId": "395f164a-99fc-409c-fa89-1972964b2dbb",
        "colab": {}
      },
      "source": [
        "x_test = x_test.numpy()\n",
        "x_test = flatten_input_pixels(x_test)\n",
        "vis_predictions(x_test, test_predictions, len(test_predictions))"
      ],
      "execution_count": 0,
      "outputs": [
        {
          "output_type": "display_data",
          "data": {
            "image/png": "[encoded data removed]",
            "text/plain": [
              "<Figure size 432x288 with 12 Axes>"
            ]
          },
          "metadata": {
            "tags": [],
            "needs_background": "light"
          }
        }
      ]
    },
    {
      "cell_type": "markdown",
      "metadata": {
        "colab_type": "text",
        "id": "Ex3qQp3JolD1"
      },
      "source": [
        "# 3. Summary\n",
        "\n",
        "kNN and SVM are amongst the most popularly used classification models. Neural Networks are also highly being used nowadays because of the accuracy that they provide. \n",
        "\n",
        "The criteria for judging these models would broadly consist of:\n",
        "</br>1) Time taken to train data\n",
        "</br>2) Time taken to predict over test data\n",
        "</br>3) Accuracy and error rate\n",
        "\n",
        "While kNN takes a lesser time to train over the data, it has lesser accuracy as compared to SVM and Neural Networks. The evaluation time for kNN is also larger than of SVM and NN. Of the three it is found that kNN < SVM < CNN in terms of accuracy and training time. \n",
        "The number of hyperparameters required to tune kNN is also primarily just the value of K, while it is possible to refine the SVM and Neural Network models with more hyperparameters, thus making it easier for the models to \"learn\" over the range of training data. \n",
        "The performance of kNN also worsens in proportion to the data it has to handle. SVM and CNN take a significant training time, but require minimal computation for classification on test data. "
      ]
    },
    {
      "cell_type": "code",
      "metadata": {
        "colab_type": "code",
        "id": "pa6rPT53LUW8",
        "colab": {}
      },
      "source": [
        ""
      ],
      "execution_count": 0,
      "outputs": []
    }
  ]
}